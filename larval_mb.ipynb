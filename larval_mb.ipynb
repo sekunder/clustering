{
 "cells": [
  {
   "cell_type": "markdown",
   "metadata": {},
   "source": [
    "# Larval Mushroom Body\n",
    "The code below will load the connectome of the mushroom body of a _Drosophila_ larva. In the end, there will be a pair of `pandas` DataFrames and a `networkx` DiGraph.\n",
    "\n",
    "If any of `bokeh`, `ipyvolume`, or `colorcet` don't load, you can safely comment out (or delete) those lines -- those packages are not necessary to do any of the analyses we've discussed. They could be useful for visualization down the road, so it's worth trying to install at least some of them.\n",
    "\n",
    "Data from the paper `The complete connectome of a learning and memory centre in an insect brain. Nature. 2017 August 09; 548(7666): 175–182. doi:10.1038/nature23455`"
   ]
  },
  {
   "cell_type": "code",
   "execution_count": 6,
   "metadata": {
    "scrolled": false
   },
   "outputs": [
    {
     "data": {
      "text/html": [
       "\n",
       "    <div class=\"bk-root\">\n",
       "        <a href=\"https://bokeh.org\" target=\"_blank\" class=\"bk-logo bk-logo-small bk-logo-notebook\"></a>\n",
       "        <span id=\"1002\">Loading BokehJS ...</span>\n",
       "    </div>"
      ]
     },
     "metadata": {},
     "output_type": "display_data"
    },
    {
     "data": {
      "application/javascript": [
       "\n",
       "(function(root) {\n",
       "  function now() {\n",
       "    return new Date();\n",
       "  }\n",
       "\n",
       "  const force = true;\n",
       "\n",
       "  if (typeof root._bokeh_onload_callbacks === \"undefined\" || force === true) {\n",
       "    root._bokeh_onload_callbacks = [];\n",
       "    root._bokeh_is_loading = undefined;\n",
       "  }\n",
       "\n",
       "  const JS_MIME_TYPE = 'application/javascript';\n",
       "  const HTML_MIME_TYPE = 'text/html';\n",
       "  const EXEC_MIME_TYPE = 'application/vnd.bokehjs_exec.v0+json';\n",
       "  const CLASS_NAME = 'output_bokeh rendered_html';\n",
       "\n",
       "  /**\n",
       "   * Render data to the DOM node\n",
       "   */\n",
       "  function render(props, node) {\n",
       "    const script = document.createElement(\"script\");\n",
       "    node.appendChild(script);\n",
       "  }\n",
       "\n",
       "  /**\n",
       "   * Handle when an output is cleared or removed\n",
       "   */\n",
       "  function handleClearOutput(event, handle) {\n",
       "    const cell = handle.cell;\n",
       "\n",
       "    const id = cell.output_area._bokeh_element_id;\n",
       "    const server_id = cell.output_area._bokeh_server_id;\n",
       "    // Clean up Bokeh references\n",
       "    if (id != null && id in Bokeh.index) {\n",
       "      Bokeh.index[id].model.document.clear();\n",
       "      delete Bokeh.index[id];\n",
       "    }\n",
       "\n",
       "    if (server_id !== undefined) {\n",
       "      // Clean up Bokeh references\n",
       "      const cmd_clean = \"from bokeh.io.state import curstate; print(curstate().uuid_to_server['\" + server_id + \"'].get_sessions()[0].document.roots[0]._id)\";\n",
       "      cell.notebook.kernel.execute(cmd_clean, {\n",
       "        iopub: {\n",
       "          output: function(msg) {\n",
       "            const id = msg.content.text.trim();\n",
       "            if (id in Bokeh.index) {\n",
       "              Bokeh.index[id].model.document.clear();\n",
       "              delete Bokeh.index[id];\n",
       "            }\n",
       "          }\n",
       "        }\n",
       "      });\n",
       "      // Destroy server and session\n",
       "      const cmd_destroy = \"import bokeh.io.notebook as ion; ion.destroy_server('\" + server_id + \"')\";\n",
       "      cell.notebook.kernel.execute(cmd_destroy);\n",
       "    }\n",
       "  }\n",
       "\n",
       "  /**\n",
       "   * Handle when a new output is added\n",
       "   */\n",
       "  function handleAddOutput(event, handle) {\n",
       "    const output_area = handle.output_area;\n",
       "    const output = handle.output;\n",
       "\n",
       "    // limit handleAddOutput to display_data with EXEC_MIME_TYPE content only\n",
       "    if ((output.output_type != \"display_data\") || (!Object.prototype.hasOwnProperty.call(output.data, EXEC_MIME_TYPE))) {\n",
       "      return\n",
       "    }\n",
       "\n",
       "    const toinsert = output_area.element.find(\".\" + CLASS_NAME.split(' ')[0]);\n",
       "\n",
       "    if (output.metadata[EXEC_MIME_TYPE][\"id\"] !== undefined) {\n",
       "      toinsert[toinsert.length - 1].firstChild.textContent = output.data[JS_MIME_TYPE];\n",
       "      // store reference to embed id on output_area\n",
       "      output_area._bokeh_element_id = output.metadata[EXEC_MIME_TYPE][\"id\"];\n",
       "    }\n",
       "    if (output.metadata[EXEC_MIME_TYPE][\"server_id\"] !== undefined) {\n",
       "      const bk_div = document.createElement(\"div\");\n",
       "      bk_div.innerHTML = output.data[HTML_MIME_TYPE];\n",
       "      const script_attrs = bk_div.children[0].attributes;\n",
       "      for (let i = 0; i < script_attrs.length; i++) {\n",
       "        toinsert[toinsert.length - 1].firstChild.setAttribute(script_attrs[i].name, script_attrs[i].value);\n",
       "        toinsert[toinsert.length - 1].firstChild.textContent = bk_div.children[0].textContent\n",
       "      }\n",
       "      // store reference to server id on output_area\n",
       "      output_area._bokeh_server_id = output.metadata[EXEC_MIME_TYPE][\"server_id\"];\n",
       "    }\n",
       "  }\n",
       "\n",
       "  function register_renderer(events, OutputArea) {\n",
       "\n",
       "    function append_mime(data, metadata, element) {\n",
       "      // create a DOM node to render to\n",
       "      const toinsert = this.create_output_subarea(\n",
       "        metadata,\n",
       "        CLASS_NAME,\n",
       "        EXEC_MIME_TYPE\n",
       "      );\n",
       "      this.keyboard_manager.register_events(toinsert);\n",
       "      // Render to node\n",
       "      const props = {data: data, metadata: metadata[EXEC_MIME_TYPE]};\n",
       "      render(props, toinsert[toinsert.length - 1]);\n",
       "      element.append(toinsert);\n",
       "      return toinsert\n",
       "    }\n",
       "\n",
       "    /* Handle when an output is cleared or removed */\n",
       "    events.on('clear_output.CodeCell', handleClearOutput);\n",
       "    events.on('delete.Cell', handleClearOutput);\n",
       "\n",
       "    /* Handle when a new output is added */\n",
       "    events.on('output_added.OutputArea', handleAddOutput);\n",
       "\n",
       "    /**\n",
       "     * Register the mime type and append_mime function with output_area\n",
       "     */\n",
       "    OutputArea.prototype.register_mime_type(EXEC_MIME_TYPE, append_mime, {\n",
       "      /* Is output safe? */\n",
       "      safe: true,\n",
       "      /* Index of renderer in `output_area.display_order` */\n",
       "      index: 0\n",
       "    });\n",
       "  }\n",
       "\n",
       "  // register the mime type if in Jupyter Notebook environment and previously unregistered\n",
       "  if (root.Jupyter !== undefined) {\n",
       "    const events = require('base/js/events');\n",
       "    const OutputArea = require('notebook/js/outputarea').OutputArea;\n",
       "\n",
       "    if (OutputArea.prototype.mime_types().indexOf(EXEC_MIME_TYPE) == -1) {\n",
       "      register_renderer(events, OutputArea);\n",
       "    }\n",
       "  }\n",
       "\n",
       "  \n",
       "  if (typeof (root._bokeh_timeout) === \"undefined\" || force === true) {\n",
       "    root._bokeh_timeout = Date.now() + 5000;\n",
       "    root._bokeh_failed_load = false;\n",
       "  }\n",
       "\n",
       "  const NB_LOAD_WARNING = {'data': {'text/html':\n",
       "     \"<div style='background-color: #fdd'>\\n\"+\n",
       "     \"<p>\\n\"+\n",
       "     \"BokehJS does not appear to have successfully loaded. If loading BokehJS from CDN, this \\n\"+\n",
       "     \"may be due to a slow or bad network connection. Possible fixes:\\n\"+\n",
       "     \"</p>\\n\"+\n",
       "     \"<ul>\\n\"+\n",
       "     \"<li>re-rerun `output_notebook()` to attempt to load from CDN again, or</li>\\n\"+\n",
       "     \"<li>use INLINE resources instead, as so:</li>\\n\"+\n",
       "     \"</ul>\\n\"+\n",
       "     \"<code>\\n\"+\n",
       "     \"from bokeh.resources import INLINE\\n\"+\n",
       "     \"output_notebook(resources=INLINE)\\n\"+\n",
       "     \"</code>\\n\"+\n",
       "     \"</div>\"}};\n",
       "\n",
       "  function display_loaded() {\n",
       "    const el = document.getElementById(\"1002\");\n",
       "    if (el != null) {\n",
       "      el.textContent = \"BokehJS is loading...\";\n",
       "    }\n",
       "    if (root.Bokeh !== undefined) {\n",
       "      if (el != null) {\n",
       "        el.textContent = \"BokehJS \" + root.Bokeh.version + \" successfully loaded.\";\n",
       "      }\n",
       "    } else if (Date.now() < root._bokeh_timeout) {\n",
       "      setTimeout(display_loaded, 100)\n",
       "    }\n",
       "  }\n",
       "\n",
       "\n",
       "  function run_callbacks() {\n",
       "    try {\n",
       "      root._bokeh_onload_callbacks.forEach(function(callback) {\n",
       "        if (callback != null)\n",
       "          callback();\n",
       "      });\n",
       "    } finally {\n",
       "      delete root._bokeh_onload_callbacks\n",
       "    }\n",
       "    console.debug(\"Bokeh: all callbacks have finished\");\n",
       "  }\n",
       "\n",
       "  function load_libs(css_urls, js_urls, callback) {\n",
       "    if (css_urls == null) css_urls = [];\n",
       "    if (js_urls == null) js_urls = [];\n",
       "\n",
       "    root._bokeh_onload_callbacks.push(callback);\n",
       "    if (root._bokeh_is_loading > 0) {\n",
       "      console.debug(\"Bokeh: BokehJS is being loaded, scheduling callback at\", now());\n",
       "      return null;\n",
       "    }\n",
       "    if (js_urls == null || js_urls.length === 0) {\n",
       "      run_callbacks();\n",
       "      return null;\n",
       "    }\n",
       "    console.debug(\"Bokeh: BokehJS not loaded, scheduling load and callback at\", now());\n",
       "    root._bokeh_is_loading = css_urls.length + js_urls.length;\n",
       "\n",
       "    function on_load() {\n",
       "      root._bokeh_is_loading--;\n",
       "      if (root._bokeh_is_loading === 0) {\n",
       "        console.debug(\"Bokeh: all BokehJS libraries/stylesheets loaded\");\n",
       "        run_callbacks()\n",
       "      }\n",
       "    }\n",
       "\n",
       "    function on_error(url) {\n",
       "      console.error(\"failed to load \" + url);\n",
       "    }\n",
       "\n",
       "    for (let i = 0; i < css_urls.length; i++) {\n",
       "      const url = css_urls[i];\n",
       "      const element = document.createElement(\"link\");\n",
       "      element.onload = on_load;\n",
       "      element.onerror = on_error.bind(null, url);\n",
       "      element.rel = \"stylesheet\";\n",
       "      element.type = \"text/css\";\n",
       "      element.href = url;\n",
       "      console.debug(\"Bokeh: injecting link tag for BokehJS stylesheet: \", url);\n",
       "      document.body.appendChild(element);\n",
       "    }\n",
       "\n",
       "    for (let i = 0; i < js_urls.length; i++) {\n",
       "      const url = js_urls[i];\n",
       "      const element = document.createElement('script');\n",
       "      element.onload = on_load;\n",
       "      element.onerror = on_error.bind(null, url);\n",
       "      element.async = false;\n",
       "      element.src = url;\n",
       "      console.debug(\"Bokeh: injecting script tag for BokehJS library: \", url);\n",
       "      document.head.appendChild(element);\n",
       "    }\n",
       "  };\n",
       "\n",
       "  function inject_raw_css(css) {\n",
       "    const element = document.createElement(\"style\");\n",
       "    element.appendChild(document.createTextNode(css));\n",
       "    document.body.appendChild(element);\n",
       "  }\n",
       "\n",
       "  \n",
       "  const js_urls = [\"https://cdn.bokeh.org/bokeh/release/bokeh-2.4.1.min.js\", \"https://cdn.bokeh.org/bokeh/release/bokeh-gl-2.4.1.min.js\", \"https://cdn.bokeh.org/bokeh/release/bokeh-widgets-2.4.1.min.js\", \"https://cdn.bokeh.org/bokeh/release/bokeh-tables-2.4.1.min.js\", \"https://cdn.bokeh.org/bokeh/release/bokeh-mathjax-2.4.1.min.js\"];\n",
       "  const css_urls = [];\n",
       "  \n",
       "\n",
       "  const inline_js = [\n",
       "    function(Bokeh) {\n",
       "      Bokeh.set_log_level(\"info\");\n",
       "    },\n",
       "    function(Bokeh) {\n",
       "    \n",
       "    \n",
       "    }\n",
       "  ];\n",
       "\n",
       "  function run_inline_js() {\n",
       "    \n",
       "    if (root.Bokeh !== undefined || force === true) {\n",
       "      \n",
       "    for (let i = 0; i < inline_js.length; i++) {\n",
       "      inline_js[i].call(root, root.Bokeh);\n",
       "    }\n",
       "    if (force === true) {\n",
       "        display_loaded();\n",
       "      }} else if (Date.now() < root._bokeh_timeout) {\n",
       "      setTimeout(run_inline_js, 100);\n",
       "    } else if (!root._bokeh_failed_load) {\n",
       "      console.log(\"Bokeh: BokehJS failed to load within specified timeout.\");\n",
       "      root._bokeh_failed_load = true;\n",
       "    } else if (force !== true) {\n",
       "      const cell = $(document.getElementById(\"1002\")).parents('.cell').data().cell;\n",
       "      cell.output_area.append_execute_result(NB_LOAD_WARNING)\n",
       "    }\n",
       "\n",
       "  }\n",
       "\n",
       "  if (root._bokeh_is_loading === 0) {\n",
       "    console.debug(\"Bokeh: BokehJS loaded, going straight to plotting\");\n",
       "    run_inline_js();\n",
       "  } else {\n",
       "    load_libs(css_urls, js_urls, function() {\n",
       "      console.debug(\"Bokeh: BokehJS plotting callback run at\", now());\n",
       "      run_inline_js();\n",
       "    });\n",
       "  }\n",
       "}(window));"
      ],
      "application/vnd.bokehjs_load.v0+json": "\n(function(root) {\n  function now() {\n    return new Date();\n  }\n\n  const force = true;\n\n  if (typeof root._bokeh_onload_callbacks === \"undefined\" || force === true) {\n    root._bokeh_onload_callbacks = [];\n    root._bokeh_is_loading = undefined;\n  }\n\n  \n\n  \n  if (typeof (root._bokeh_timeout) === \"undefined\" || force === true) {\n    root._bokeh_timeout = Date.now() + 5000;\n    root._bokeh_failed_load = false;\n  }\n\n  const NB_LOAD_WARNING = {'data': {'text/html':\n     \"<div style='background-color: #fdd'>\\n\"+\n     \"<p>\\n\"+\n     \"BokehJS does not appear to have successfully loaded. If loading BokehJS from CDN, this \\n\"+\n     \"may be due to a slow or bad network connection. Possible fixes:\\n\"+\n     \"</p>\\n\"+\n     \"<ul>\\n\"+\n     \"<li>re-rerun `output_notebook()` to attempt to load from CDN again, or</li>\\n\"+\n     \"<li>use INLINE resources instead, as so:</li>\\n\"+\n     \"</ul>\\n\"+\n     \"<code>\\n\"+\n     \"from bokeh.resources import INLINE\\n\"+\n     \"output_notebook(resources=INLINE)\\n\"+\n     \"</code>\\n\"+\n     \"</div>\"}};\n\n  function display_loaded() {\n    const el = document.getElementById(\"1002\");\n    if (el != null) {\n      el.textContent = \"BokehJS is loading...\";\n    }\n    if (root.Bokeh !== undefined) {\n      if (el != null) {\n        el.textContent = \"BokehJS \" + root.Bokeh.version + \" successfully loaded.\";\n      }\n    } else if (Date.now() < root._bokeh_timeout) {\n      setTimeout(display_loaded, 100)\n    }\n  }\n\n\n  function run_callbacks() {\n    try {\n      root._bokeh_onload_callbacks.forEach(function(callback) {\n        if (callback != null)\n          callback();\n      });\n    } finally {\n      delete root._bokeh_onload_callbacks\n    }\n    console.debug(\"Bokeh: all callbacks have finished\");\n  }\n\n  function load_libs(css_urls, js_urls, callback) {\n    if (css_urls == null) css_urls = [];\n    if (js_urls == null) js_urls = [];\n\n    root._bokeh_onload_callbacks.push(callback);\n    if (root._bokeh_is_loading > 0) {\n      console.debug(\"Bokeh: BokehJS is being loaded, scheduling callback at\", now());\n      return null;\n    }\n    if (js_urls == null || js_urls.length === 0) {\n      run_callbacks();\n      return null;\n    }\n    console.debug(\"Bokeh: BokehJS not loaded, scheduling load and callback at\", now());\n    root._bokeh_is_loading = css_urls.length + js_urls.length;\n\n    function on_load() {\n      root._bokeh_is_loading--;\n      if (root._bokeh_is_loading === 0) {\n        console.debug(\"Bokeh: all BokehJS libraries/stylesheets loaded\");\n        run_callbacks()\n      }\n    }\n\n    function on_error(url) {\n      console.error(\"failed to load \" + url);\n    }\n\n    for (let i = 0; i < css_urls.length; i++) {\n      const url = css_urls[i];\n      const element = document.createElement(\"link\");\n      element.onload = on_load;\n      element.onerror = on_error.bind(null, url);\n      element.rel = \"stylesheet\";\n      element.type = \"text/css\";\n      element.href = url;\n      console.debug(\"Bokeh: injecting link tag for BokehJS stylesheet: \", url);\n      document.body.appendChild(element);\n    }\n\n    for (let i = 0; i < js_urls.length; i++) {\n      const url = js_urls[i];\n      const element = document.createElement('script');\n      element.onload = on_load;\n      element.onerror = on_error.bind(null, url);\n      element.async = false;\n      element.src = url;\n      console.debug(\"Bokeh: injecting script tag for BokehJS library: \", url);\n      document.head.appendChild(element);\n    }\n  };\n\n  function inject_raw_css(css) {\n    const element = document.createElement(\"style\");\n    element.appendChild(document.createTextNode(css));\n    document.body.appendChild(element);\n  }\n\n  \n  const js_urls = [\"https://cdn.bokeh.org/bokeh/release/bokeh-2.4.1.min.js\", \"https://cdn.bokeh.org/bokeh/release/bokeh-gl-2.4.1.min.js\", \"https://cdn.bokeh.org/bokeh/release/bokeh-widgets-2.4.1.min.js\", \"https://cdn.bokeh.org/bokeh/release/bokeh-tables-2.4.1.min.js\", \"https://cdn.bokeh.org/bokeh/release/bokeh-mathjax-2.4.1.min.js\"];\n  const css_urls = [];\n  \n\n  const inline_js = [\n    function(Bokeh) {\n      Bokeh.set_log_level(\"info\");\n    },\n    function(Bokeh) {\n    \n    \n    }\n  ];\n\n  function run_inline_js() {\n    \n    if (root.Bokeh !== undefined || force === true) {\n      \n    for (let i = 0; i < inline_js.length; i++) {\n      inline_js[i].call(root, root.Bokeh);\n    }\n    if (force === true) {\n        display_loaded();\n      }} else if (Date.now() < root._bokeh_timeout) {\n      setTimeout(run_inline_js, 100);\n    } else if (!root._bokeh_failed_load) {\n      console.log(\"Bokeh: BokehJS failed to load within specified timeout.\");\n      root._bokeh_failed_load = true;\n    } else if (force !== true) {\n      const cell = $(document.getElementById(\"1002\")).parents('.cell').data().cell;\n      cell.output_area.append_execute_result(NB_LOAD_WARNING)\n    }\n\n  }\n\n  if (root._bokeh_is_loading === 0) {\n    console.debug(\"Bokeh: BokehJS loaded, going straight to plotting\");\n    run_inline_js();\n  } else {\n    load_libs(css_urls, js_urls, function() {\n      console.debug(\"Bokeh: BokehJS plotting callback run at\", now());\n      run_inline_js();\n    });\n  }\n}(window));"
     },
     "metadata": {},
     "output_type": "display_data"
    },
    {
     "name": "stdout",
     "output_type": "stream",
     "text": [
      "2022 08 12 13:16:06  Imports complete\n",
      "2022 08 12 13:16:06  Reading neuron information from larval_MB/skeletons.csv\n",
      "2022 08 12 13:16:06  'skeleton_id' is the unique ID number for each neuron\n",
      "2022 08 12 13:16:06  'treenode_id' gives an idea of the size of the neuron (not an exact correspondence)\n",
      "2022 08 12 13:16:06  'x','y','z' are the coordinates of the centroid of the neuron\n"
     ]
    },
    {
     "data": {
      "text/html": [
       "<div>\n",
       "<style scoped>\n",
       "    .dataframe tbody tr th:only-of-type {\n",
       "        vertical-align: middle;\n",
       "    }\n",
       "\n",
       "    .dataframe tbody tr th {\n",
       "        vertical-align: top;\n",
       "    }\n",
       "\n",
       "    .dataframe thead th {\n",
       "        text-align: right;\n",
       "    }\n",
       "</style>\n",
       "<table border=\"1\" class=\"dataframe\">\n",
       "  <thead>\n",
       "    <tr style=\"text-align: right;\">\n",
       "      <th></th>\n",
       "      <th>neuron</th>\n",
       "      <th>treenode_id</th>\n",
       "      <th>x</th>\n",
       "      <th>y</th>\n",
       "      <th>z</th>\n",
       "    </tr>\n",
       "    <tr>\n",
       "      <th>skeleton_id</th>\n",
       "      <th></th>\n",
       "      <th></th>\n",
       "      <th></th>\n",
       "      <th></th>\n",
       "      <th></th>\n",
       "    </tr>\n",
       "  </thead>\n",
       "  <tbody>\n",
       "    <tr>\n",
       "      <th>29</th>\n",
       "      <td>KC #0 #29</td>\n",
       "      <td>2955</td>\n",
       "      <td>31438.829002</td>\n",
       "      <td>24738.514146</td>\n",
       "      <td>44077.377327</td>\n",
       "    </tr>\n",
       "    <tr>\n",
       "      <th>677717</th>\n",
       "      <td>KC1 #677717</td>\n",
       "      <td>2202</td>\n",
       "      <td>31859.598501</td>\n",
       "      <td>23931.804768</td>\n",
       "      <td>45046.389646</td>\n",
       "    </tr>\n",
       "    <tr>\n",
       "      <th>2506050</th>\n",
       "      <td>DAN-f1 right #2506050</td>\n",
       "      <td>5820</td>\n",
       "      <td>39767.371186</td>\n",
       "      <td>25165.836804</td>\n",
       "      <td>37174.785223</td>\n",
       "    </tr>\n",
       "    <tr>\n",
       "      <th>2612527</th>\n",
       "      <td>mPN iACT C2 mPN iACT C2 left #2612527</td>\n",
       "      <td>4963</td>\n",
       "      <td>73652.089119</td>\n",
       "      <td>52960.231211</td>\n",
       "      <td>48689.502317</td>\n",
       "    </tr>\n",
       "    <tr>\n",
       "      <th>2921933</th>\n",
       "      <td>V1: possible PVL005 - 3 Right? #2921933</td>\n",
       "      <td>2983</td>\n",
       "      <td>22915.473416</td>\n",
       "      <td>22456.512504</td>\n",
       "      <td>59368.488099</td>\n",
       "    </tr>\n",
       "    <tr>\n",
       "      <th>...</th>\n",
       "      <td>...</td>\n",
       "      <td>...</td>\n",
       "      <td>...</td>\n",
       "      <td>...</td>\n",
       "      <td>...</td>\n",
       "    </tr>\n",
       "    <tr>\n",
       "      <th>17476934</th>\n",
       "      <td>KC very young #17476934</td>\n",
       "      <td>14</td>\n",
       "      <td>31299.242857</td>\n",
       "      <td>8498.700000</td>\n",
       "      <td>66775.000000</td>\n",
       "    </tr>\n",
       "    <tr>\n",
       "      <th>17476964</th>\n",
       "      <td>KC very young #17476964</td>\n",
       "      <td>8</td>\n",
       "      <td>31566.600000</td>\n",
       "      <td>7060.875000</td>\n",
       "      <td>64100.000000</td>\n",
       "    </tr>\n",
       "    <tr>\n",
       "      <th>17476975</th>\n",
       "      <td>KC very young #17476975</td>\n",
       "      <td>2</td>\n",
       "      <td>32269.600000</td>\n",
       "      <td>6718.400000</td>\n",
       "      <td>63300.000000</td>\n",
       "    </tr>\n",
       "    <tr>\n",
       "      <th>17884299</th>\n",
       "      <td>Gustatory PN right #17884299</td>\n",
       "      <td>2248</td>\n",
       "      <td>34652.293683</td>\n",
       "      <td>38497.999911</td>\n",
       "      <td>46758.696619</td>\n",
       "    </tr>\n",
       "    <tr>\n",
       "      <th>18028397</th>\n",
       "      <td>MBON-k1 right #18028397</td>\n",
       "      <td>4333</td>\n",
       "      <td>65048.535841</td>\n",
       "      <td>36495.051973</td>\n",
       "      <td>39425.317332</td>\n",
       "    </tr>\n",
       "  </tbody>\n",
       "</table>\n",
       "<p>387 rows × 5 columns</p>\n",
       "</div>"
      ],
      "text/plain": [
       "                                              neuron  treenode_id  \\\n",
       "skeleton_id                                                         \n",
       "29                                         KC #0 #29         2955   \n",
       "677717                                   KC1 #677717         2202   \n",
       "2506050                        DAN-f1 right #2506050         5820   \n",
       "2612527        mPN iACT C2 mPN iACT C2 left #2612527         4963   \n",
       "2921933      V1: possible PVL005 - 3 Right? #2921933         2983   \n",
       "...                                              ...          ...   \n",
       "17476934                     KC very young #17476934           14   \n",
       "17476964                     KC very young #17476964            8   \n",
       "17476975                     KC very young #17476975            2   \n",
       "17884299                Gustatory PN right #17884299         2248   \n",
       "18028397                     MBON-k1 right #18028397         4333   \n",
       "\n",
       "                        x             y             z  \n",
       "skeleton_id                                            \n",
       "29           31438.829002  24738.514146  44077.377327  \n",
       "677717       31859.598501  23931.804768  45046.389646  \n",
       "2506050      39767.371186  25165.836804  37174.785223  \n",
       "2612527      73652.089119  52960.231211  48689.502317  \n",
       "2921933      22915.473416  22456.512504  59368.488099  \n",
       "...                   ...           ...           ...  \n",
       "17476934     31299.242857   8498.700000  66775.000000  \n",
       "17476964     31566.600000   7060.875000  64100.000000  \n",
       "17476975     32269.600000   6718.400000  63300.000000  \n",
       "17884299     34652.293683  38497.999911  46758.696619  \n",
       "18028397     65048.535841  36495.051973  39425.317332  \n",
       "\n",
       "[387 rows x 5 columns]"
      ]
     },
     "metadata": {},
     "output_type": "display_data"
    },
    {
     "name": "stdout",
     "output_type": "stream",
     "text": [
      "2022 08 12 13:16:06  Reading synapse data from larval_MB/synapses.csv\n",
      "2022 08 12 13:16:06  Aggregating synapses into weighted graph\n"
     ]
    },
    {
     "data": {
      "text/html": [
       "<div>\n",
       "<style scoped>\n",
       "    .dataframe tbody tr th:only-of-type {\n",
       "        vertical-align: middle;\n",
       "    }\n",
       "\n",
       "    .dataframe tbody tr th {\n",
       "        vertical-align: top;\n",
       "    }\n",
       "\n",
       "    .dataframe thead th {\n",
       "        text-align: right;\n",
       "    }\n",
       "</style>\n",
       "<table border=\"1\" class=\"dataframe\">\n",
       "  <thead>\n",
       "    <tr style=\"text-align: right;\">\n",
       "      <th></th>\n",
       "      <th>pre_skeleton_id</th>\n",
       "      <th>post_skeleton_id</th>\n",
       "      <th>weight</th>\n",
       "    </tr>\n",
       "  </thead>\n",
       "  <tbody>\n",
       "    <tr>\n",
       "      <th>0</th>\n",
       "      <td>29</td>\n",
       "      <td>2506050</td>\n",
       "      <td>2</td>\n",
       "    </tr>\n",
       "    <tr>\n",
       "      <th>1</th>\n",
       "      <td>29</td>\n",
       "      <td>3234817</td>\n",
       "      <td>10</td>\n",
       "    </tr>\n",
       "    <tr>\n",
       "      <th>2</th>\n",
       "      <td>29</td>\n",
       "      <td>3299214</td>\n",
       "      <td>4</td>\n",
       "    </tr>\n",
       "    <tr>\n",
       "      <th>3</th>\n",
       "      <td>29</td>\n",
       "      <td>3347834</td>\n",
       "      <td>8</td>\n",
       "    </tr>\n",
       "    <tr>\n",
       "      <th>4</th>\n",
       "      <td>29</td>\n",
       "      <td>3522293</td>\n",
       "      <td>8</td>\n",
       "    </tr>\n",
       "    <tr>\n",
       "      <th>...</th>\n",
       "      <td>...</td>\n",
       "      <td>...</td>\n",
       "      <td>...</td>\n",
       "    </tr>\n",
       "    <tr>\n",
       "      <th>38759</th>\n",
       "      <td>19276024</td>\n",
       "      <td>3756659</td>\n",
       "      <td>1</td>\n",
       "    </tr>\n",
       "    <tr>\n",
       "      <th>38760</th>\n",
       "      <td>19276024</td>\n",
       "      <td>4152020</td>\n",
       "      <td>2</td>\n",
       "    </tr>\n",
       "    <tr>\n",
       "      <th>38761</th>\n",
       "      <td>19276024</td>\n",
       "      <td>4391978</td>\n",
       "      <td>1</td>\n",
       "    </tr>\n",
       "    <tr>\n",
       "      <th>38762</th>\n",
       "      <td>19276024</td>\n",
       "      <td>7020344</td>\n",
       "      <td>1</td>\n",
       "    </tr>\n",
       "    <tr>\n",
       "      <th>38763</th>\n",
       "      <td>19276024</td>\n",
       "      <td>7971031</td>\n",
       "      <td>5</td>\n",
       "    </tr>\n",
       "  </tbody>\n",
       "</table>\n",
       "<p>38764 rows × 3 columns</p>\n",
       "</div>"
      ],
      "text/plain": [
       "       pre_skeleton_id  post_skeleton_id  weight\n",
       "0                   29           2506050       2\n",
       "1                   29           3234817      10\n",
       "2                   29           3299214       4\n",
       "3                   29           3347834       8\n",
       "4                   29           3522293       8\n",
       "...                ...               ...     ...\n",
       "38759         19276024           3756659       1\n",
       "38760         19276024           4152020       2\n",
       "38761         19276024           4391978       1\n",
       "38762         19276024           7020344       1\n",
       "38763         19276024           7971031       5\n",
       "\n",
       "[38764 rows x 3 columns]"
      ]
     },
     "metadata": {},
     "output_type": "display_data"
    },
    {
     "name": "stdout",
     "output_type": "stream",
     "text": [
      "2022 08 12 13:16:06  Generating networkx directed graph\n"
     ]
    }
   ],
   "source": [
    "import os, sys\n",
    "import datetime\n",
    "import time\n",
    "import pandas as pd\n",
    "import numpy as np\n",
    "import networkx as nx\n",
    "from scipy import sparse as sp\n",
    "\n",
    "# from itertools import combinations, combinations_with_replacement\n",
    "# from functools import reduce\n",
    "\n",
    "import matplotlib.pyplot as plt\n",
    "\n",
    "import bokeh\n",
    "from bokeh.io import output_notebook, output_file, show, save\n",
    "from bokeh.plotting import figure\n",
    "from bokeh.models import (Rect, MultiLine, Circle, Span, Label,\n",
    "                          GraphRenderer, StaticLayoutProvider,\n",
    "                          NodesAndLinkedEdges,\n",
    "                          HoverTool, TapTool, ColumnDataSource,\n",
    "                          LinearColorMapper, LogColorMapper, BoxSelectTool,\n",
    "                          ColorBar, BasicTicker, BoxZoomTool, FactorRange)\n",
    "from bokeh.models import CategoricalTicker, FixedTicker, BoxAnnotation\n",
    "from bokeh.models import Arrow, NormalHead, OpenHead, VeeHead, LabelSet\n",
    "\n",
    "from bokeh.transform import transform, factor_cmap, linear_cmap, log_cmap\n",
    "from bokeh.layouts import row, column, gridplot\n",
    "output_notebook()\n",
    "\n",
    "import ipyvolume as ipv\n",
    "\n",
    "import colorcet as cc\n",
    "\n",
    "def log_msg(*args, out=sys.stdout, **kwargs):\n",
    "    \"\"\"Print message m with a timestamp if out is not None.\"\"\"\n",
    "    if out:\n",
    "        print(datetime.datetime.now().strftime(\"%Y %m %d %H:%M:%S \"), *args, **kwargs, file=out)\n",
    "\n",
    "\n",
    "\n",
    "\n",
    "log_msg(\"Imports complete\")\n",
    "\n",
    "log_msg(\"Reading neuron information from larval_MB/skeletons.csv\")\n",
    "larval_MB_skeletons = pd.read_csv(\"larval_MB/skeletons.csv\")\n",
    "larval_MB_skeletons.columns = [c.strip() for c in larval_MB_skeletons.columns]\n",
    "larval_MB_skeletons.parent_treenode_id.fillna(-1, inplace=True)\n",
    "larval_MB_skeletons.parent_treenode_id = larval_MB_skeletons.parent_treenode_id.astype(int)\n",
    "\n",
    "log_msg(\"'skeleton_id' is the unique ID number for each neuron\")\n",
    "log_msg(\"'treenode_id' gives an idea of the size of the neuron (not an exact correspondence)\")\n",
    "log_msg(\"'x','y','z' are the coordinates of the centroid of the neuron\")\n",
    "larval_neuron_df = larval_MB_skeletons.groupby(\"skeleton_id\").agg({\"neuron\":\"first\", \"treenode_id\":\"count\", \"x\":\"mean\", \"y\":\"mean\", \"z\":\"mean\"})\n",
    "# larval_neuron_df #.reset_index().set_index(\"skeleton_id\")\n",
    "# with pd.option_context(\"display.max_rows\",1000):\n",
    "display(larval_neuron_df)\n",
    "\n",
    "log_msg(\"Reading synapse data from larval_MB/synapses.csv\")\n",
    "larval_synapse_df = pd.read_csv(\"larval_MB/synapses.csv\")\n",
    "log_msg(\"Aggregating synapses into weighted graph\")\n",
    "weighted_edges = larval_synapse_df.groupby(['pre_skeleton_id', 'post_skeleton_id']).agg({'pre_treenode_id':'count'})\n",
    "weighted_edges = weighted_edges.rename(columns={'pre_treenode_id':'weight'}).reset_index()\n",
    "display(weighted_edges)\n",
    "# .to_csv('larval_MB/weighted_edges.csv', index=False)\n",
    "\n",
    "log_msg(\"Generating networkx directed graph\")\n",
    "g = nx.from_pandas_edgelist(weighted_edges,\n",
    "                            source=\"pre_skeleton_id\",\n",
    "                            target=\"post_skeleton_id\",\n",
    "                            edge_attr=[\"weight\"],\n",
    "                            create_using=nx.DiGraph)"
   ]
  },
  {
   "cell_type": "code",
   "execution_count": 9,
   "metadata": {
    "scrolled": false
   },
   "outputs": [
    {
     "data": {
      "application/vnd.plotly.v1+json": {
       "config": {
        "plotlyServerURL": "https://plot.ly"
       },
       "data": [
        {
         "mode": "markers",
         "type": "scatter3d",
         "x": [
          31438.829001692047,
          31859.5985013624,
          39767.37118556701,
          73652.08911948418,
          22915.47341602414,
          30632.631939877876,
          46000.29754773493,
          31292.21222010481,
          31728.937961044343,
          70680.37401771519,
          75744.6570525484,
          30852.94311081881,
          30723.41812758146,
          28030.7862244898,
          30861.775695159628,
          28567.01881950385,
          29895.73583243824,
          27885.87305084746,
          27916.660938910623,
          52588.88285511027,
          49679.3198969212,
          29138.24478330658,
          52051.800584128796,
          74939.40519203414,
          73527.21123128121,
          64833.39298628029,
          40900.757713728766,
          55563.2080794702,
          37644.88085817404,
          78391.2396715098,
          74432.5890974967,
          30111.779121540312,
          73692.30974195419,
          31026.20161912105,
          78150.86765472313,
          44544.72547830145,
          31335.968929425835,
          32743.757920681153,
          29263.661653611834,
          30954.519712047426,
          31047.67702105537,
          43814.498481501934,
          37655.42977513569,
          30014.829275692075,
          32404.325860297897,
          37066.57101542417,
          76539.42162588793,
          53850.311513921115,
          53071.43038746909,
          33394.53021276595,
          30602.08309178744,
          76227.22209181012,
          74261.961682243,
          75086.54190002618,
          74114.34440853265,
          62698.35087057979,
          44202.46995603322,
          31216.343438372558,
          31975.542711741185,
          31164.50925799864,
          76211.14672796107,
          75770.53339658443,
          39730.701798253125,
          30373.48034119418,
          28069.857617290458,
          82032.73746970431,
          28277.058933333334,
          30845.818024928092,
          44154.53190076869,
          29213.641723955578,
          30795.361852260197,
          76685.2158283341,
          31778.7667467708,
          30865.042786439,
          77128.35435498354,
          31562.377919956438,
          31075.275091844233,
          31064.784348181445,
          32664.511958456973,
          31091.98110267679,
          30921.26706882369,
          31925.843348679427,
          31623.015733590735,
          75690.74906672387,
          40088.56604016754,
          45217.15024424285,
          31472.11177024482,
          73496.41707119741,
          30310.374456675134,
          74778.54459203036,
          48487.129782937904,
          68160.30548128342,
          65547.93909125048,
          74564.48786433492,
          77248.03977207978,
          77264.23684863524,
          77079.44563106795,
          31303.700630472853,
          76886.3781445646,
          31357.08108108108,
          76234.35820189276,
          17894.7593625,
          29841.506203241897,
          30430.990150970523,
          32636.791668732953,
          52107.85340055782,
          32100.908109965632,
          30594.722921575227,
          30307.37790368272,
          29884.25006684492,
          29624.35189092902,
          75498.45461113472,
          77431.66183460076,
          74714.56097222221,
          75599.72459194777,
          76194.66853516657,
          77330.41872146119,
          73145.3845037725,
          74316.0073452256,
          28199.056995531108,
          76747.9687931735,
          31272.113991213246,
          28673.248156748912,
          64360.22438195886,
          78517.99128125,
          77226.27428856715,
          55645.83428964884,
          48609.74300778308,
          22518.20262080262,
          78621.63139381986,
          74163.01348314606,
          77894.93062446536,
          30907.838805970146,
          32683.10793298842,
          30391.351476456504,
          25674.37791489362,
          85431.46538461538,
          77412.84193098641,
          30474.533428300096,
          74290.03100969053,
          29210.2075273523,
          29415.576842450046,
          29860.893349553935,
          28483.47275051125,
          30407.786942328617,
          27805.752554438863,
          28189.336356242373,
          28232.54226044226,
          28008.393668370245,
          27267.983034026467,
          28412.109019607844,
          28540.467949367092,
          28561.107091518927,
          73134.8957261575,
          30038.824386422977,
          27549.48894189072,
          29069.17710931768,
          27899.579463899696,
          27067.32773536896,
          27852.61835084883,
          27973.68193548387,
          28122.753260869562,
          23900.31666666667,
          74721.04979708762,
          75565.92450038432,
          75170.70892182505,
          75331.37383026782,
          75859.75406767458,
          30956.18214647317,
          41671.89657953281,
          74115.86419947507,
          50371.70892631579,
          60512.823435267215,
          74443.66024590164,
          77729.37897350993,
          31889.08515519568,
          31975.268411442485,
          30606.503466204507,
          31830.231759805625,
          31746.453229571984,
          75219.96203341628,
          30813.43540156567,
          21561.043868153174,
          55578.2955550384,
          31074.321880246225,
          32539.110551948055,
          33568.54850640114,
          35548.3925170068,
          30103.985278654047,
          36552.633460076046,
          38159.04146341463,
          29542.239451728245,
          30450.46548004315,
          60967.25933384973,
          30543.614497639915,
          31618.42270657124,
          74988.5902613828,
          76249.7147310723,
          66239.22143661337,
          31460.050941526264,
          64415.10521229869,
          31121.000520624748,
          31105.61711009174,
          30930.526820443236,
          26075.974839797636,
          31271.13142751752,
          30012.31335311573,
          40655.52781014024,
          67705.5259515571,
          22735.958919639877,
          28322.625272331155,
          25561.939658399624,
          30527.802032019703,
          29639.279863481228,
          30302.35648610121,
          30853.782883939042,
          31118.702155718995,
          28039.474209486165,
          29577.071655753043,
          32783.16073170732,
          32841.15932599266,
          30156.619536297985,
          30052.181753197892,
          29178.30968967701,
          81379.05951219512,
          50590.97700793497,
          30553.345033112582,
          29497.055319148934,
          29224.472794117646,
          29248.58175787728,
          33832.39081173699,
          29627.083161740287,
          30988.585727818125,
          30661.151940415522,
          31221.57596930533,
          30929.552526132407,
          73851.74467043314,
          30726.2434400949,
          35069.988375273526,
          40018.60030046948,
          30537.00654450262,
          30104.56586867305,
          31378.222174909923,
          74045.4844765343,
          74733.27288209608,
          52728.94084967321,
          75859.11443935471,
          73343.20296589224,
          28188.333306613225,
          71784.8370904325,
          30309.074236252545,
          41546.68127669673,
          52326.70361538461,
          74867.36232294618,
          74751.65675559381,
          76158.45647848793,
          73366.84112848403,
          74529.3139607032,
          30333.806946231023,
          48533.418870728085,
          74398.04326078657,
          68264.6798656759,
          74607.17574618096,
          66143.40198273852,
          61880.641270987544,
          80954.85026881722,
          27027.639468117257,
          49054.15450573457,
          79077.60840229153,
          74710.754254819,
          74310.61528150133,
          74486.2932724814,
          74709.39424792372,
          73933.31067683508,
          77311.08250510551,
          29598.797840046704,
          28118.24463203463,
          74330.5407419786,
          74322.73082143693,
          72691.68476821193,
          66136.79832644221,
          78781.60797713042,
          52618.60935745477,
          64280.90436602871,
          74744.24934778926,
          63251.300795228635,
          38024.03131164743,
          73833.31204013378,
          74612.53148765845,
          75016.79445196211,
          74462.49539849623,
          73583.50546075085,
          74563.86419249592,
          72624.94393162393,
          74937.58722879685,
          65658.27969543147,
          74069.41822222222,
          73255.40919185687,
          68923.74044265594,
          72956.66836065573,
          73877.52793089264,
          73290.72150997151,
          73518.21082173327,
          74023.57850821746,
          73859.57687074831,
          73242.68689956333,
          73866.0643444227,
          74215.45871474803,
          75492.91186440678,
          74299.15104369607,
          72405.36298932384,
          75934.21738261738,
          72803.37934782609,
          73282.52854971116,
          32572.017456359103,
          31427.65691343517,
          75235.53628126133,
          74667.38203414995,
          80283.78151271753,
          41121.08015172901,
          78201.82047923323,
          48067.23737098345,
          75455.48344066237,
          74446.01164004914,
          74411.60345078097,
          73758.87770952172,
          73839.12060491493,
          74932.02877583467,
          73926.82567567567,
          71976.2797979798,
          73743.00796460177,
          74781.0172413793,
          73513.04558537534,
          74915.0280882353,
          72803.22853894258,
          68493.90968379447,
          76049.01162296244,
          74771.6256768559,
          75268.65554899645,
          75403.87896625987,
          78102.31358609795,
          74562.7572996707,
          40376.53541910331,
          30459.63940333204,
          73985.27310012063,
          74002.80091647028,
          73951.44507206856,
          74791.67520340953,
          75844.69485834207,
          75071.4089377793,
          75018.29804796432,
          73772.90974607917,
          75841.8440677966,
          73441.27983807783,
          75717.51946854664,
          73896.89988235294,
          75863.95381000335,
          74585.2175944334,
          73864.93821284239,
          31125.83307610431,
          79432.96751995596,
          50644.430838103624,
          52735.19168081494,
          56828.3713713268,
          46079.46282673637,
          31748.88848054355,
          67655.02087594486,
          67505.31165165166,
          74259.9614298323,
          74526.0354786371,
          38459.586132660974,
          68715.65445976364,
          53595.66733449478,
          74924.23694267515,
          79429.8200053778,
          52148.42093757043,
          66780.24554495637,
          61216.87925654854,
          71459.06949152541,
          32703.02,
          27892.542857142857,
          27238.942857142858,
          31299.242857142857,
          31566.6,
          32269.6,
          34652.29368327402,
          65048.53584121856
         ],
         "y": [
          24738.514145516074,
          23931.804768392372,
          25165.836804123708,
          52960.231210961116,
          22456.51250419041,
          25723.673062470643,
          30889.74009734182,
          28678.16893758933,
          25089.75996684625,
          45960.288235294116,
          44988.07534571316,
          24768.100460374877,
          25353.10174391923,
          24915.482823129252,
          25786.188568486097,
          27434.352138579983,
          29095.50461868958,
          25070.944576271188,
          42704.456816130005,
          49786.485202750766,
          48282.05151227452,
          39046.2444622793,
          50148.63953554637,
          28402.03122332859,
          27927.204409317805,
          36681.563264521086,
          22998.013854079643,
          45566.16584988963,
          32569.403422002408,
          43103.52694251422,
          30284.671014492753,
          51208.181092057755,
          32520.384488257463,
          20370.048222821897,
          41734.835146579804,
          33773.76021931871,
          28463.94111842105,
          27937.497535290164,
          28112.3745691906,
          28799.41401651493,
          29726.01232128932,
          33047.34436775262,
          33168.80043939003,
          32849.33481228669,
          27026.003644067798,
          35451.02420736932,
          40756.62647987372,
          42470.22134570765,
          31081.719422918388,
          51421.6124822695,
          40234.11018884498,
          36106.38158581116,
          31800.421116443547,
          31657.65200209369,
          32486.65559146736,
          32686.032148626815,
          31883.586174890082,
          24742.435101715197,
          28361.41846601236,
          28104.146051735872,
          42671.53217955652,
          31688.58753953194,
          39198.264189073474,
          33316.99189663823,
          28237.076805482342,
          26999.48734852157,
          39345.260304761905,
          40666.076701821665,
          33633.33073025856,
          24500.69116869381,
          23815.282984196987,
          32033.642131979694,
          28920.967167317514,
          28459.35392229646,
          36566.90197545645,
          27037.97069425538,
          25014.48464364438,
          27279.058929301187,
          28136.18706231454,
          24886.286260487414,
          28876.538552234713,
          29180.723673370485,
          25791.045012870014,
          31683.972387899594,
          34917.22252174847,
          29755.535223307746,
          34922.786001255496,
          28614.916686893204,
          29032.64129268981,
          28315.73788741303,
          42491.25025239778,
          36188.782700534764,
          30803.95013143072,
          40948.510386857444,
          41545.3717948718,
          41734.5017783292,
          32420.065006331784,
          25252.204133099825,
          42183.7500853728,
          16364.066666666666,
          41664.82497371188,
          34497.06954166667,
          22645.629519950126,
          25647.230984902944,
          28382.643020084302,
          30479.842093971252,
          25587.41859106529,
          25709.473746213396,
          25976.522556657226,
          27268.202272727274,
          22980.012277336256,
          47428.65609859753,
          43588.57005703422,
          41476.58326388889,
          41886.80293797606,
          39661.64410364886,
          41688.32004058853,
          40277.98038305282,
          44695.49512067156,
          27388.628807150224,
          44103.873791141814,
          24626.059783710716,
          34217.48716981132,
          26428.77491979619,
          35723.3428125,
          46278.91138292561,
          55515.20075740188,
          53362.92992719056,
          21991.77788697789,
          24159.50902366864,
          38987.03630077787,
          47676.983276304534,
          24273.874937810946,
          28127.81244148805,
          28273.05430965682,
          31194.941829787233,
          39518.24487179487,
          31436.620425235273,
          42885.387037037035,
          28411.48068146296,
          41214.14131291029,
          43670.76898132984,
          42252.669464720195,
          39472.25884458078,
          41787.95516866159,
          42185.48685092127,
          42499.78023586824,
          39215.674152334155,
          43287.536059057355,
          40839.628875236296,
          19094.019999999997,
          41919.11792405064,
          39766.56478198371,
          27847.060189948552,
          39844.213785900785,
          41983.549479618385,
          34130.86566397652,
          44869.938045827934,
          19477.61145038168,
          28138.82691996766,
          20812.24817204301,
          25518.512296195655,
          15380.636574074075,
          32036.887252327524,
          31272.915680245962,
          30603.281633246148,
          29128.71542433043,
          29918.110511159106,
          25269.80739115761,
          27305.361457174637,
          28178.654225721784,
          29245.719789473686,
          34391.11426121749,
          29075.240491803277,
          44143.28754139073,
          25922.747800269903,
          24723.337239805234,
          23549.175303292894,
          24845.544949670253,
          24175.387354085604,
          30774.801884109493,
          26034.713047260073,
          22424.901551139115,
          30065.91938561787,
          24772.982635702294,
          21748.592029220777,
          16817.165021337125,
          14486.75462585034,
          26414.072555205046,
          11983.444486692015,
          12164.626016260163,
          27136.610369487487,
          22930.44455231931,
          34275.62104311903,
          23544.840289952797,
          28636.361396660162,
          28904.217537942663,
          29003.95125042823,
          30523.42222472416,
          24598.832573505122,
          28893.06196193265,
          23366.408197837405,
          23277.499449541283,
          23256.34658525554,
          33398.58477796515,
          23175.58100331981,
          24581.941711177053,
          33920.02897518878,
          35777.472110726645,
          22249.228042680894,
          28970.186111111114,
          30886.308095460925,
          24442.915086206896,
          22792.56271331058,
          25891.11931575196,
          25783.892497069166,
          28120.35488206949,
          28277.65691699605,
          26043.70776426567,
          17215.90568292683,
          28479.945745745747,
          25063.177727099963,
          25831.31518058691,
          26160.689043698545,
          27839.15512195122,
          44739.33423650087,
          27762.58723178808,
          17044.156170212766,
          15123.943014705883,
          23823.1652238806,
          28893.738445063183,
          26110.24666223846,
          25680.744076413008,
          26018.969619756957,
          27256.82879644588,
          26126.975900116144,
          28856.044218455747,
          28702.91693950178,
          43853.018353391686,
          26799.091323943663,
          23952.53817626527,
          26286.28077975376,
          24097.1337045529,
          26233.606317689533,
          26729.402707423582,
          31303.584209744506,
          36778.443039235215,
          43157.92130499258,
          40178.8056513026,
          44964.338575797294,
          34139.46906822811,
          48134.230042714764,
          50984.83934615384,
          31808.342634560908,
          27036.295266781413,
          32045.76100472519,
          30954.126936324494,
          29926.533210961734,
          27025.40455364034,
          41245.66716196137,
          27795.254982817867,
          24083.50250071449,
          31252.472902467685,
          50171.534079776065,
          34972.30904495397,
          26890.01935483871,
          42493.11362949532,
          50831.18610049153,
          24278.45708147677,
          27924.323601316406,
          27654.677167113496,
          28354.249526707234,
          29510.33466625654,
          28096.39167461074,
          35431.11511232131,
          24375.545534150613,
          39039.854978354975,
          28844.372827540108,
          32685.440580388484,
          9786.296026490067,
          41385.042547745616,
          31059.40179689627,
          40915.946101060516,
          32176.936184210528,
          29299.88978485516,
          34540.02027833002,
          26649.463022035678,
          27273.857775919732,
          27403.43842561708,
          27281.76786197564,
          31231.630766917293,
          28272.345335608647,
          31810.609502446983,
          28730.254957264955,
          29244.849408284026,
          21527.121827411167,
          26724.77111111111,
          27474.974830351635,
          25845.159557344065,
          27935.217158469946,
          37771.82126696833,
          25444.262108262108,
          28761.040745397397,
          27365.979140328698,
          19899.52380952381,
          19109.090829694323,
          26723.65585127202,
          27907.909570041607,
          28531.937758945383,
          31433.17581408294,
          18692.24839857651,
          29518.777722277722,
          19274.316847826085,
          30804.55210702341,
          18401.19875311721,
          35425.9910693302,
          29328.067850670534,
          28373.984484038607,
          36615.188955823294,
          32957.7067748765,
          49696.09549520767,
          29487.911645569624,
          28000.323735050595,
          30712.252579852582,
          29796.169051943336,
          29593.004651162788,
          27775.723468809072,
          28799.57090620032,
          18380.52800675676,
          19366.051515151517,
          11625.23185840708,
          10407.036637931034,
          31084.187981330222,
          28484.818676470586,
          27094.42757248437,
          24313.811067193677,
          27837.815095676826,
          27485.876419213975,
          27542.054604486424,
          27938.86243359655,
          29137.58167456556,
          30955.184961580682,
          25519.328849902533,
          23142.95707090275,
          28649.3123039807,
          30235.395862791305,
          32853.07791195949,
          27635.652305308016,
          28988.303882476393,
          28418.07459608113,
          31599.59860568879,
          28282.63236743839,
          27834.962018489987,
          29649.955267693913,
          30745.40051518438,
          31810.48494117647,
          31640.899731453508,
          30212.23513916501,
          28264.538302649304,
          26457.302687599786,
          35263.4612716763,
          46973.43706150007,
          47605.56990276277,
          31142.49176313446,
          32730.37005227782,
          28194.632921556517,
          27306.710538016898,
          35576.16015015015,
          29654.421138570167,
          31787.53683071931,
          24671.68717998448,
          33692.69319077096,
          53320.79408754355,
          29378.37092356688,
          35130.599757999466,
          30701.392111787245,
          29708.117678100265,
          27436.43879044684,
          18843.927118644067,
          13971.05,
          9899,
          9210.114285714286,
          8498.7,
          7060.875,
          6718.4,
          38497.99991103203,
          36495.05197322871
         ],
         "z": [
          44077.37732656515,
          45046.389645776566,
          37174.7852233677,
          48689.502317146886,
          59368.48809922896,
          41336.7543447628,
          31920.9752901535,
          38448.52310624107,
          41910.27766266059,
          47545.389507154214,
          48206.83524298696,
          45084.889838868796,
          42800.849013308856,
          56413.26530612245,
          44500.15447991761,
          49600,
          40556.10096670247,
          55926.016949152545,
          45850.40625940415,
          52145.0438700498,
          49339.97694289977,
          47603.94863563403,
          55146.71605641829,
          54566.09174964438,
          53294.28036605657,
          41604.019746121296,
          37255.47897521582,
          51024.41501103753,
          31697.87461569309,
          51658.243840808595,
          45941.897233201584,
          42932.11492178099,
          45313.01826616411,
          50160.27370855821,
          52983.029315960914,
          37334.122725151654,
          40018.80980861244,
          39352.57674210172,
          41258.51174934726,
          39226.709718399325,
          38870.62646217832,
          36970.33406957482,
          46590.61773067976,
          35452.77777777778,
          37954.661016949154,
          33878.98457583548,
          49146.19179163378,
          37387.16647331786,
          40961.42621599341,
          45974.239558707646,
          45051.53711023276,
          41930.81637976004,
          47170.5986360192,
          47078.39570792986,
          46257.88623141564,
          35471.76449470472,
          30891.499755740108,
          42059.85241324292,
          37134.57833515085,
          38831.58611300204,
          48471.471065440775,
          48310.57874762808,
          38215.01969515328,
          33435.08529854491,
          52907.61729045862,
          66988.43916626273,
          44992.89523809524,
          46644.487056567596,
          34086.312019566736,
          48762.21575885775,
          45361.88901139287,
          60978.980156898935,
          38624.421748272754,
          39597.166542934916,
          41705.82161029632,
          39087.653144568474,
          41633.743570903745,
          39460.666121781775,
          40251.21661721068,
          41774.27087495006,
          39256.11461475185,
          38452.27768354737,
          40674.19562419562,
          48628.48101265823,
          38252.15873697777,
          32716.721912072575,
          32043.596986817327,
          52705.198220064725,
          30152.624894157492,
          54550.96457938014,
          51719.62392730944,
          38360.26737967914,
          37343.77581674803,
          53190.408055113934,
          45787.52136752137,
          48386.186931348224,
          49033.6112283664,
          43517.79334500876,
          48031.84405236198,
          66749.32432432432,
          48458.070452155625,
          67516.10416666667,
          35715.28990024938,
          45353.27102803739,
          39205.5913711877,
          34379.446470714436,
          42254.63917525773,
          44161.208347357795,
          43922.50354107649,
          44183.00467914438,
          34291.12770622088,
          48376.816829579264,
          46403.06558935361,
          45151.180555555555,
          48179.67899891186,
          48618.693812797464,
          48119.22881785895,
          47761.52060359837,
          46338.850996852045,
          41233.91199724992,
          47755.343356359204,
          43826.61372085164,
          35591.40783744557,
          40761.6342706171,
          43495.921875,
          47515.75137294059,
          49181.98301583659,
          49810.381621893044,
          56063.554463554465,
          46443.01446416831,
          48847.752808988764,
          47786.077844311374,
          45862.96641791045,
          37241.0076373491,
          41920.35115722266,
          49984.744680851065,
          70598.21714743589,
          50901.04566050889,
          44147.38841405508,
          54356.76773991872,
          41774.201312910285,
          43941.33639043564,
          42535.908353609084,
          42294.68302658487,
          40243.30794341676,
          43158.752093802344,
          41320.63847092314,
          42009.31203931204,
          44595.71266325951,
          40640.02835538753,
          62452.1568627451,
          41683.36708860759,
          40339.051269765216,
          52723.98100514444,
          41240.75718015666,
          42142.367736339984,
          44339.43506969919,
          43914.59143968872,
          62750.50890585242,
          46943.73484236055,
          60725.05376344086,
          51240.55706521739,
          66474.76851851853,
          48477.77512532824,
          49856.0049961568,
          50030.39814007556,
          53195.15972894482,
          51982.9373650108,
          43556.74991562605,
          30954.92213570634,
          55395.433070866144,
          46997.72631578947,
          39834.452700771646,
          52440.92213114754,
          48853.41473509934,
          41074.912280701756,
          43091.12903225807,
          45166.63778162911,
          44596.754599097534,
          43532.879377431906,
          48975.13330963384,
          43075.55813279212,
          57254.92001938924,
          48283.66302071213,
          46998.349188584216,
          56373.53896103896,
          58027.5960170697,
          58649.14965986394,
          49872.18717139853,
          60152.28136882129,
          59997.154471544716,
          49564.30274135876,
          48982.82092772384,
          40249.6901626646,
          42254.87188132165,
          39679.006723053564,
          52373.37689713322,
          52462.761219595755,
          53862.06935374915,
          42236.95077634622,
          36309.92679355783,
          43888.3660392471,
          46008.21100917431,
          46582.9262777024,
          43138.31365935919,
          45051.97344153449,
          49367.853610286846,
          29807.45415318231,
          34822.69896193771,
          57703.10103367789,
          53467.53812636166,
          50729.46888160973,
          44751.262315270935,
          58263.6518771331,
          43087.27726300784,
          42884.251660805,
          39410.32208977936,
          49358.39920948617,
          48488.119738072965,
          50761.58536585366,
          37872.772772772776,
          44596.27518053972,
          42776.18510158014,
          47147.65674477517,
          68521.78048780488,
          51150.58060770273,
          40853.17880794702,
          62940.85106382979,
          64621.32352941176,
          57148.50746268657,
          39172.93853073463,
          43873.31451345068,
          43597.55288916956,
          43205.25284202274,
          43618.739903069465,
          43542.770034843204,
          51413.67231638418,
          38911.20996441281,
          46876.736870897155,
          49312.018779342725,
          47655.65008726004,
          48806.292749658,
          45258.205044218805,
          65782.31046931408,
          60267.29257641921,
          40467.48366013072,
          42747.77932682732,
          53116.8561542264,
          44230.64128256513,
          51006.18173875054,
          33697.75967413442,
          46514.28571428572,
          48290.570512820515,
          46674.091123701604,
          58294.750430292595,
          48095.31211141507,
          46548.88964423295,
          50434.565667011375,
          41705.801389246204,
          50281.965081723625,
          55155.26918671249,
          43494.81280365819,
          47088.15511163337,
          52091.4392348962,
          37891.21682614191,
          67109.00537634408,
          44640.43517679057,
          52650.477880939376,
          44479.08179503501,
          55685.14339445228,
          55395.263628239496,
          54994.23597025017,
          53395.324515533684,
          54578.78932316492,
          43522.36215112321,
          50111.15002918856,
          42689.82683982684,
          53214.13770053476,
          48495.15562836415,
          57643.046357615895,
          44040.64776530813,
          40319.50721481078,
          38690.14348097317,
          36323.106060606064,
          50340.84363882771,
          44906.99966865474,
          49848.31059811123,
          56428.80434782609,
          60217.778519012674,
          60606.393775372126,
          49279.8045112782,
          54794.05574516496,
          47237.72430668842,
          60892.52136752137,
          49312.35207100592,
          70132.48730964467,
          66239.82222222222,
          58922.48611967921,
          65958.85311871227,
          55909.071038251364,
          40219.74496092143,
          66726.56695156696,
          51223.70902559497,
          64544.56384323641,
          73525.85034013605,
          75589.95633187774,
          54909.29549902153,
          53354.114655570964,
          54145.056497175145,
          46302.017812413025,
          73520.99644128114,
          60229.42057942058,
          74212.22826086957,
          48008.406810580724,
          51355.112219451374,
          36201.086956521736,
          53607.9557810801,
          55107.9435783222,
          51510.79651941098,
          40816.56669019054,
          47062.68370607029,
          46338.841285296985,
          54053.26586936523,
          49448.18796068796,
          52133.43625136215,
          50143.286529179466,
          52447.16446124764,
          58541.81240063593,
          62112.83783783784,
          61712.37373737374,
          62532.30088495575,
          62720.68965517241,
          46554.18125243096,
          59291.39705882353,
          57712.76293348493,
          67063.63636363637,
          60951.133947554925,
          64988.16593886463,
          60003.778040141675,
          54854.235463029436,
          63546.84044233807,
          56371.07574094402,
          54718.849902534115,
          49248.9926385122,
          54256.80036188178,
          51235.205551191415,
          48415.38761199844,
          56554.84308407594,
          60756.03357817419,
          51997.112409762805,
          47969.506413831565,
          52189.581777445856,
          53304.661016949154,
          48461.190911465135,
          48654.43329718005,
          45123.58823529412,
          47362.4034911044,
          49028.47912524851,
          51230.22002694207,
          38618.98616285258,
          55618.92375447289,
          49868.0170262733,
          49738.70196017904,
          35353.829029385575,
          35272.20873786408,
          38686.951822112416,
          42039.37305469097,
          48452.53753753754,
          50468.402471315094,
          47295.79502433748,
          38075.99883630721,
          38502.560495216654,
          54026.01807491289,
          53547.515923566876,
          57321.29604732455,
          48923.32657200811,
          53517.39395169474,
          57811.354006163325,
          74706.77966101695,
          48912.5,
          66771.42857142857,
          66650,
          66775,
          64100,
          63300,
          46758.69661921708,
          39425.317332102466
         ]
        }
       ],
       "layout": {
        "template": {
         "data": {
          "bar": [
           {
            "error_x": {
             "color": "#2a3f5f"
            },
            "error_y": {
             "color": "#2a3f5f"
            },
            "marker": {
             "line": {
              "color": "#E5ECF6",
              "width": 0.5
             },
             "pattern": {
              "fillmode": "overlay",
              "size": 10,
              "solidity": 0.2
             }
            },
            "type": "bar"
           }
          ],
          "barpolar": [
           {
            "marker": {
             "line": {
              "color": "#E5ECF6",
              "width": 0.5
             },
             "pattern": {
              "fillmode": "overlay",
              "size": 10,
              "solidity": 0.2
             }
            },
            "type": "barpolar"
           }
          ],
          "carpet": [
           {
            "aaxis": {
             "endlinecolor": "#2a3f5f",
             "gridcolor": "white",
             "linecolor": "white",
             "minorgridcolor": "white",
             "startlinecolor": "#2a3f5f"
            },
            "baxis": {
             "endlinecolor": "#2a3f5f",
             "gridcolor": "white",
             "linecolor": "white",
             "minorgridcolor": "white",
             "startlinecolor": "#2a3f5f"
            },
            "type": "carpet"
           }
          ],
          "choropleth": [
           {
            "colorbar": {
             "outlinewidth": 0,
             "ticks": ""
            },
            "type": "choropleth"
           }
          ],
          "contour": [
           {
            "colorbar": {
             "outlinewidth": 0,
             "ticks": ""
            },
            "colorscale": [
             [
              0,
              "#0d0887"
             ],
             [
              0.1111111111111111,
              "#46039f"
             ],
             [
              0.2222222222222222,
              "#7201a8"
             ],
             [
              0.3333333333333333,
              "#9c179e"
             ],
             [
              0.4444444444444444,
              "#bd3786"
             ],
             [
              0.5555555555555556,
              "#d8576b"
             ],
             [
              0.6666666666666666,
              "#ed7953"
             ],
             [
              0.7777777777777778,
              "#fb9f3a"
             ],
             [
              0.8888888888888888,
              "#fdca26"
             ],
             [
              1,
              "#f0f921"
             ]
            ],
            "type": "contour"
           }
          ],
          "contourcarpet": [
           {
            "colorbar": {
             "outlinewidth": 0,
             "ticks": ""
            },
            "type": "contourcarpet"
           }
          ],
          "heatmap": [
           {
            "colorbar": {
             "outlinewidth": 0,
             "ticks": ""
            },
            "colorscale": [
             [
              0,
              "#0d0887"
             ],
             [
              0.1111111111111111,
              "#46039f"
             ],
             [
              0.2222222222222222,
              "#7201a8"
             ],
             [
              0.3333333333333333,
              "#9c179e"
             ],
             [
              0.4444444444444444,
              "#bd3786"
             ],
             [
              0.5555555555555556,
              "#d8576b"
             ],
             [
              0.6666666666666666,
              "#ed7953"
             ],
             [
              0.7777777777777778,
              "#fb9f3a"
             ],
             [
              0.8888888888888888,
              "#fdca26"
             ],
             [
              1,
              "#f0f921"
             ]
            ],
            "type": "heatmap"
           }
          ],
          "heatmapgl": [
           {
            "colorbar": {
             "outlinewidth": 0,
             "ticks": ""
            },
            "colorscale": [
             [
              0,
              "#0d0887"
             ],
             [
              0.1111111111111111,
              "#46039f"
             ],
             [
              0.2222222222222222,
              "#7201a8"
             ],
             [
              0.3333333333333333,
              "#9c179e"
             ],
             [
              0.4444444444444444,
              "#bd3786"
             ],
             [
              0.5555555555555556,
              "#d8576b"
             ],
             [
              0.6666666666666666,
              "#ed7953"
             ],
             [
              0.7777777777777778,
              "#fb9f3a"
             ],
             [
              0.8888888888888888,
              "#fdca26"
             ],
             [
              1,
              "#f0f921"
             ]
            ],
            "type": "heatmapgl"
           }
          ],
          "histogram": [
           {
            "marker": {
             "pattern": {
              "fillmode": "overlay",
              "size": 10,
              "solidity": 0.2
             }
            },
            "type": "histogram"
           }
          ],
          "histogram2d": [
           {
            "colorbar": {
             "outlinewidth": 0,
             "ticks": ""
            },
            "colorscale": [
             [
              0,
              "#0d0887"
             ],
             [
              0.1111111111111111,
              "#46039f"
             ],
             [
              0.2222222222222222,
              "#7201a8"
             ],
             [
              0.3333333333333333,
              "#9c179e"
             ],
             [
              0.4444444444444444,
              "#bd3786"
             ],
             [
              0.5555555555555556,
              "#d8576b"
             ],
             [
              0.6666666666666666,
              "#ed7953"
             ],
             [
              0.7777777777777778,
              "#fb9f3a"
             ],
             [
              0.8888888888888888,
              "#fdca26"
             ],
             [
              1,
              "#f0f921"
             ]
            ],
            "type": "histogram2d"
           }
          ],
          "histogram2dcontour": [
           {
            "colorbar": {
             "outlinewidth": 0,
             "ticks": ""
            },
            "colorscale": [
             [
              0,
              "#0d0887"
             ],
             [
              0.1111111111111111,
              "#46039f"
             ],
             [
              0.2222222222222222,
              "#7201a8"
             ],
             [
              0.3333333333333333,
              "#9c179e"
             ],
             [
              0.4444444444444444,
              "#bd3786"
             ],
             [
              0.5555555555555556,
              "#d8576b"
             ],
             [
              0.6666666666666666,
              "#ed7953"
             ],
             [
              0.7777777777777778,
              "#fb9f3a"
             ],
             [
              0.8888888888888888,
              "#fdca26"
             ],
             [
              1,
              "#f0f921"
             ]
            ],
            "type": "histogram2dcontour"
           }
          ],
          "mesh3d": [
           {
            "colorbar": {
             "outlinewidth": 0,
             "ticks": ""
            },
            "type": "mesh3d"
           }
          ],
          "parcoords": [
           {
            "line": {
             "colorbar": {
              "outlinewidth": 0,
              "ticks": ""
             }
            },
            "type": "parcoords"
           }
          ],
          "pie": [
           {
            "automargin": true,
            "type": "pie"
           }
          ],
          "scatter": [
           {
            "fillpattern": {
             "fillmode": "overlay",
             "size": 10,
             "solidity": 0.2
            },
            "type": "scatter"
           }
          ],
          "scatter3d": [
           {
            "line": {
             "colorbar": {
              "outlinewidth": 0,
              "ticks": ""
             }
            },
            "marker": {
             "colorbar": {
              "outlinewidth": 0,
              "ticks": ""
             }
            },
            "type": "scatter3d"
           }
          ],
          "scattercarpet": [
           {
            "marker": {
             "colorbar": {
              "outlinewidth": 0,
              "ticks": ""
             }
            },
            "type": "scattercarpet"
           }
          ],
          "scattergeo": [
           {
            "marker": {
             "colorbar": {
              "outlinewidth": 0,
              "ticks": ""
             }
            },
            "type": "scattergeo"
           }
          ],
          "scattergl": [
           {
            "marker": {
             "colorbar": {
              "outlinewidth": 0,
              "ticks": ""
             }
            },
            "type": "scattergl"
           }
          ],
          "scattermapbox": [
           {
            "marker": {
             "colorbar": {
              "outlinewidth": 0,
              "ticks": ""
             }
            },
            "type": "scattermapbox"
           }
          ],
          "scatterpolar": [
           {
            "marker": {
             "colorbar": {
              "outlinewidth": 0,
              "ticks": ""
             }
            },
            "type": "scatterpolar"
           }
          ],
          "scatterpolargl": [
           {
            "marker": {
             "colorbar": {
              "outlinewidth": 0,
              "ticks": ""
             }
            },
            "type": "scatterpolargl"
           }
          ],
          "scatterternary": [
           {
            "marker": {
             "colorbar": {
              "outlinewidth": 0,
              "ticks": ""
             }
            },
            "type": "scatterternary"
           }
          ],
          "surface": [
           {
            "colorbar": {
             "outlinewidth": 0,
             "ticks": ""
            },
            "colorscale": [
             [
              0,
              "#0d0887"
             ],
             [
              0.1111111111111111,
              "#46039f"
             ],
             [
              0.2222222222222222,
              "#7201a8"
             ],
             [
              0.3333333333333333,
              "#9c179e"
             ],
             [
              0.4444444444444444,
              "#bd3786"
             ],
             [
              0.5555555555555556,
              "#d8576b"
             ],
             [
              0.6666666666666666,
              "#ed7953"
             ],
             [
              0.7777777777777778,
              "#fb9f3a"
             ],
             [
              0.8888888888888888,
              "#fdca26"
             ],
             [
              1,
              "#f0f921"
             ]
            ],
            "type": "surface"
           }
          ],
          "table": [
           {
            "cells": {
             "fill": {
              "color": "#EBF0F8"
             },
             "line": {
              "color": "white"
             }
            },
            "header": {
             "fill": {
              "color": "#C8D4E3"
             },
             "line": {
              "color": "white"
             }
            },
            "type": "table"
           }
          ]
         },
         "layout": {
          "annotationdefaults": {
           "arrowcolor": "#2a3f5f",
           "arrowhead": 0,
           "arrowwidth": 1
          },
          "autotypenumbers": "strict",
          "coloraxis": {
           "colorbar": {
            "outlinewidth": 0,
            "ticks": ""
           }
          },
          "colorscale": {
           "diverging": [
            [
             0,
             "#8e0152"
            ],
            [
             0.1,
             "#c51b7d"
            ],
            [
             0.2,
             "#de77ae"
            ],
            [
             0.3,
             "#f1b6da"
            ],
            [
             0.4,
             "#fde0ef"
            ],
            [
             0.5,
             "#f7f7f7"
            ],
            [
             0.6,
             "#e6f5d0"
            ],
            [
             0.7,
             "#b8e186"
            ],
            [
             0.8,
             "#7fbc41"
            ],
            [
             0.9,
             "#4d9221"
            ],
            [
             1,
             "#276419"
            ]
           ],
           "sequential": [
            [
             0,
             "#0d0887"
            ],
            [
             0.1111111111111111,
             "#46039f"
            ],
            [
             0.2222222222222222,
             "#7201a8"
            ],
            [
             0.3333333333333333,
             "#9c179e"
            ],
            [
             0.4444444444444444,
             "#bd3786"
            ],
            [
             0.5555555555555556,
             "#d8576b"
            ],
            [
             0.6666666666666666,
             "#ed7953"
            ],
            [
             0.7777777777777778,
             "#fb9f3a"
            ],
            [
             0.8888888888888888,
             "#fdca26"
            ],
            [
             1,
             "#f0f921"
            ]
           ],
           "sequentialminus": [
            [
             0,
             "#0d0887"
            ],
            [
             0.1111111111111111,
             "#46039f"
            ],
            [
             0.2222222222222222,
             "#7201a8"
            ],
            [
             0.3333333333333333,
             "#9c179e"
            ],
            [
             0.4444444444444444,
             "#bd3786"
            ],
            [
             0.5555555555555556,
             "#d8576b"
            ],
            [
             0.6666666666666666,
             "#ed7953"
            ],
            [
             0.7777777777777778,
             "#fb9f3a"
            ],
            [
             0.8888888888888888,
             "#fdca26"
            ],
            [
             1,
             "#f0f921"
            ]
           ]
          },
          "colorway": [
           "#636efa",
           "#EF553B",
           "#00cc96",
           "#ab63fa",
           "#FFA15A",
           "#19d3f3",
           "#FF6692",
           "#B6E880",
           "#FF97FF",
           "#FECB52"
          ],
          "font": {
           "color": "#2a3f5f"
          },
          "geo": {
           "bgcolor": "white",
           "lakecolor": "white",
           "landcolor": "#E5ECF6",
           "showlakes": true,
           "showland": true,
           "subunitcolor": "white"
          },
          "hoverlabel": {
           "align": "left"
          },
          "hovermode": "closest",
          "mapbox": {
           "style": "light"
          },
          "paper_bgcolor": "white",
          "plot_bgcolor": "#E5ECF6",
          "polar": {
           "angularaxis": {
            "gridcolor": "white",
            "linecolor": "white",
            "ticks": ""
           },
           "bgcolor": "#E5ECF6",
           "radialaxis": {
            "gridcolor": "white",
            "linecolor": "white",
            "ticks": ""
           }
          },
          "scene": {
           "xaxis": {
            "backgroundcolor": "#E5ECF6",
            "gridcolor": "white",
            "gridwidth": 2,
            "linecolor": "white",
            "showbackground": true,
            "ticks": "",
            "zerolinecolor": "white"
           },
           "yaxis": {
            "backgroundcolor": "#E5ECF6",
            "gridcolor": "white",
            "gridwidth": 2,
            "linecolor": "white",
            "showbackground": true,
            "ticks": "",
            "zerolinecolor": "white"
           },
           "zaxis": {
            "backgroundcolor": "#E5ECF6",
            "gridcolor": "white",
            "gridwidth": 2,
            "linecolor": "white",
            "showbackground": true,
            "ticks": "",
            "zerolinecolor": "white"
           }
          },
          "shapedefaults": {
           "line": {
            "color": "#2a3f5f"
           }
          },
          "ternary": {
           "aaxis": {
            "gridcolor": "white",
            "linecolor": "white",
            "ticks": ""
           },
           "baxis": {
            "gridcolor": "white",
            "linecolor": "white",
            "ticks": ""
           },
           "bgcolor": "#E5ECF6",
           "caxis": {
            "gridcolor": "white",
            "linecolor": "white",
            "ticks": ""
           }
          },
          "title": {
           "x": 0.05
          },
          "xaxis": {
           "automargin": true,
           "gridcolor": "white",
           "linecolor": "white",
           "ticks": "",
           "title": {
            "standoff": 15
           },
           "zerolinecolor": "white",
           "zerolinewidth": 2
          },
          "yaxis": {
           "automargin": true,
           "gridcolor": "white",
           "linecolor": "white",
           "ticks": "",
           "title": {
            "standoff": 15
           },
           "zerolinecolor": "white",
           "zerolinewidth": 2
          }
         }
        }
       }
      },
      "text/html": [
       "<div>                            <div id=\"a9c4979a-141f-46e1-ba03-c9c7d86c45ce\" class=\"plotly-graph-div\" style=\"height:525px; width:100%;\"></div>            <script type=\"text/javascript\">                require([\"plotly\"], function(Plotly) {                    window.PLOTLYENV=window.PLOTLYENV || {};                                    if (document.getElementById(\"a9c4979a-141f-46e1-ba03-c9c7d86c45ce\")) {                    Plotly.newPlot(                        \"a9c4979a-141f-46e1-ba03-c9c7d86c45ce\",                        [{\"mode\":\"markers\",\"x\":[31438.829001692047,31859.5985013624,39767.37118556701,73652.08911948418,22915.47341602414,30632.631939877876,46000.29754773493,31292.21222010481,31728.937961044343,70680.37401771519,75744.6570525484,30852.94311081881,30723.41812758146,28030.7862244898,30861.775695159628,28567.01881950385,29895.73583243824,27885.87305084746,27916.660938910623,52588.88285511027,49679.3198969212,29138.24478330658,52051.800584128796,74939.40519203414,73527.21123128121,64833.39298628029,40900.757713728766,55563.2080794702,37644.88085817404,78391.2396715098,74432.5890974967,30111.779121540312,73692.30974195419,31026.20161912105,78150.86765472313,44544.72547830145,31335.968929425835,32743.757920681153,29263.661653611834,30954.519712047426,31047.67702105537,43814.498481501934,37655.42977513569,30014.829275692075,32404.325860297897,37066.57101542417,76539.42162588793,53850.311513921115,53071.43038746909,33394.53021276595,30602.08309178744,76227.22209181012,74261.961682243,75086.54190002618,74114.34440853265,62698.35087057979,44202.46995603322,31216.343438372558,31975.542711741185,31164.50925799864,76211.14672796107,75770.53339658443,39730.701798253125,30373.48034119418,28069.857617290458,82032.73746970431,28277.058933333334,30845.818024928092,44154.53190076869,29213.641723955578,30795.361852260197,76685.2158283341,31778.7667467708,30865.042786439,77128.35435498354,31562.377919956438,31075.275091844233,31064.784348181445,32664.511958456973,31091.98110267679,30921.26706882369,31925.843348679427,31623.015733590735,75690.74906672387,40088.56604016754,45217.15024424285,31472.11177024482,73496.41707119741,30310.374456675134,74778.54459203036,48487.129782937904,68160.30548128342,65547.93909125048,74564.48786433492,77248.03977207978,77264.23684863524,77079.44563106795,31303.700630472853,76886.3781445646,31357.08108108108,76234.35820189276,17894.7593625,29841.506203241897,30430.990150970523,32636.791668732953,52107.85340055782,32100.908109965632,30594.722921575227,30307.37790368272,29884.25006684492,29624.35189092902,75498.45461113472,77431.66183460076,74714.56097222221,75599.72459194777,76194.66853516657,77330.41872146119,73145.3845037725,74316.0073452256,28199.056995531108,76747.9687931735,31272.113991213246,28673.248156748912,64360.22438195886,78517.99128125,77226.27428856715,55645.83428964884,48609.74300778308,22518.20262080262,78621.63139381986,74163.01348314606,77894.93062446536,30907.838805970146,32683.10793298842,30391.351476456504,25674.37791489362,85431.46538461538,77412.84193098641,30474.533428300096,74290.03100969053,29210.2075273523,29415.576842450046,29860.893349553935,28483.47275051125,30407.786942328617,27805.752554438863,28189.336356242373,28232.54226044226,28008.393668370245,27267.983034026467,28412.109019607844,28540.467949367092,28561.107091518927,73134.8957261575,30038.824386422977,27549.48894189072,29069.17710931768,27899.579463899696,27067.32773536896,27852.61835084883,27973.68193548387,28122.753260869562,23900.31666666667,74721.04979708762,75565.92450038432,75170.70892182505,75331.37383026782,75859.75406767458,30956.18214647317,41671.89657953281,74115.86419947507,50371.70892631579,60512.823435267215,74443.66024590164,77729.37897350993,31889.08515519568,31975.268411442485,30606.503466204507,31830.231759805625,31746.453229571984,75219.96203341628,30813.43540156567,21561.043868153174,55578.2955550384,31074.321880246225,32539.110551948055,33568.54850640114,35548.3925170068,30103.985278654047,36552.633460076046,38159.04146341463,29542.239451728245,30450.46548004315,60967.25933384973,30543.614497639915,31618.42270657124,74988.5902613828,76249.7147310723,66239.22143661337,31460.050941526264,64415.10521229869,31121.000520624748,31105.61711009174,30930.526820443236,26075.974839797636,31271.13142751752,30012.31335311573,40655.52781014024,67705.5259515571,22735.958919639877,28322.625272331155,25561.939658399624,30527.802032019703,29639.279863481228,30302.35648610121,30853.782883939042,31118.702155718995,28039.474209486165,29577.071655753043,32783.16073170732,32841.15932599266,30156.619536297985,30052.181753197892,29178.30968967701,81379.05951219512,50590.97700793497,30553.345033112582,29497.055319148934,29224.472794117646,29248.58175787728,33832.39081173699,29627.083161740287,30988.585727818125,30661.151940415522,31221.57596930533,30929.552526132407,73851.74467043314,30726.2434400949,35069.988375273526,40018.60030046948,30537.00654450262,30104.56586867305,31378.222174909923,74045.4844765343,74733.27288209608,52728.94084967321,75859.11443935471,73343.20296589224,28188.333306613225,71784.8370904325,30309.074236252545,41546.68127669673,52326.70361538461,74867.36232294618,74751.65675559381,76158.45647848793,73366.84112848403,74529.3139607032,30333.806946231023,48533.418870728085,74398.04326078657,68264.6798656759,74607.17574618096,66143.40198273852,61880.641270987544,80954.85026881722,27027.639468117257,49054.15450573457,79077.60840229153,74710.754254819,74310.61528150133,74486.2932724814,74709.39424792372,73933.31067683508,77311.08250510551,29598.797840046704,28118.24463203463,74330.5407419786,74322.73082143693,72691.68476821193,66136.79832644221,78781.60797713042,52618.60935745477,64280.90436602871,74744.24934778926,63251.300795228635,38024.03131164743,73833.31204013378,74612.53148765845,75016.79445196211,74462.49539849623,73583.50546075085,74563.86419249592,72624.94393162393,74937.58722879685,65658.27969543147,74069.41822222222,73255.40919185687,68923.74044265594,72956.66836065573,73877.52793089264,73290.72150997151,73518.21082173327,74023.57850821746,73859.57687074831,73242.68689956333,73866.0643444227,74215.45871474803,75492.91186440678,74299.15104369607,72405.36298932384,75934.21738261738,72803.37934782609,73282.52854971116,32572.017456359103,31427.65691343517,75235.53628126133,74667.38203414995,80283.78151271753,41121.08015172901,78201.82047923323,48067.23737098345,75455.48344066237,74446.01164004914,74411.60345078097,73758.87770952172,73839.12060491493,74932.02877583467,73926.82567567567,71976.2797979798,73743.00796460177,74781.0172413793,73513.04558537534,74915.0280882353,72803.22853894258,68493.90968379447,76049.01162296244,74771.6256768559,75268.65554899645,75403.87896625987,78102.31358609795,74562.7572996707,40376.53541910331,30459.63940333204,73985.27310012063,74002.80091647028,73951.44507206856,74791.67520340953,75844.69485834207,75071.4089377793,75018.29804796432,73772.90974607917,75841.8440677966,73441.27983807783,75717.51946854664,73896.89988235294,75863.95381000335,74585.2175944334,73864.93821284239,31125.83307610431,79432.96751995596,50644.430838103624,52735.19168081494,56828.3713713268,46079.46282673637,31748.88848054355,67655.02087594486,67505.31165165166,74259.9614298323,74526.0354786371,38459.586132660974,68715.65445976364,53595.66733449478,74924.23694267515,79429.8200053778,52148.42093757043,66780.24554495637,61216.87925654854,71459.06949152541,32703.02,27892.542857142857,27238.942857142858,31299.242857142857,31566.6,32269.6,34652.29368327402,65048.53584121856],\"y\":[24738.514145516074,23931.804768392372,25165.836804123708,52960.231210961116,22456.51250419041,25723.673062470643,30889.74009734182,28678.16893758933,25089.75996684625,45960.288235294116,44988.07534571316,24768.100460374877,25353.10174391923,24915.482823129252,25786.188568486097,27434.352138579983,29095.50461868958,25070.944576271188,42704.456816130005,49786.485202750766,48282.05151227452,39046.2444622793,50148.63953554637,28402.03122332859,27927.204409317805,36681.563264521086,22998.013854079643,45566.16584988963,32569.403422002408,43103.52694251422,30284.671014492753,51208.181092057755,32520.384488257463,20370.048222821897,41734.835146579804,33773.76021931871,28463.94111842105,27937.497535290164,28112.3745691906,28799.41401651493,29726.01232128932,33047.34436775262,33168.80043939003,32849.33481228669,27026.003644067798,35451.02420736932,40756.62647987372,42470.22134570765,31081.719422918388,51421.6124822695,40234.11018884498,36106.38158581116,31800.421116443547,31657.65200209369,32486.65559146736,32686.032148626815,31883.586174890082,24742.435101715197,28361.41846601236,28104.146051735872,42671.53217955652,31688.58753953194,39198.264189073474,33316.99189663823,28237.076805482342,26999.48734852157,39345.260304761905,40666.076701821665,33633.33073025856,24500.69116869381,23815.282984196987,32033.642131979694,28920.967167317514,28459.35392229646,36566.90197545645,27037.97069425538,25014.48464364438,27279.058929301187,28136.18706231454,24886.286260487414,28876.538552234713,29180.723673370485,25791.045012870014,31683.972387899594,34917.22252174847,29755.535223307746,34922.786001255496,28614.916686893204,29032.64129268981,28315.73788741303,42491.25025239778,36188.782700534764,30803.95013143072,40948.510386857444,41545.3717948718,41734.5017783292,32420.065006331784,25252.204133099825,42183.7500853728,16364.066666666666,41664.82497371188,34497.06954166667,22645.629519950126,25647.230984902944,28382.643020084302,30479.842093971252,25587.41859106529,25709.473746213396,25976.522556657226,27268.202272727274,22980.012277336256,47428.65609859753,43588.57005703422,41476.58326388889,41886.80293797606,39661.64410364886,41688.32004058853,40277.98038305282,44695.49512067156,27388.628807150224,44103.873791141814,24626.059783710716,34217.48716981132,26428.77491979619,35723.3428125,46278.91138292561,55515.20075740188,53362.92992719056,21991.77788697789,24159.50902366864,38987.03630077787,47676.983276304534,24273.874937810946,28127.81244148805,28273.05430965682,31194.941829787233,39518.24487179487,31436.620425235273,42885.387037037035,28411.48068146296,41214.14131291029,43670.76898132984,42252.669464720195,39472.25884458078,41787.95516866159,42185.48685092127,42499.78023586824,39215.674152334155,43287.536059057355,40839.628875236296,19094.019999999997,41919.11792405064,39766.56478198371,27847.060189948552,39844.213785900785,41983.549479618385,34130.86566397652,44869.938045827934,19477.61145038168,28138.82691996766,20812.24817204301,25518.512296195655,15380.636574074075,32036.887252327524,31272.915680245962,30603.281633246148,29128.71542433043,29918.110511159106,25269.80739115761,27305.361457174637,28178.654225721784,29245.719789473686,34391.11426121749,29075.240491803277,44143.28754139073,25922.747800269903,24723.337239805234,23549.175303292894,24845.544949670253,24175.387354085604,30774.801884109493,26034.713047260073,22424.901551139115,30065.91938561787,24772.982635702294,21748.592029220777,16817.165021337125,14486.75462585034,26414.072555205046,11983.444486692015,12164.626016260163,27136.610369487487,22930.44455231931,34275.62104311903,23544.840289952797,28636.361396660162,28904.217537942663,29003.95125042823,30523.42222472416,24598.832573505122,28893.06196193265,23366.408197837405,23277.499449541283,23256.34658525554,33398.58477796515,23175.58100331981,24581.941711177053,33920.02897518878,35777.472110726645,22249.228042680894,28970.186111111114,30886.308095460925,24442.915086206896,22792.56271331058,25891.11931575196,25783.892497069166,28120.35488206949,28277.65691699605,26043.70776426567,17215.90568292683,28479.945745745747,25063.177727099963,25831.31518058691,26160.689043698545,27839.15512195122,44739.33423650087,27762.58723178808,17044.156170212766,15123.943014705883,23823.1652238806,28893.738445063183,26110.24666223846,25680.744076413008,26018.969619756957,27256.82879644588,26126.975900116144,28856.044218455747,28702.91693950178,43853.018353391686,26799.091323943663,23952.53817626527,26286.28077975376,24097.1337045529,26233.606317689533,26729.402707423582,31303.584209744506,36778.443039235215,43157.92130499258,40178.8056513026,44964.338575797294,34139.46906822811,48134.230042714764,50984.83934615384,31808.342634560908,27036.295266781413,32045.76100472519,30954.126936324494,29926.533210961734,27025.40455364034,41245.66716196137,27795.254982817867,24083.50250071449,31252.472902467685,50171.534079776065,34972.30904495397,26890.01935483871,42493.11362949532,50831.18610049153,24278.45708147677,27924.323601316406,27654.677167113496,28354.249526707234,29510.33466625654,28096.39167461074,35431.11511232131,24375.545534150613,39039.854978354975,28844.372827540108,32685.440580388484,9786.296026490067,41385.042547745616,31059.40179689627,40915.946101060516,32176.936184210528,29299.88978485516,34540.02027833002,26649.463022035678,27273.857775919732,27403.43842561708,27281.76786197564,31231.630766917293,28272.345335608647,31810.609502446983,28730.254957264955,29244.849408284026,21527.121827411167,26724.77111111111,27474.974830351635,25845.159557344065,27935.217158469946,37771.82126696833,25444.262108262108,28761.040745397397,27365.979140328698,19899.52380952381,19109.090829694323,26723.65585127202,27907.909570041607,28531.937758945383,31433.17581408294,18692.24839857651,29518.777722277722,19274.316847826085,30804.55210702341,18401.19875311721,35425.9910693302,29328.067850670534,28373.984484038607,36615.188955823294,32957.7067748765,49696.09549520767,29487.911645569624,28000.323735050595,30712.252579852582,29796.169051943336,29593.004651162788,27775.723468809072,28799.57090620032,18380.52800675676,19366.051515151517,11625.23185840708,10407.036637931034,31084.187981330222,28484.818676470586,27094.42757248437,24313.811067193677,27837.815095676826,27485.876419213975,27542.054604486424,27938.86243359655,29137.58167456556,30955.184961580682,25519.328849902533,23142.95707090275,28649.3123039807,30235.395862791305,32853.07791195949,27635.652305308016,28988.303882476393,28418.07459608113,31599.59860568879,28282.63236743839,27834.962018489987,29649.955267693913,30745.40051518438,31810.48494117647,31640.899731453508,30212.23513916501,28264.538302649304,26457.302687599786,35263.4612716763,46973.43706150007,47605.56990276277,31142.49176313446,32730.37005227782,28194.632921556517,27306.710538016898,35576.16015015015,29654.421138570167,31787.53683071931,24671.68717998448,33692.69319077096,53320.79408754355,29378.37092356688,35130.599757999466,30701.392111787245,29708.117678100265,27436.43879044684,18843.927118644067,13971.05,9899.0,9210.114285714286,8498.7,7060.875,6718.4,38497.99991103203,36495.05197322871],\"z\":[44077.37732656515,45046.389645776566,37174.7852233677,48689.502317146886,59368.48809922896,41336.7543447628,31920.9752901535,38448.52310624107,41910.27766266059,47545.389507154214,48206.83524298696,45084.889838868796,42800.849013308856,56413.26530612245,44500.15447991761,49600.0,40556.10096670247,55926.016949152545,45850.40625940415,52145.0438700498,49339.97694289977,47603.94863563403,55146.71605641829,54566.09174964438,53294.28036605657,41604.019746121296,37255.47897521582,51024.41501103753,31697.87461569309,51658.243840808595,45941.897233201584,42932.11492178099,45313.01826616411,50160.27370855821,52983.029315960914,37334.122725151654,40018.80980861244,39352.57674210172,41258.51174934726,39226.709718399325,38870.62646217832,36970.33406957482,46590.61773067976,35452.77777777778,37954.661016949154,33878.98457583548,49146.19179163378,37387.16647331786,40961.42621599341,45974.239558707646,45051.53711023276,41930.81637976004,47170.5986360192,47078.39570792986,46257.88623141564,35471.76449470472,30891.499755740108,42059.85241324292,37134.57833515085,38831.58611300204,48471.471065440775,48310.57874762808,38215.01969515328,33435.08529854491,52907.61729045862,66988.43916626273,44992.89523809524,46644.487056567596,34086.312019566736,48762.21575885775,45361.88901139287,60978.980156898935,38624.421748272754,39597.166542934916,41705.82161029632,39087.653144568474,41633.743570903745,39460.666121781775,40251.21661721068,41774.27087495006,39256.11461475185,38452.27768354737,40674.19562419562,48628.48101265823,38252.15873697777,32716.721912072575,32043.596986817327,52705.198220064725,30152.624894157492,54550.96457938014,51719.62392730944,38360.26737967914,37343.77581674803,53190.408055113934,45787.52136752137,48386.186931348224,49033.6112283664,43517.79334500876,48031.84405236198,66749.32432432432,48458.070452155625,67516.10416666667,35715.28990024938,45353.27102803739,39205.5913711877,34379.446470714436,42254.63917525773,44161.208347357795,43922.50354107649,44183.00467914438,34291.12770622088,48376.816829579264,46403.06558935361,45151.180555555555,48179.67899891186,48618.693812797464,48119.22881785895,47761.52060359837,46338.850996852045,41233.91199724992,47755.343356359204,43826.61372085164,35591.40783744557,40761.6342706171,43495.921875,47515.75137294059,49181.98301583659,49810.381621893044,56063.554463554465,46443.01446416831,48847.752808988764,47786.077844311374,45862.96641791045,37241.0076373491,41920.35115722266,49984.744680851065,70598.21714743589,50901.04566050889,44147.38841405508,54356.76773991872,41774.201312910285,43941.33639043564,42535.908353609084,42294.68302658487,40243.30794341676,43158.752093802344,41320.63847092314,42009.31203931204,44595.71266325951,40640.02835538753,62452.1568627451,41683.36708860759,40339.051269765216,52723.98100514444,41240.75718015666,42142.367736339984,44339.43506969919,43914.59143968872,62750.50890585242,46943.73484236055,60725.05376344086,51240.55706521739,66474.76851851853,48477.77512532824,49856.0049961568,50030.39814007556,53195.15972894482,51982.9373650108,43556.74991562605,30954.92213570634,55395.433070866144,46997.72631578947,39834.452700771646,52440.92213114754,48853.41473509934,41074.912280701756,43091.12903225807,45166.63778162911,44596.754599097534,43532.879377431906,48975.13330963384,43075.55813279212,57254.92001938924,48283.66302071213,46998.349188584216,56373.53896103896,58027.5960170697,58649.14965986394,49872.18717139853,60152.28136882129,59997.154471544716,49564.30274135876,48982.82092772384,40249.6901626646,42254.87188132165,39679.006723053564,52373.37689713322,52462.761219595755,53862.06935374915,42236.95077634622,36309.92679355783,43888.3660392471,46008.21100917431,46582.9262777024,43138.31365935919,45051.97344153449,49367.853610286846,29807.45415318231,34822.69896193771,57703.10103367789,53467.53812636166,50729.46888160973,44751.262315270935,58263.6518771331,43087.27726300784,42884.251660805,39410.32208977936,49358.39920948617,48488.119738072965,50761.58536585366,37872.772772772776,44596.27518053972,42776.18510158014,47147.65674477517,68521.78048780488,51150.58060770273,40853.17880794702,62940.85106382979,64621.32352941176,57148.50746268657,39172.93853073463,43873.31451345068,43597.55288916956,43205.25284202274,43618.739903069465,43542.770034843204,51413.67231638418,38911.20996441281,46876.736870897155,49312.018779342725,47655.65008726004,48806.292749658,45258.205044218805,65782.31046931408,60267.29257641921,40467.48366013072,42747.77932682732,53116.8561542264,44230.64128256513,51006.18173875054,33697.75967413442,46514.28571428572,48290.570512820515,46674.091123701604,58294.750430292595,48095.31211141507,46548.88964423295,50434.565667011375,41705.801389246204,50281.965081723625,55155.26918671249,43494.81280365819,47088.15511163337,52091.4392348962,37891.21682614191,67109.00537634408,44640.43517679057,52650.477880939376,44479.08179503501,55685.14339445228,55395.263628239496,54994.23597025017,53395.324515533684,54578.78932316492,43522.36215112321,50111.15002918856,42689.82683982684,53214.13770053476,48495.15562836415,57643.046357615895,44040.64776530813,40319.50721481078,38690.14348097317,36323.106060606064,50340.84363882771,44906.99966865474,49848.31059811123,56428.80434782609,60217.778519012674,60606.393775372126,49279.8045112782,54794.05574516496,47237.72430668842,60892.52136752137,49312.35207100592,70132.48730964467,66239.82222222222,58922.48611967921,65958.85311871227,55909.071038251364,40219.74496092143,66726.56695156696,51223.70902559497,64544.56384323641,73525.85034013605,75589.95633187774,54909.29549902153,53354.114655570964,54145.056497175145,46302.017812413025,73520.99644128114,60229.42057942058,74212.22826086957,48008.406810580724,51355.112219451374,36201.086956521736,53607.9557810801,55107.9435783222,51510.79651941098,40816.56669019054,47062.68370607029,46338.841285296985,54053.26586936523,49448.18796068796,52133.43625136215,50143.286529179466,52447.16446124764,58541.81240063593,62112.83783783784,61712.37373737374,62532.30088495575,62720.68965517241,46554.18125243096,59291.39705882353,57712.76293348493,67063.63636363637,60951.133947554925,64988.16593886463,60003.778040141675,54854.235463029436,63546.84044233807,56371.07574094402,54718.849902534115,49248.9926385122,54256.80036188178,51235.205551191415,48415.38761199844,56554.84308407594,60756.03357817419,51997.112409762805,47969.506413831565,52189.581777445856,53304.661016949154,48461.190911465135,48654.43329718005,45123.58823529412,47362.4034911044,49028.47912524851,51230.22002694207,38618.98616285258,55618.92375447289,49868.0170262733,49738.70196017904,35353.829029385575,35272.20873786408,38686.951822112416,42039.37305469097,48452.53753753754,50468.402471315094,47295.79502433748,38075.99883630721,38502.560495216654,54026.01807491289,53547.515923566876,57321.29604732455,48923.32657200811,53517.39395169474,57811.354006163325,74706.77966101695,48912.5,66771.42857142857,66650.0,66775.0,64100.0,63300.0,46758.69661921708,39425.317332102466],\"type\":\"scatter3d\"}],                        {\"template\":{\"data\":{\"histogram2dcontour\":[{\"type\":\"histogram2dcontour\",\"colorbar\":{\"outlinewidth\":0,\"ticks\":\"\"},\"colorscale\":[[0.0,\"#0d0887\"],[0.1111111111111111,\"#46039f\"],[0.2222222222222222,\"#7201a8\"],[0.3333333333333333,\"#9c179e\"],[0.4444444444444444,\"#bd3786\"],[0.5555555555555556,\"#d8576b\"],[0.6666666666666666,\"#ed7953\"],[0.7777777777777778,\"#fb9f3a\"],[0.8888888888888888,\"#fdca26\"],[1.0,\"#f0f921\"]]}],\"choropleth\":[{\"type\":\"choropleth\",\"colorbar\":{\"outlinewidth\":0,\"ticks\":\"\"}}],\"histogram2d\":[{\"type\":\"histogram2d\",\"colorbar\":{\"outlinewidth\":0,\"ticks\":\"\"},\"colorscale\":[[0.0,\"#0d0887\"],[0.1111111111111111,\"#46039f\"],[0.2222222222222222,\"#7201a8\"],[0.3333333333333333,\"#9c179e\"],[0.4444444444444444,\"#bd3786\"],[0.5555555555555556,\"#d8576b\"],[0.6666666666666666,\"#ed7953\"],[0.7777777777777778,\"#fb9f3a\"],[0.8888888888888888,\"#fdca26\"],[1.0,\"#f0f921\"]]}],\"heatmap\":[{\"type\":\"heatmap\",\"colorbar\":{\"outlinewidth\":0,\"ticks\":\"\"},\"colorscale\":[[0.0,\"#0d0887\"],[0.1111111111111111,\"#46039f\"],[0.2222222222222222,\"#7201a8\"],[0.3333333333333333,\"#9c179e\"],[0.4444444444444444,\"#bd3786\"],[0.5555555555555556,\"#d8576b\"],[0.6666666666666666,\"#ed7953\"],[0.7777777777777778,\"#fb9f3a\"],[0.8888888888888888,\"#fdca26\"],[1.0,\"#f0f921\"]]}],\"heatmapgl\":[{\"type\":\"heatmapgl\",\"colorbar\":{\"outlinewidth\":0,\"ticks\":\"\"},\"colorscale\":[[0.0,\"#0d0887\"],[0.1111111111111111,\"#46039f\"],[0.2222222222222222,\"#7201a8\"],[0.3333333333333333,\"#9c179e\"],[0.4444444444444444,\"#bd3786\"],[0.5555555555555556,\"#d8576b\"],[0.6666666666666666,\"#ed7953\"],[0.7777777777777778,\"#fb9f3a\"],[0.8888888888888888,\"#fdca26\"],[1.0,\"#f0f921\"]]}],\"contourcarpet\":[{\"type\":\"contourcarpet\",\"colorbar\":{\"outlinewidth\":0,\"ticks\":\"\"}}],\"contour\":[{\"type\":\"contour\",\"colorbar\":{\"outlinewidth\":0,\"ticks\":\"\"},\"colorscale\":[[0.0,\"#0d0887\"],[0.1111111111111111,\"#46039f\"],[0.2222222222222222,\"#7201a8\"],[0.3333333333333333,\"#9c179e\"],[0.4444444444444444,\"#bd3786\"],[0.5555555555555556,\"#d8576b\"],[0.6666666666666666,\"#ed7953\"],[0.7777777777777778,\"#fb9f3a\"],[0.8888888888888888,\"#fdca26\"],[1.0,\"#f0f921\"]]}],\"surface\":[{\"type\":\"surface\",\"colorbar\":{\"outlinewidth\":0,\"ticks\":\"\"},\"colorscale\":[[0.0,\"#0d0887\"],[0.1111111111111111,\"#46039f\"],[0.2222222222222222,\"#7201a8\"],[0.3333333333333333,\"#9c179e\"],[0.4444444444444444,\"#bd3786\"],[0.5555555555555556,\"#d8576b\"],[0.6666666666666666,\"#ed7953\"],[0.7777777777777778,\"#fb9f3a\"],[0.8888888888888888,\"#fdca26\"],[1.0,\"#f0f921\"]]}],\"mesh3d\":[{\"type\":\"mesh3d\",\"colorbar\":{\"outlinewidth\":0,\"ticks\":\"\"}}],\"scatter\":[{\"fillpattern\":{\"fillmode\":\"overlay\",\"size\":10,\"solidity\":0.2},\"type\":\"scatter\"}],\"parcoords\":[{\"type\":\"parcoords\",\"line\":{\"colorbar\":{\"outlinewidth\":0,\"ticks\":\"\"}}}],\"scatterpolargl\":[{\"type\":\"scatterpolargl\",\"marker\":{\"colorbar\":{\"outlinewidth\":0,\"ticks\":\"\"}}}],\"bar\":[{\"error_x\":{\"color\":\"#2a3f5f\"},\"error_y\":{\"color\":\"#2a3f5f\"},\"marker\":{\"line\":{\"color\":\"#E5ECF6\",\"width\":0.5},\"pattern\":{\"fillmode\":\"overlay\",\"size\":10,\"solidity\":0.2}},\"type\":\"bar\"}],\"scattergeo\":[{\"type\":\"scattergeo\",\"marker\":{\"colorbar\":{\"outlinewidth\":0,\"ticks\":\"\"}}}],\"scatterpolar\":[{\"type\":\"scatterpolar\",\"marker\":{\"colorbar\":{\"outlinewidth\":0,\"ticks\":\"\"}}}],\"histogram\":[{\"marker\":{\"pattern\":{\"fillmode\":\"overlay\",\"size\":10,\"solidity\":0.2}},\"type\":\"histogram\"}],\"scattergl\":[{\"type\":\"scattergl\",\"marker\":{\"colorbar\":{\"outlinewidth\":0,\"ticks\":\"\"}}}],\"scatter3d\":[{\"type\":\"scatter3d\",\"line\":{\"colorbar\":{\"outlinewidth\":0,\"ticks\":\"\"}},\"marker\":{\"colorbar\":{\"outlinewidth\":0,\"ticks\":\"\"}}}],\"scattermapbox\":[{\"type\":\"scattermapbox\",\"marker\":{\"colorbar\":{\"outlinewidth\":0,\"ticks\":\"\"}}}],\"scatterternary\":[{\"type\":\"scatterternary\",\"marker\":{\"colorbar\":{\"outlinewidth\":0,\"ticks\":\"\"}}}],\"scattercarpet\":[{\"type\":\"scattercarpet\",\"marker\":{\"colorbar\":{\"outlinewidth\":0,\"ticks\":\"\"}}}],\"carpet\":[{\"aaxis\":{\"endlinecolor\":\"#2a3f5f\",\"gridcolor\":\"white\",\"linecolor\":\"white\",\"minorgridcolor\":\"white\",\"startlinecolor\":\"#2a3f5f\"},\"baxis\":{\"endlinecolor\":\"#2a3f5f\",\"gridcolor\":\"white\",\"linecolor\":\"white\",\"minorgridcolor\":\"white\",\"startlinecolor\":\"#2a3f5f\"},\"type\":\"carpet\"}],\"table\":[{\"cells\":{\"fill\":{\"color\":\"#EBF0F8\"},\"line\":{\"color\":\"white\"}},\"header\":{\"fill\":{\"color\":\"#C8D4E3\"},\"line\":{\"color\":\"white\"}},\"type\":\"table\"}],\"barpolar\":[{\"marker\":{\"line\":{\"color\":\"#E5ECF6\",\"width\":0.5},\"pattern\":{\"fillmode\":\"overlay\",\"size\":10,\"solidity\":0.2}},\"type\":\"barpolar\"}],\"pie\":[{\"automargin\":true,\"type\":\"pie\"}]},\"layout\":{\"autotypenumbers\":\"strict\",\"colorway\":[\"#636efa\",\"#EF553B\",\"#00cc96\",\"#ab63fa\",\"#FFA15A\",\"#19d3f3\",\"#FF6692\",\"#B6E880\",\"#FF97FF\",\"#FECB52\"],\"font\":{\"color\":\"#2a3f5f\"},\"hovermode\":\"closest\",\"hoverlabel\":{\"align\":\"left\"},\"paper_bgcolor\":\"white\",\"plot_bgcolor\":\"#E5ECF6\",\"polar\":{\"bgcolor\":\"#E5ECF6\",\"angularaxis\":{\"gridcolor\":\"white\",\"linecolor\":\"white\",\"ticks\":\"\"},\"radialaxis\":{\"gridcolor\":\"white\",\"linecolor\":\"white\",\"ticks\":\"\"}},\"ternary\":{\"bgcolor\":\"#E5ECF6\",\"aaxis\":{\"gridcolor\":\"white\",\"linecolor\":\"white\",\"ticks\":\"\"},\"baxis\":{\"gridcolor\":\"white\",\"linecolor\":\"white\",\"ticks\":\"\"},\"caxis\":{\"gridcolor\":\"white\",\"linecolor\":\"white\",\"ticks\":\"\"}},\"coloraxis\":{\"colorbar\":{\"outlinewidth\":0,\"ticks\":\"\"}},\"colorscale\":{\"sequential\":[[0.0,\"#0d0887\"],[0.1111111111111111,\"#46039f\"],[0.2222222222222222,\"#7201a8\"],[0.3333333333333333,\"#9c179e\"],[0.4444444444444444,\"#bd3786\"],[0.5555555555555556,\"#d8576b\"],[0.6666666666666666,\"#ed7953\"],[0.7777777777777778,\"#fb9f3a\"],[0.8888888888888888,\"#fdca26\"],[1.0,\"#f0f921\"]],\"sequentialminus\":[[0.0,\"#0d0887\"],[0.1111111111111111,\"#46039f\"],[0.2222222222222222,\"#7201a8\"],[0.3333333333333333,\"#9c179e\"],[0.4444444444444444,\"#bd3786\"],[0.5555555555555556,\"#d8576b\"],[0.6666666666666666,\"#ed7953\"],[0.7777777777777778,\"#fb9f3a\"],[0.8888888888888888,\"#fdca26\"],[1.0,\"#f0f921\"]],\"diverging\":[[0,\"#8e0152\"],[0.1,\"#c51b7d\"],[0.2,\"#de77ae\"],[0.3,\"#f1b6da\"],[0.4,\"#fde0ef\"],[0.5,\"#f7f7f7\"],[0.6,\"#e6f5d0\"],[0.7,\"#b8e186\"],[0.8,\"#7fbc41\"],[0.9,\"#4d9221\"],[1,\"#276419\"]]},\"xaxis\":{\"gridcolor\":\"white\",\"linecolor\":\"white\",\"ticks\":\"\",\"title\":{\"standoff\":15},\"zerolinecolor\":\"white\",\"automargin\":true,\"zerolinewidth\":2},\"yaxis\":{\"gridcolor\":\"white\",\"linecolor\":\"white\",\"ticks\":\"\",\"title\":{\"standoff\":15},\"zerolinecolor\":\"white\",\"automargin\":true,\"zerolinewidth\":2},\"scene\":{\"xaxis\":{\"backgroundcolor\":\"#E5ECF6\",\"gridcolor\":\"white\",\"linecolor\":\"white\",\"showbackground\":true,\"ticks\":\"\",\"zerolinecolor\":\"white\",\"gridwidth\":2},\"yaxis\":{\"backgroundcolor\":\"#E5ECF6\",\"gridcolor\":\"white\",\"linecolor\":\"white\",\"showbackground\":true,\"ticks\":\"\",\"zerolinecolor\":\"white\",\"gridwidth\":2},\"zaxis\":{\"backgroundcolor\":\"#E5ECF6\",\"gridcolor\":\"white\",\"linecolor\":\"white\",\"showbackground\":true,\"ticks\":\"\",\"zerolinecolor\":\"white\",\"gridwidth\":2}},\"shapedefaults\":{\"line\":{\"color\":\"#2a3f5f\"}},\"annotationdefaults\":{\"arrowcolor\":\"#2a3f5f\",\"arrowhead\":0,\"arrowwidth\":1},\"geo\":{\"bgcolor\":\"white\",\"landcolor\":\"#E5ECF6\",\"subunitcolor\":\"white\",\"showland\":true,\"showlakes\":true,\"lakecolor\":\"white\"},\"title\":{\"x\":0.05},\"mapbox\":{\"style\":\"light\"}}}},                        {\"responsive\": true}                    ).then(function(){\n",
       "                            \n",
       "var gd = document.getElementById('a9c4979a-141f-46e1-ba03-c9c7d86c45ce');\n",
       "var x = new MutationObserver(function (mutations, observer) {{\n",
       "        var display = window.getComputedStyle(gd).display;\n",
       "        if (!display || display === 'none') {{\n",
       "            console.log([gd, 'removed!']);\n",
       "            Plotly.purge(gd);\n",
       "            observer.disconnect();\n",
       "        }}\n",
       "}});\n",
       "\n",
       "// Listen for the removal of the full notebook cells\n",
       "var notebookContainer = gd.closest('#notebook-container');\n",
       "if (notebookContainer) {{\n",
       "    x.observe(notebookContainer, {childList: true});\n",
       "}}\n",
       "\n",
       "// Listen for the clearing of the current output cell\n",
       "var outputEl = gd.closest('.output');\n",
       "if (outputEl) {{\n",
       "    x.observe(outputEl, {childList: true});\n",
       "}}\n",
       "\n",
       "                        })                };                });            </script>        </div>"
      ]
     },
     "metadata": {},
     "output_type": "display_data"
    }
   ],
   "source": [
    "import plotly.graph_objects as go\n",
    "# plot the mushroom body in 3D\n",
    "\n",
    "fig = go.Figure(data=[go.Scatter3d(x=larval_neuron_df['x'], y=larval_neuron_df['y'], z=larval_neuron_df['z'],\n",
    "                                   mode='markers')])\n",
    "fig.show()"
   ]
  },
  {
   "cell_type": "code",
   "execution_count": 10,
   "metadata": {
    "scrolled": true
   },
   "outputs": [
    {
     "data": {
      "text/plain": [
       "<matplotlib.collections.PathCollection at 0x7fd5f87826a0>"
      ]
     },
     "execution_count": 10,
     "metadata": {},
     "output_type": "execute_result"
    },
    {
     "data": {
      "image/png": "[encoded data removed]",
      "text/plain": [
       "<Figure size 432x288 with 1 Axes>"
      ]
     },
     "metadata": {
      "needs_background": "light"
     },
     "output_type": "display_data"
    }
   ],
   "source": [
    "plt.scatter(larval_neuron_df['x'], larval_neuron_df['y'])"
   ]
  },
  {
   "cell_type": "code",
   "execution_count": 12,
   "metadata": {},
   "outputs": [
    {
     "data": {
      "text/plain": [
       "<matplotlib.collections.PathCollection at 0x7fd5f81362e0>"
      ]
     },
     "execution_count": 12,
     "metadata": {},
     "output_type": "execute_result"
    },
    {
     "data": {
      "image/png": "[encoded data removed]",
      "text/plain": [
       "<Figure size 432x288 with 1 Axes>"
      ]
     },
     "metadata": {
      "needs_background": "light"
     },
     "output_type": "display_data"
    }
   ],
   "source": [
    "plt.scatter(larval_neuron_df['y'], larval_neuron_df['z'])"
   ]
  },
  {
   "cell_type": "code",
   "execution_count": 13,
   "metadata": {},
   "outputs": [
    {
     "data": {
      "text/plain": [
       "<matplotlib.collections.PathCollection at 0x7fd5f825b1c0>"
      ]
     },
     "execution_count": 13,
     "metadata": {},
     "output_type": "execute_result"
    },
    {
     "data": {
      "image/png": "[encoded data removed]",
      "text/plain": [
       "<Figure size 432x288 with 1 Axes>"
      ]
     },
     "metadata": {
      "needs_background": "light"
     },
     "output_type": "display_data"
    }
   ],
   "source": [
    "plt.scatter(larval_neuron_df['x'], larval_neuron_df['z'])"
   ]
  },
  {
   "cell_type": "code",
   "execution_count": 18,
   "metadata": {
    "scrolled": false
   },
   "outputs": [],
   "source": [
    "table=pd.read_csv('larval_MB/connectivity matrix table 1.csv')"
   ]
  },
  {
   "cell_type": "code",
   "execution_count": 19,
   "metadata": {},
   "outputs": [],
   "source": [
    "del table['Unnamed: 0']"
   ]
  },
  {
   "cell_type": "code",
   "execution_count": 20,
   "metadata": {},
   "outputs": [],
   "source": [
    "A= table.values"
   ]
  },
  {
   "cell_type": "code",
   "execution_count": 21,
   "metadata": {},
   "outputs": [
    {
     "data": {
      "text/plain": [
       "array([[0, 0, 0, ..., 0, 0, 2],\n",
       "       [0, 0, 0, ..., 0, 0, 0],\n",
       "       [0, 0, 0, ..., 0, 0, 0],\n",
       "       ...,\n",
       "       [0, 0, 0, ..., 0, 3, 0],\n",
       "       [2, 0, 0, ..., 0, 0, 1],\n",
       "       [0, 2, 0, ..., 0, 1, 0]])"
      ]
     },
     "execution_count": 21,
     "metadata": {},
     "output_type": "execute_result"
    }
   ],
   "source": [
    "A"
   ]
  },
  {
   "cell_type": "code",
   "execution_count": 22,
   "metadata": {
    "scrolled": true
   },
   "outputs": [],
   "source": [
    "overall_connection=A+A.T"
   ]
  },
  {
   "cell_type": "code",
   "execution_count": 26,
   "metadata": {},
   "outputs": [],
   "source": [
    "e_val, e_vec= np.linalg.eigh(overall_connection)"
   ]
  },
  {
   "cell_type": "code",
   "execution_count": 28,
   "metadata": {},
   "outputs": [
    {
     "data": {
      "text/plain": [
       "[<matplotlib.lines.Line2D at 0x7fd5f8525d30>]"
      ]
     },
     "execution_count": 28,
     "metadata": {},
     "output_type": "execute_result"
    },
    {
     "data": {
      "image/png": "[encoded data removed]",
      "text/plain": [
       "<Figure size 432x288 with 1 Axes>"
      ]
     },
     "metadata": {
      "needs_background": "light"
     },
     "output_type": "display_data"
    }
   ],
   "source": [
    "plt.plot(e_val)"
   ]
  },
  {
   "cell_type": "code",
   "execution_count": 46,
   "metadata": {
    "scrolled": false
   },
   "outputs": [
    {
     "data": {
      "text/plain": [
       "<matplotlib.collections.PathCollection at 0x7fd5fa504460>"
      ]
     },
     "execution_count": 46,
     "metadata": {},
     "output_type": "execute_result"
    },
    {
     "data": {
      "image/png": "[encoded data removed]",
      "text/plain": [
       "<Figure size 432x288 with 1 Axes>"
      ]
     },
     "metadata": {
      "needs_background": "light"
     },
     "output_type": "display_data"
    }
   ],
   "source": [
    "plt.scatter(e_vec[:,385],e_vec[:,386])"
   ]
  },
  {
   "cell_type": "code",
   "execution_count": 47,
   "metadata": {},
   "outputs": [
    {
     "data": {
      "text/plain": [
       "array([[ 2.30959180e-03, -1.23408588e-02,  1.56858727e-02, ...,\n",
       "         2.84033223e-03, -2.10151535e-02,  8.92897903e-03],\n",
       "       [-1.76226256e-02,  1.07068719e-04,  1.31890790e-02, ...,\n",
       "         2.56552747e-02, -1.75873931e-02, -4.85807046e-03],\n",
       "       [-4.62039523e-02,  5.19443092e-03, -2.13971879e-02, ...,\n",
       "        -4.31917564e-03, -1.10450988e-02,  8.58277100e-03],\n",
       "       ...,\n",
       "       [ 1.74692602e-01,  2.85465388e-02, -2.18101460e-02, ...,\n",
       "        -1.36524429e-02, -2.51220517e-02,  2.73797396e-02],\n",
       "       [ 4.22515805e-02,  1.87517914e-02, -6.94997482e-02, ...,\n",
       "         1.37707661e-01, -1.82692705e-01, -7.75933254e-02],\n",
       "       [-1.63018031e-02, -1.34567024e-02,  1.02440585e-01, ...,\n",
       "         1.33207515e-01, -1.83322560e-01,  7.01801062e-02]])"
      ]
     },
     "execution_count": 47,
     "metadata": {},
     "output_type": "execute_result"
    }
   ],
   "source": [
    "e_vec[:,370:386]"
   ]
  },
  {
   "cell_type": "code",
   "execution_count": null,
   "metadata": {},
   "outputs": [],
   "source": []
  },
  {
   "cell_type": "code",
   "execution_count": null,
   "metadata": {},
   "outputs": [],
   "source": []
  },
  {
   "cell_type": "code",
   "execution_count": null,
   "metadata": {},
   "outputs": [],
   "source": []
  },
  {
   "cell_type": "code",
   "execution_count": null,
   "metadata": {},
   "outputs": [],
   "source": []
  }
 ],
 "metadata": {
  "@webio": {
   "lastCommId": null,
   "lastKernelId": null
  },
  "kernelspec": {
   "display_name": "Python 3 (ipykernel)",
   "language": "python",
   "name": "python3"
  },
  "language_info": {
   "codemirror_mode": {
    "name": "ipython",
    "version": 3
   },
   "file_extension": ".py",
   "mimetype": "text/x-python",
   "name": "python",
   "nbconvert_exporter": "python",
   "pygments_lexer": "ipython3",
   "version": "3.9.7"
  }
 },
 "nbformat": 4,
 "nbformat_minor": 4
}
