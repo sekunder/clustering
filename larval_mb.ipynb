{
 "cells": [
  {
   "cell_type": "markdown",
   "metadata": {},
   "source": [
    "# Larval Mushroom Body\n",
    "The code below will load the connectome of the mushroom body of a _Drosophila_ larva. In the end, there will be a pair of `pandas` DataFrames and a `networkx` DiGraph.\n",
    "\n",
    "If any of `bokeh`, `ipyvolume`, or `colorcet` don't load, you can safely comment out (or delete) those lines -- those packages are not necessary to do any of the analyses we've discussed. They could be useful for visualization down the road, so it's worth trying to install at least some of them.\n",
    "\n",
    "Data from the paper `The complete connectome of a learning and memory centre in an insect brain. Nature. 2017 August 09; 548(7666): 175–182. doi:10.1038/nature23455`"
   ]
  },
  {
   "cell_type": "code",
   "execution_count": 3,
   "metadata": {
    "scrolled": false
   },
   "outputs": [
    {
     "data": {
      "text/html": [
       "\n",
       "    <div class=\"bk-root\">\n",
       "        <a href=\"https://bokeh.org\" target=\"_blank\" class=\"bk-logo bk-logo-small bk-logo-notebook\"></a>\n",
       "        <span id=\"1002\">Loading BokehJS ...</span>\n",
       "    </div>"
      ]
     },
     "metadata": {},
     "output_type": "display_data"
    },
    {
     "data": {
      "application/javascript": [
       "\n",
       "(function(root) {\n",
       "  function now() {\n",
       "    return new Date();\n",
       "  }\n",
       "\n",
       "  const force = true;\n",
       "\n",
       "  if (typeof root._bokeh_onload_callbacks === \"undefined\" || force === true) {\n",
       "    root._bokeh_onload_callbacks = [];\n",
       "    root._bokeh_is_loading = undefined;\n",
       "  }\n",
       "\n",
       "  const JS_MIME_TYPE = 'application/javascript';\n",
       "  const HTML_MIME_TYPE = 'text/html';\n",
       "  const EXEC_MIME_TYPE = 'application/vnd.bokehjs_exec.v0+json';\n",
       "  const CLASS_NAME = 'output_bokeh rendered_html';\n",
       "\n",
       "  /**\n",
       "   * Render data to the DOM node\n",
       "   */\n",
       "  function render(props, node) {\n",
       "    const script = document.createElement(\"script\");\n",
       "    node.appendChild(script);\n",
       "  }\n",
       "\n",
       "  /**\n",
       "   * Handle when an output is cleared or removed\n",
       "   */\n",
       "  function handleClearOutput(event, handle) {\n",
       "    const cell = handle.cell;\n",
       "\n",
       "    const id = cell.output_area._bokeh_element_id;\n",
       "    const server_id = cell.output_area._bokeh_server_id;\n",
       "    // Clean up Bokeh references\n",
       "    if (id != null && id in Bokeh.index) {\n",
       "      Bokeh.index[id].model.document.clear();\n",
       "      delete Bokeh.index[id];\n",
       "    }\n",
       "\n",
       "    if (server_id !== undefined) {\n",
       "      // Clean up Bokeh references\n",
       "      const cmd_clean = \"from bokeh.io.state import curstate; print(curstate().uuid_to_server['\" + server_id + \"'].get_sessions()[0].document.roots[0]._id)\";\n",
       "      cell.notebook.kernel.execute(cmd_clean, {\n",
       "        iopub: {\n",
       "          output: function(msg) {\n",
       "            const id = msg.content.text.trim();\n",
       "            if (id in Bokeh.index) {\n",
       "              Bokeh.index[id].model.document.clear();\n",
       "              delete Bokeh.index[id];\n",
       "            }\n",
       "          }\n",
       "        }\n",
       "      });\n",
       "      // Destroy server and session\n",
       "      const cmd_destroy = \"import bokeh.io.notebook as ion; ion.destroy_server('\" + server_id + \"')\";\n",
       "      cell.notebook.kernel.execute(cmd_destroy);\n",
       "    }\n",
       "  }\n",
       "\n",
       "  /**\n",
       "   * Handle when a new output is added\n",
       "   */\n",
       "  function handleAddOutput(event, handle) {\n",
       "    const output_area = handle.output_area;\n",
       "    const output = handle.output;\n",
       "\n",
       "    // limit handleAddOutput to display_data with EXEC_MIME_TYPE content only\n",
       "    if ((output.output_type != \"display_data\") || (!Object.prototype.hasOwnProperty.call(output.data, EXEC_MIME_TYPE))) {\n",
       "      return\n",
       "    }\n",
       "\n",
       "    const toinsert = output_area.element.find(\".\" + CLASS_NAME.split(' ')[0]);\n",
       "\n",
       "    if (output.metadata[EXEC_MIME_TYPE][\"id\"] !== undefined) {\n",
       "      toinsert[toinsert.length - 1].firstChild.textContent = output.data[JS_MIME_TYPE];\n",
       "      // store reference to embed id on output_area\n",
       "      output_area._bokeh_element_id = output.metadata[EXEC_MIME_TYPE][\"id\"];\n",
       "    }\n",
       "    if (output.metadata[EXEC_MIME_TYPE][\"server_id\"] !== undefined) {\n",
       "      const bk_div = document.createElement(\"div\");\n",
       "      bk_div.innerHTML = output.data[HTML_MIME_TYPE];\n",
       "      const script_attrs = bk_div.children[0].attributes;\n",
       "      for (let i = 0; i < script_attrs.length; i++) {\n",
       "        toinsert[toinsert.length - 1].firstChild.setAttribute(script_attrs[i].name, script_attrs[i].value);\n",
       "        toinsert[toinsert.length - 1].firstChild.textContent = bk_div.children[0].textContent\n",
       "      }\n",
       "      // store reference to server id on output_area\n",
       "      output_area._bokeh_server_id = output.metadata[EXEC_MIME_TYPE][\"server_id\"];\n",
       "    }\n",
       "  }\n",
       "\n",
       "  function register_renderer(events, OutputArea) {\n",
       "\n",
       "    function append_mime(data, metadata, element) {\n",
       "      // create a DOM node to render to\n",
       "      const toinsert = this.create_output_subarea(\n",
       "        metadata,\n",
       "        CLASS_NAME,\n",
       "        EXEC_MIME_TYPE\n",
       "      );\n",
       "      this.keyboard_manager.register_events(toinsert);\n",
       "      // Render to node\n",
       "      const props = {data: data, metadata: metadata[EXEC_MIME_TYPE]};\n",
       "      render(props, toinsert[toinsert.length - 1]);\n",
       "      element.append(toinsert);\n",
       "      return toinsert\n",
       "    }\n",
       "\n",
       "    /* Handle when an output is cleared or removed */\n",
       "    events.on('clear_output.CodeCell', handleClearOutput);\n",
       "    events.on('delete.Cell', handleClearOutput);\n",
       "\n",
       "    /* Handle when a new output is added */\n",
       "    events.on('output_added.OutputArea', handleAddOutput);\n",
       "\n",
       "    /**\n",
       "     * Register the mime type and append_mime function with output_area\n",
       "     */\n",
       "    OutputArea.prototype.register_mime_type(EXEC_MIME_TYPE, append_mime, {\n",
       "      /* Is output safe? */\n",
       "      safe: true,\n",
       "      /* Index of renderer in `output_area.display_order` */\n",
       "      index: 0\n",
       "    });\n",
       "  }\n",
       "\n",
       "  // register the mime type if in Jupyter Notebook environment and previously unregistered\n",
       "  if (root.Jupyter !== undefined) {\n",
       "    const events = require('base/js/events');\n",
       "    const OutputArea = require('notebook/js/outputarea').OutputArea;\n",
       "\n",
       "    if (OutputArea.prototype.mime_types().indexOf(EXEC_MIME_TYPE) == -1) {\n",
       "      register_renderer(events, OutputArea);\n",
       "    }\n",
       "  }\n",
       "\n",
       "  \n",
       "  if (typeof (root._bokeh_timeout) === \"undefined\" || force === true) {\n",
       "    root._bokeh_timeout = Date.now() + 5000;\n",
       "    root._bokeh_failed_load = false;\n",
       "  }\n",
       "\n",
       "  const NB_LOAD_WARNING = {'data': {'text/html':\n",
       "     \"<div style='background-color: #fdd'>\\n\"+\n",
       "     \"<p>\\n\"+\n",
       "     \"BokehJS does not appear to have successfully loaded. If loading BokehJS from CDN, this \\n\"+\n",
       "     \"may be due to a slow or bad network connection. Possible fixes:\\n\"+\n",
       "     \"</p>\\n\"+\n",
       "     \"<ul>\\n\"+\n",
       "     \"<li>re-rerun `output_notebook()` to attempt to load from CDN again, or</li>\\n\"+\n",
       "     \"<li>use INLINE resources instead, as so:</li>\\n\"+\n",
       "     \"</ul>\\n\"+\n",
       "     \"<code>\\n\"+\n",
       "     \"from bokeh.resources import INLINE\\n\"+\n",
       "     \"output_notebook(resources=INLINE)\\n\"+\n",
       "     \"</code>\\n\"+\n",
       "     \"</div>\"}};\n",
       "\n",
       "  function display_loaded() {\n",
       "    const el = document.getElementById(\"1002\");\n",
       "    if (el != null) {\n",
       "      el.textContent = \"BokehJS is loading...\";\n",
       "    }\n",
       "    if (root.Bokeh !== undefined) {\n",
       "      if (el != null) {\n",
       "        el.textContent = \"BokehJS \" + root.Bokeh.version + \" successfully loaded.\";\n",
       "      }\n",
       "    } else if (Date.now() < root._bokeh_timeout) {\n",
       "      setTimeout(display_loaded, 100)\n",
       "    }\n",
       "  }\n",
       "\n",
       "\n",
       "  function run_callbacks() {\n",
       "    try {\n",
       "      root._bokeh_onload_callbacks.forEach(function(callback) {\n",
       "        if (callback != null)\n",
       "          callback();\n",
       "      });\n",
       "    } finally {\n",
       "      delete root._bokeh_onload_callbacks\n",
       "    }\n",
       "    console.debug(\"Bokeh: all callbacks have finished\");\n",
       "  }\n",
       "\n",
       "  function load_libs(css_urls, js_urls, callback) {\n",
       "    if (css_urls == null) css_urls = [];\n",
       "    if (js_urls == null) js_urls = [];\n",
       "\n",
       "    root._bokeh_onload_callbacks.push(callback);\n",
       "    if (root._bokeh_is_loading > 0) {\n",
       "      console.debug(\"Bokeh: BokehJS is being loaded, scheduling callback at\", now());\n",
       "      return null;\n",
       "    }\n",
       "    if (js_urls == null || js_urls.length === 0) {\n",
       "      run_callbacks();\n",
       "      return null;\n",
       "    }\n",
       "    console.debug(\"Bokeh: BokehJS not loaded, scheduling load and callback at\", now());\n",
       "    root._bokeh_is_loading = css_urls.length + js_urls.length;\n",
       "\n",
       "    function on_load() {\n",
       "      root._bokeh_is_loading--;\n",
       "      if (root._bokeh_is_loading === 0) {\n",
       "        console.debug(\"Bokeh: all BokehJS libraries/stylesheets loaded\");\n",
       "        run_callbacks()\n",
       "      }\n",
       "    }\n",
       "\n",
       "    function on_error(url) {\n",
       "      console.error(\"failed to load \" + url);\n",
       "    }\n",
       "\n",
       "    for (let i = 0; i < css_urls.length; i++) {\n",
       "      const url = css_urls[i];\n",
       "      const element = document.createElement(\"link\");\n",
       "      element.onload = on_load;\n",
       "      element.onerror = on_error.bind(null, url);\n",
       "      element.rel = \"stylesheet\";\n",
       "      element.type = \"text/css\";\n",
       "      element.href = url;\n",
       "      console.debug(\"Bokeh: injecting link tag for BokehJS stylesheet: \", url);\n",
       "      document.body.appendChild(element);\n",
       "    }\n",
       "\n",
       "    for (let i = 0; i < js_urls.length; i++) {\n",
       "      const url = js_urls[i];\n",
       "      const element = document.createElement('script');\n",
       "      element.onload = on_load;\n",
       "      element.onerror = on_error.bind(null, url);\n",
       "      element.async = false;\n",
       "      element.src = url;\n",
       "      console.debug(\"Bokeh: injecting script tag for BokehJS library: \", url);\n",
       "      document.head.appendChild(element);\n",
       "    }\n",
       "  };\n",
       "\n",
       "  function inject_raw_css(css) {\n",
       "    const element = document.createElement(\"style\");\n",
       "    element.appendChild(document.createTextNode(css));\n",
       "    document.body.appendChild(element);\n",
       "  }\n",
       "\n",
       "  \n",
       "  const js_urls = [\"https://cdn.bokeh.org/bokeh/release/bokeh-2.4.1.min.js\", \"https://cdn.bokeh.org/bokeh/release/bokeh-gl-2.4.1.min.js\", \"https://cdn.bokeh.org/bokeh/release/bokeh-widgets-2.4.1.min.js\", \"https://cdn.bokeh.org/bokeh/release/bokeh-tables-2.4.1.min.js\", \"https://cdn.bokeh.org/bokeh/release/bokeh-mathjax-2.4.1.min.js\"];\n",
       "  const css_urls = [];\n",
       "  \n",
       "\n",
       "  const inline_js = [\n",
       "    function(Bokeh) {\n",
       "      Bokeh.set_log_level(\"info\");\n",
       "    },\n",
       "    function(Bokeh) {\n",
       "    \n",
       "    \n",
       "    }\n",
       "  ];\n",
       "\n",
       "  function run_inline_js() {\n",
       "    \n",
       "    if (root.Bokeh !== undefined || force === true) {\n",
       "      \n",
       "    for (let i = 0; i < inline_js.length; i++) {\n",
       "      inline_js[i].call(root, root.Bokeh);\n",
       "    }\n",
       "    if (force === true) {\n",
       "        display_loaded();\n",
       "      }} else if (Date.now() < root._bokeh_timeout) {\n",
       "      setTimeout(run_inline_js, 100);\n",
       "    } else if (!root._bokeh_failed_load) {\n",
       "      console.log(\"Bokeh: BokehJS failed to load within specified timeout.\");\n",
       "      root._bokeh_failed_load = true;\n",
       "    } else if (force !== true) {\n",
       "      const cell = $(document.getElementById(\"1002\")).parents('.cell').data().cell;\n",
       "      cell.output_area.append_execute_result(NB_LOAD_WARNING)\n",
       "    }\n",
       "\n",
       "  }\n",
       "\n",
       "  if (root._bokeh_is_loading === 0) {\n",
       "    console.debug(\"Bokeh: BokehJS loaded, going straight to plotting\");\n",
       "    run_inline_js();\n",
       "  } else {\n",
       "    load_libs(css_urls, js_urls, function() {\n",
       "      console.debug(\"Bokeh: BokehJS plotting callback run at\", now());\n",
       "      run_inline_js();\n",
       "    });\n",
       "  }\n",
       "}(window));"
      ],
      "application/vnd.bokehjs_load.v0+json": "\n(function(root) {\n  function now() {\n    return new Date();\n  }\n\n  const force = true;\n\n  if (typeof root._bokeh_onload_callbacks === \"undefined\" || force === true) {\n    root._bokeh_onload_callbacks = [];\n    root._bokeh_is_loading = undefined;\n  }\n\n  \n\n  \n  if (typeof (root._bokeh_timeout) === \"undefined\" || force === true) {\n    root._bokeh_timeout = Date.now() + 5000;\n    root._bokeh_failed_load = false;\n  }\n\n  const NB_LOAD_WARNING = {'data': {'text/html':\n     \"<div style='background-color: #fdd'>\\n\"+\n     \"<p>\\n\"+\n     \"BokehJS does not appear to have successfully loaded. If loading BokehJS from CDN, this \\n\"+\n     \"may be due to a slow or bad network connection. Possible fixes:\\n\"+\n     \"</p>\\n\"+\n     \"<ul>\\n\"+\n     \"<li>re-rerun `output_notebook()` to attempt to load from CDN again, or</li>\\n\"+\n     \"<li>use INLINE resources instead, as so:</li>\\n\"+\n     \"</ul>\\n\"+\n     \"<code>\\n\"+\n     \"from bokeh.resources import INLINE\\n\"+\n     \"output_notebook(resources=INLINE)\\n\"+\n     \"</code>\\n\"+\n     \"</div>\"}};\n\n  function display_loaded() {\n    const el = document.getElementById(\"1002\");\n    if (el != null) {\n      el.textContent = \"BokehJS is loading...\";\n    }\n    if (root.Bokeh !== undefined) {\n      if (el != null) {\n        el.textContent = \"BokehJS \" + root.Bokeh.version + \" successfully loaded.\";\n      }\n    } else if (Date.now() < root._bokeh_timeout) {\n      setTimeout(display_loaded, 100)\n    }\n  }\n\n\n  function run_callbacks() {\n    try {\n      root._bokeh_onload_callbacks.forEach(function(callback) {\n        if (callback != null)\n          callback();\n      });\n    } finally {\n      delete root._bokeh_onload_callbacks\n    }\n    console.debug(\"Bokeh: all callbacks have finished\");\n  }\n\n  function load_libs(css_urls, js_urls, callback) {\n    if (css_urls == null) css_urls = [];\n    if (js_urls == null) js_urls = [];\n\n    root._bokeh_onload_callbacks.push(callback);\n    if (root._bokeh_is_loading > 0) {\n      console.debug(\"Bokeh: BokehJS is being loaded, scheduling callback at\", now());\n      return null;\n    }\n    if (js_urls == null || js_urls.length === 0) {\n      run_callbacks();\n      return null;\n    }\n    console.debug(\"Bokeh: BokehJS not loaded, scheduling load and callback at\", now());\n    root._bokeh_is_loading = css_urls.length + js_urls.length;\n\n    function on_load() {\n      root._bokeh_is_loading--;\n      if (root._bokeh_is_loading === 0) {\n        console.debug(\"Bokeh: all BokehJS libraries/stylesheets loaded\");\n        run_callbacks()\n      }\n    }\n\n    function on_error(url) {\n      console.error(\"failed to load \" + url);\n    }\n\n    for (let i = 0; i < css_urls.length; i++) {\n      const url = css_urls[i];\n      const element = document.createElement(\"link\");\n      element.onload = on_load;\n      element.onerror = on_error.bind(null, url);\n      element.rel = \"stylesheet\";\n      element.type = \"text/css\";\n      element.href = url;\n      console.debug(\"Bokeh: injecting link tag for BokehJS stylesheet: \", url);\n      document.body.appendChild(element);\n    }\n\n    for (let i = 0; i < js_urls.length; i++) {\n      const url = js_urls[i];\n      const element = document.createElement('script');\n      element.onload = on_load;\n      element.onerror = on_error.bind(null, url);\n      element.async = false;\n      element.src = url;\n      console.debug(\"Bokeh: injecting script tag for BokehJS library: \", url);\n      document.head.appendChild(element);\n    }\n  };\n\n  function inject_raw_css(css) {\n    const element = document.createElement(\"style\");\n    element.appendChild(document.createTextNode(css));\n    document.body.appendChild(element);\n  }\n\n  \n  const js_urls = [\"https://cdn.bokeh.org/bokeh/release/bokeh-2.4.1.min.js\", \"https://cdn.bokeh.org/bokeh/release/bokeh-gl-2.4.1.min.js\", \"https://cdn.bokeh.org/bokeh/release/bokeh-widgets-2.4.1.min.js\", \"https://cdn.bokeh.org/bokeh/release/bokeh-tables-2.4.1.min.js\", \"https://cdn.bokeh.org/bokeh/release/bokeh-mathjax-2.4.1.min.js\"];\n  const css_urls = [];\n  \n\n  const inline_js = [\n    function(Bokeh) {\n      Bokeh.set_log_level(\"info\");\n    },\n    function(Bokeh) {\n    \n    \n    }\n  ];\n\n  function run_inline_js() {\n    \n    if (root.Bokeh !== undefined || force === true) {\n      \n    for (let i = 0; i < inline_js.length; i++) {\n      inline_js[i].call(root, root.Bokeh);\n    }\n    if (force === true) {\n        display_loaded();\n      }} else if (Date.now() < root._bokeh_timeout) {\n      setTimeout(run_inline_js, 100);\n    } else if (!root._bokeh_failed_load) {\n      console.log(\"Bokeh: BokehJS failed to load within specified timeout.\");\n      root._bokeh_failed_load = true;\n    } else if (force !== true) {\n      const cell = $(document.getElementById(\"1002\")).parents('.cell').data().cell;\n      cell.output_area.append_execute_result(NB_LOAD_WARNING)\n    }\n\n  }\n\n  if (root._bokeh_is_loading === 0) {\n    console.debug(\"Bokeh: BokehJS loaded, going straight to plotting\");\n    run_inline_js();\n  } else {\n    load_libs(css_urls, js_urls, function() {\n      console.debug(\"Bokeh: BokehJS plotting callback run at\", now());\n      run_inline_js();\n    });\n  }\n}(window));"
     },
     "metadata": {},
     "output_type": "display_data"
    },
    {
     "name": "stdout",
     "output_type": "stream",
     "text": [
      "2022 08 12 16:51:46  Imports complete\n",
      "2022 08 12 16:51:46  Reading neuron information from larval_MB/skeletons.csv\n",
      "2022 08 12 16:51:47  'skeleton_id' is the unique ID number for each neuron\n",
      "2022 08 12 16:51:47  'treenode_id' gives an idea of the size of the neuron (not an exact correspondence)\n",
      "2022 08 12 16:51:47  'x','y','z' are the coordinates of the centroid of the neuron\n"
     ]
    },
    {
     "data": {
      "text/html": [
       "<div>\n",
       "<style scoped>\n",
       "    .dataframe tbody tr th:only-of-type {\n",
       "        vertical-align: middle;\n",
       "    }\n",
       "\n",
       "    .dataframe tbody tr th {\n",
       "        vertical-align: top;\n",
       "    }\n",
       "\n",
       "    .dataframe thead th {\n",
       "        text-align: right;\n",
       "    }\n",
       "</style>\n",
       "<table border=\"1\" class=\"dataframe\">\n",
       "  <thead>\n",
       "    <tr style=\"text-align: right;\">\n",
       "      <th></th>\n",
       "      <th>neuron</th>\n",
       "      <th>treenode_id</th>\n",
       "      <th>x</th>\n",
       "      <th>y</th>\n",
       "      <th>z</th>\n",
       "    </tr>\n",
       "    <tr>\n",
       "      <th>skeleton_id</th>\n",
       "      <th></th>\n",
       "      <th></th>\n",
       "      <th></th>\n",
       "      <th></th>\n",
       "      <th></th>\n",
       "    </tr>\n",
       "  </thead>\n",
       "  <tbody>\n",
       "    <tr>\n",
       "      <th>29</th>\n",
       "      <td>KC #0 #29</td>\n",
       "      <td>2955</td>\n",
       "      <td>31438.829002</td>\n",
       "      <td>24738.514146</td>\n",
       "      <td>44077.377327</td>\n",
       "    </tr>\n",
       "    <tr>\n",
       "      <th>677717</th>\n",
       "      <td>KC1 #677717</td>\n",
       "      <td>2202</td>\n",
       "      <td>31859.598501</td>\n",
       "      <td>23931.804768</td>\n",
       "      <td>45046.389646</td>\n",
       "    </tr>\n",
       "    <tr>\n",
       "      <th>2506050</th>\n",
       "      <td>DAN-f1 right #2506050</td>\n",
       "      <td>5820</td>\n",
       "      <td>39767.371186</td>\n",
       "      <td>25165.836804</td>\n",
       "      <td>37174.785223</td>\n",
       "    </tr>\n",
       "    <tr>\n",
       "      <th>2612527</th>\n",
       "      <td>mPN iACT C2 mPN iACT C2 left #2612527</td>\n",
       "      <td>4963</td>\n",
       "      <td>73652.089119</td>\n",
       "      <td>52960.231211</td>\n",
       "      <td>48689.502317</td>\n",
       "    </tr>\n",
       "    <tr>\n",
       "      <th>2921933</th>\n",
       "      <td>V1: possible PVL005 - 3 Right? #2921933</td>\n",
       "      <td>2983</td>\n",
       "      <td>22915.473416</td>\n",
       "      <td>22456.512504</td>\n",
       "      <td>59368.488099</td>\n",
       "    </tr>\n",
       "    <tr>\n",
       "      <th>...</th>\n",
       "      <td>...</td>\n",
       "      <td>...</td>\n",
       "      <td>...</td>\n",
       "      <td>...</td>\n",
       "      <td>...</td>\n",
       "    </tr>\n",
       "    <tr>\n",
       "      <th>17476934</th>\n",
       "      <td>KC very young #17476934</td>\n",
       "      <td>14</td>\n",
       "      <td>31299.242857</td>\n",
       "      <td>8498.700000</td>\n",
       "      <td>66775.000000</td>\n",
       "    </tr>\n",
       "    <tr>\n",
       "      <th>17476964</th>\n",
       "      <td>KC very young #17476964</td>\n",
       "      <td>8</td>\n",
       "      <td>31566.600000</td>\n",
       "      <td>7060.875000</td>\n",
       "      <td>64100.000000</td>\n",
       "    </tr>\n",
       "    <tr>\n",
       "      <th>17476975</th>\n",
       "      <td>KC very young #17476975</td>\n",
       "      <td>2</td>\n",
       "      <td>32269.600000</td>\n",
       "      <td>6718.400000</td>\n",
       "      <td>63300.000000</td>\n",
       "    </tr>\n",
       "    <tr>\n",
       "      <th>17884299</th>\n",
       "      <td>Gustatory PN right #17884299</td>\n",
       "      <td>2248</td>\n",
       "      <td>34652.293683</td>\n",
       "      <td>38497.999911</td>\n",
       "      <td>46758.696619</td>\n",
       "    </tr>\n",
       "    <tr>\n",
       "      <th>18028397</th>\n",
       "      <td>MBON-k1 right #18028397</td>\n",
       "      <td>4333</td>\n",
       "      <td>65048.535841</td>\n",
       "      <td>36495.051973</td>\n",
       "      <td>39425.317332</td>\n",
       "    </tr>\n",
       "  </tbody>\n",
       "</table>\n",
       "<p>387 rows × 5 columns</p>\n",
       "</div>"
      ],
      "text/plain": [
       "                                              neuron  treenode_id  \\\n",
       "skeleton_id                                                         \n",
       "29                                         KC #0 #29         2955   \n",
       "677717                                   KC1 #677717         2202   \n",
       "2506050                        DAN-f1 right #2506050         5820   \n",
       "2612527        mPN iACT C2 mPN iACT C2 left #2612527         4963   \n",
       "2921933      V1: possible PVL005 - 3 Right? #2921933         2983   \n",
       "...                                              ...          ...   \n",
       "17476934                     KC very young #17476934           14   \n",
       "17476964                     KC very young #17476964            8   \n",
       "17476975                     KC very young #17476975            2   \n",
       "17884299                Gustatory PN right #17884299         2248   \n",
       "18028397                     MBON-k1 right #18028397         4333   \n",
       "\n",
       "                        x             y             z  \n",
       "skeleton_id                                            \n",
       "29           31438.829002  24738.514146  44077.377327  \n",
       "677717       31859.598501  23931.804768  45046.389646  \n",
       "2506050      39767.371186  25165.836804  37174.785223  \n",
       "2612527      73652.089119  52960.231211  48689.502317  \n",
       "2921933      22915.473416  22456.512504  59368.488099  \n",
       "...                   ...           ...           ...  \n",
       "17476934     31299.242857   8498.700000  66775.000000  \n",
       "17476964     31566.600000   7060.875000  64100.000000  \n",
       "17476975     32269.600000   6718.400000  63300.000000  \n",
       "17884299     34652.293683  38497.999911  46758.696619  \n",
       "18028397     65048.535841  36495.051973  39425.317332  \n",
       "\n",
       "[387 rows x 5 columns]"
      ]
     },
     "metadata": {},
     "output_type": "display_data"
    },
    {
     "name": "stdout",
     "output_type": "stream",
     "text": [
      "2022 08 12 16:51:47  Reading synapse data from larval_MB/synapses.csv\n",
      "2022 08 12 16:51:47  Aggregating synapses into weighted graph\n"
     ]
    },
    {
     "data": {
      "text/html": [
       "<div>\n",
       "<style scoped>\n",
       "    .dataframe tbody tr th:only-of-type {\n",
       "        vertical-align: middle;\n",
       "    }\n",
       "\n",
       "    .dataframe tbody tr th {\n",
       "        vertical-align: top;\n",
       "    }\n",
       "\n",
       "    .dataframe thead th {\n",
       "        text-align: right;\n",
       "    }\n",
       "</style>\n",
       "<table border=\"1\" class=\"dataframe\">\n",
       "  <thead>\n",
       "    <tr style=\"text-align: right;\">\n",
       "      <th></th>\n",
       "      <th>pre_skeleton_id</th>\n",
       "      <th>post_skeleton_id</th>\n",
       "      <th>weight</th>\n",
       "    </tr>\n",
       "  </thead>\n",
       "  <tbody>\n",
       "    <tr>\n",
       "      <th>0</th>\n",
       "      <td>29</td>\n",
       "      <td>2506050</td>\n",
       "      <td>2</td>\n",
       "    </tr>\n",
       "    <tr>\n",
       "      <th>1</th>\n",
       "      <td>29</td>\n",
       "      <td>3234817</td>\n",
       "      <td>10</td>\n",
       "    </tr>\n",
       "    <tr>\n",
       "      <th>2</th>\n",
       "      <td>29</td>\n",
       "      <td>3299214</td>\n",
       "      <td>4</td>\n",
       "    </tr>\n",
       "    <tr>\n",
       "      <th>3</th>\n",
       "      <td>29</td>\n",
       "      <td>3347834</td>\n",
       "      <td>8</td>\n",
       "    </tr>\n",
       "    <tr>\n",
       "      <th>4</th>\n",
       "      <td>29</td>\n",
       "      <td>3522293</td>\n",
       "      <td>8</td>\n",
       "    </tr>\n",
       "    <tr>\n",
       "      <th>...</th>\n",
       "      <td>...</td>\n",
       "      <td>...</td>\n",
       "      <td>...</td>\n",
       "    </tr>\n",
       "    <tr>\n",
       "      <th>38759</th>\n",
       "      <td>19276024</td>\n",
       "      <td>3756659</td>\n",
       "      <td>1</td>\n",
       "    </tr>\n",
       "    <tr>\n",
       "      <th>38760</th>\n",
       "      <td>19276024</td>\n",
       "      <td>4152020</td>\n",
       "      <td>2</td>\n",
       "    </tr>\n",
       "    <tr>\n",
       "      <th>38761</th>\n",
       "      <td>19276024</td>\n",
       "      <td>4391978</td>\n",
       "      <td>1</td>\n",
       "    </tr>\n",
       "    <tr>\n",
       "      <th>38762</th>\n",
       "      <td>19276024</td>\n",
       "      <td>7020344</td>\n",
       "      <td>1</td>\n",
       "    </tr>\n",
       "    <tr>\n",
       "      <th>38763</th>\n",
       "      <td>19276024</td>\n",
       "      <td>7971031</td>\n",
       "      <td>5</td>\n",
       "    </tr>\n",
       "  </tbody>\n",
       "</table>\n",
       "<p>38764 rows × 3 columns</p>\n",
       "</div>"
      ],
      "text/plain": [
       "       pre_skeleton_id  post_skeleton_id  weight\n",
       "0                   29           2506050       2\n",
       "1                   29           3234817      10\n",
       "2                   29           3299214       4\n",
       "3                   29           3347834       8\n",
       "4                   29           3522293       8\n",
       "...                ...               ...     ...\n",
       "38759         19276024           3756659       1\n",
       "38760         19276024           4152020       2\n",
       "38761         19276024           4391978       1\n",
       "38762         19276024           7020344       1\n",
       "38763         19276024           7971031       5\n",
       "\n",
       "[38764 rows x 3 columns]"
      ]
     },
     "metadata": {},
     "output_type": "display_data"
    },
    {
     "name": "stdout",
     "output_type": "stream",
     "text": [
      "2022 08 12 16:51:47  Generating networkx directed graph\n"
     ]
    }
   ],
   "source": [
    "import os, sys\n",
    "import datetime\n",
    "import time\n",
    "import pandas as pd\n",
    "import numpy as np\n",
    "import networkx as nx\n",
    "from scipy import sparse as sp\n",
    "\n",
    "# from itertools import combinations, combinations_with_replacement\n",
    "# from functools import reduce\n",
    "\n",
    "import matplotlib.pyplot as plt\n",
    "\n",
    "import bokeh\n",
    "from bokeh.io import output_notebook, output_file, show, save\n",
    "from bokeh.plotting import figure\n",
    "from bokeh.models import (Rect, MultiLine, Circle, Span, Label,\n",
    "                          GraphRenderer, StaticLayoutProvider,\n",
    "                          NodesAndLinkedEdges,\n",
    "                          HoverTool, TapTool, ColumnDataSource,\n",
    "                          LinearColorMapper, LogColorMapper, BoxSelectTool,\n",
    "                          ColorBar, BasicTicker, BoxZoomTool, FactorRange)\n",
    "from bokeh.models import CategoricalTicker, FixedTicker, BoxAnnotation\n",
    "from bokeh.models import Arrow, NormalHead, OpenHead, VeeHead, LabelSet\n",
    "\n",
    "from bokeh.transform import transform, factor_cmap, linear_cmap, log_cmap\n",
    "from bokeh.layouts import row, column, gridplot\n",
    "output_notebook()\n",
    "\n",
    "import ipyvolume as ipv\n",
    "\n",
    "import colorcet as cc\n",
    "\n",
    "def log_msg(*args, out=sys.stdout, **kwargs):\n",
    "    \"\"\"Print message m with a timestamp if out is not None.\"\"\"\n",
    "    if out:\n",
    "        print(datetime.datetime.now().strftime(\"%Y %m %d %H:%M:%S \"), *args, **kwargs, file=out)\n",
    "\n",
    "\n",
    "\n",
    "\n",
    "log_msg(\"Imports complete\")\n",
    "\n",
    "log_msg(\"Reading neuron information from larval_MB/skeletons.csv\")\n",
    "larval_MB_skeletons = pd.read_csv(\"larval_MB/skeletons.csv\")\n",
    "larval_MB_skeletons.columns = [c.strip() for c in larval_MB_skeletons.columns]\n",
    "larval_MB_skeletons.parent_treenode_id.fillna(-1, inplace=True)\n",
    "larval_MB_skeletons.parent_treenode_id = larval_MB_skeletons.parent_treenode_id.astype(int)\n",
    "\n",
    "log_msg(\"'skeleton_id' is the unique ID number for each neuron\")\n",
    "log_msg(\"'treenode_id' gives an idea of the size of the neuron (not an exact correspondence)\")\n",
    "log_msg(\"'x','y','z' are the coordinates of the centroid of the neuron\")\n",
    "larval_neuron_df = larval_MB_skeletons.groupby(\"skeleton_id\").agg({\"neuron\":\"first\", \"treenode_id\":\"count\", \"x\":\"mean\", \"y\":\"mean\", \"z\":\"mean\"})\n",
    "# larval_neuron_df #.reset_index().set_index(\"skeleton_id\")\n",
    "# with pd.option_context(\"display.max_rows\",1000):\n",
    "display(larval_neuron_df)\n",
    "\n",
    "log_msg(\"Reading synapse data from larval_MB/synapses.csv\")\n",
    "larval_synapse_df = pd.read_csv(\"larval_MB/synapses.csv\")\n",
    "log_msg(\"Aggregating synapses into weighted graph\")\n",
    "weighted_edges = larval_synapse_df.groupby(['pre_skeleton_id', 'post_skeleton_id']).agg({'pre_treenode_id':'count'})\n",
    "weighted_edges = weighted_edges.rename(columns={'pre_treenode_id':'weight'}).reset_index()\n",
    "display(weighted_edges)\n",
    "# .to_csv('larval_MB/weighted_edges.csv', index=False)\n",
    "\n",
    "log_msg(\"Generating networkx directed graph\")\n",
    "g = nx.from_pandas_edgelist(weighted_edges,\n",
    "                            source=\"pre_skeleton_id\",\n",
    "                            target=\"post_skeleton_id\",\n",
    "                            edge_attr=[\"weight\"],\n",
    "                            create_using=nx.DiGraph)"
   ]
  },
  {
   "cell_type": "code",
   "execution_count": 49,
   "metadata": {
    "scrolled": false
   },
   "outputs": [
    {
     "data": {
      "application/vnd.plotly.v1+json": {
       "config": {
        "plotlyServerURL": "https://plot.ly"
       },
       "data": [
        {
         "mode": "markers",
         "type": "scatter3d",
         "x": [
          31438.829001692047,
          31859.5985013624,
          39767.37118556701,
          73652.08911948418,
          22915.47341602414,
          30632.631939877876,
          46000.29754773493,
          31292.21222010481,
          31728.937961044343,
          70680.37401771519,
          75744.6570525484,
          30852.94311081881,
          30723.41812758146,
          28030.7862244898,
          30861.775695159628,
          28567.01881950385,
          29895.73583243824,
          27885.87305084746,
          27916.660938910623,
          52588.88285511027,
          49679.3198969212,
          29138.24478330658,
          52051.800584128796,
          74939.40519203414,
          73527.21123128121,
          64833.39298628029,
          40900.757713728766,
          55563.2080794702,
          37644.88085817404,
          78391.2396715098,
          74432.5890974967,
          30111.779121540312,
          73692.30974195419,
          31026.20161912105,
          78150.86765472313,
          44544.72547830145,
          31335.968929425835,
          32743.757920681153,
          29263.661653611834,
          30954.519712047426,
          31047.67702105537,
          43814.498481501934,
          37655.42977513569,
          30014.829275692075,
          32404.325860297897,
          37066.57101542417,
          76539.42162588793,
          53850.311513921115,
          53071.43038746909,
          33394.53021276595,
          30602.08309178744,
          76227.22209181012,
          74261.961682243,
          75086.54190002618,
          74114.34440853265,
          62698.35087057979,
          44202.46995603322,
          31216.343438372558,
          31975.542711741185,
          31164.50925799864,
          76211.14672796107,
          75770.53339658443,
          39730.701798253125,
          30373.48034119418,
          28069.857617290458,
          82032.73746970431,
          28277.058933333334,
          30845.818024928092,
          44154.53190076869,
          29213.641723955578,
          30795.361852260197,
          76685.2158283341,
          31778.7667467708,
          30865.042786439,
          77128.35435498354,
          31562.377919956438,
          31075.275091844233,
          31064.784348181445,
          32664.511958456973,
          31091.98110267679,
          30921.26706882369,
          31925.843348679427,
          31623.015733590735,
          75690.74906672387,
          40088.56604016754,
          45217.15024424285,
          31472.11177024482,
          73496.41707119741,
          30310.374456675134,
          74778.54459203036,
          48487.129782937904,
          68160.30548128342,
          65547.93909125048,
          74564.48786433492,
          77248.03977207978,
          77264.23684863524,
          77079.44563106795,
          31303.700630472853,
          76886.3781445646,
          31357.08108108108,
          76234.35820189276,
          17894.7593625,
          29841.506203241897,
          30430.990150970523,
          32636.791668732953,
          52107.85340055782,
          32100.908109965632,
          30594.722921575227,
          30307.37790368272,
          29884.25006684492,
          29624.35189092902,
          75498.45461113472,
          77431.66183460076,
          74714.56097222221,
          75599.72459194777,
          76194.66853516657,
          77330.41872146119,
          73145.3845037725,
          74316.0073452256,
          28199.056995531108,
          76747.9687931735,
          31272.113991213246,
          28673.248156748912,
          64360.22438195886,
          78517.99128125,
          77226.27428856715,
          55645.83428964884,
          48609.74300778308,
          22518.20262080262,
          78621.63139381986,
          74163.01348314606,
          77894.93062446536,
          30907.838805970146,
          32683.10793298842,
          30391.351476456504,
          25674.37791489362,
          85431.46538461538,
          77412.84193098641,
          30474.533428300096,
          74290.03100969053,
          29210.2075273523,
          29415.576842450046,
          29860.893349553935,
          28483.47275051125,
          30407.786942328617,
          27805.752554438863,
          28189.336356242373,
          28232.54226044226,
          28008.393668370245,
          27267.983034026467,
          28412.109019607844,
          28540.467949367092,
          28561.107091518927,
          73134.8957261575,
          30038.824386422977,
          27549.48894189072,
          29069.17710931768,
          27899.579463899696,
          27067.32773536896,
          27852.61835084883,
          27973.68193548387,
          28122.753260869562,
          23900.31666666667,
          74721.04979708762,
          75565.92450038432,
          75170.70892182505,
          75331.37383026782,
          75859.75406767458,
          30956.18214647317,
          41671.89657953281,
          74115.86419947507,
          50371.70892631579,
          60512.823435267215,
          74443.66024590164,
          77729.37897350993,
          31889.08515519568,
          31975.268411442485,
          30606.503466204507,
          31830.231759805625,
          31746.453229571984,
          75219.96203341628,
          30813.43540156567,
          21561.043868153174,
          55578.2955550384,
          31074.321880246225,
          32539.110551948055,
          33568.54850640114,
          35548.3925170068,
          30103.985278654047,
          36552.633460076046,
          38159.04146341463,
          29542.239451728245,
          30450.46548004315,
          60967.25933384973,
          30543.614497639915,
          31618.42270657124,
          74988.5902613828,
          76249.7147310723,
          66239.22143661337,
          31460.050941526264,
          64415.10521229869,
          31121.000520624748,
          31105.61711009174,
          30930.526820443236,
          26075.974839797636,
          31271.13142751752,
          30012.31335311573,
          40655.52781014024,
          67705.5259515571,
          22735.958919639877,
          28322.625272331155,
          25561.939658399624,
          30527.802032019703,
          29639.279863481228,
          30302.35648610121,
          30853.782883939042,
          31118.702155718995,
          28039.474209486165,
          29577.071655753043,
          32783.16073170732,
          32841.15932599266,
          30156.619536297985,
          30052.181753197892,
          29178.30968967701,
          81379.05951219512,
          50590.97700793497,
          30553.345033112582,
          29497.055319148934,
          29224.472794117646,
          29248.58175787728,
          33832.39081173699,
          29627.083161740287,
          30988.585727818125,
          30661.151940415522,
          31221.57596930533,
          30929.552526132407,
          73851.74467043314,
          30726.2434400949,
          35069.988375273526,
          40018.60030046948,
          30537.00654450262,
          30104.56586867305,
          31378.222174909923,
          74045.4844765343,
          74733.27288209608,
          52728.94084967321,
          75859.11443935471,
          73343.20296589224,
          28188.333306613225,
          71784.8370904325,
          30309.074236252545,
          41546.68127669673,
          52326.70361538461,
          74867.36232294618,
          74751.65675559381,
          76158.45647848793,
          73366.84112848403,
          74529.3139607032,
          30333.806946231023,
          48533.418870728085,
          74398.04326078657,
          68264.6798656759,
          74607.17574618096,
          66143.40198273852,
          61880.641270987544,
          80954.85026881722,
          27027.639468117257,
          49054.15450573457,
          79077.60840229153,
          74710.754254819,
          74310.61528150133,
          74486.2932724814,
          74709.39424792372,
          73933.31067683508,
          77311.08250510551,
          29598.797840046704,
          28118.24463203463,
          74330.5407419786,
          74322.73082143693,
          72691.68476821193,
          66136.79832644221,
          78781.60797713042,
          52618.60935745477,
          64280.90436602871,
          74744.24934778926,
          63251.300795228635,
          38024.03131164743,
          73833.31204013378,
          74612.53148765845,
          75016.79445196211,
          74462.49539849623,
          73583.50546075085,
          74563.86419249592,
          72624.94393162393,
          74937.58722879685,
          65658.27969543147,
          74069.41822222222,
          73255.40919185687,
          68923.74044265594,
          72956.66836065573,
          73877.52793089264,
          73290.72150997151,
          73518.21082173327,
          74023.57850821746,
          73859.57687074831,
          73242.68689956333,
          73866.0643444227,
          74215.45871474803,
          75492.91186440678,
          74299.15104369607,
          72405.36298932384,
          75934.21738261738,
          72803.37934782609,
          73282.52854971116,
          32572.017456359103,
          31427.65691343517,
          75235.53628126133,
          74667.38203414995,
          80283.78151271753,
          41121.08015172901,
          78201.82047923323,
          48067.23737098345,
          75455.48344066237,
          74446.01164004914,
          74411.60345078097,
          73758.87770952172,
          73839.12060491493,
          74932.02877583467,
          73926.82567567567,
          71976.2797979798,
          73743.00796460177,
          74781.0172413793,
          73513.04558537534,
          74915.0280882353,
          72803.22853894258,
          68493.90968379447,
          76049.01162296244,
          74771.6256768559,
          75268.65554899645,
          75403.87896625987,
          78102.31358609795,
          74562.7572996707,
          40376.53541910331,
          30459.63940333204,
          73985.27310012063,
          74002.80091647028,
          73951.44507206856,
          74791.67520340953,
          75844.69485834207,
          75071.4089377793,
          75018.29804796432,
          73772.90974607917,
          75841.8440677966,
          73441.27983807783,
          75717.51946854664,
          73896.89988235294,
          75863.95381000335,
          74585.2175944334,
          73864.93821284239,
          31125.83307610431,
          79432.96751995596,
          50644.430838103624,
          52735.19168081494,
          56828.3713713268,
          46079.46282673637,
          31748.88848054355,
          67655.02087594486,
          67505.31165165166,
          74259.9614298323,
          74526.0354786371,
          38459.586132660974,
          68715.65445976364,
          53595.66733449478,
          74924.23694267515,
          79429.8200053778,
          52148.42093757043,
          66780.24554495637,
          61216.87925654854,
          71459.06949152541,
          32703.02,
          27892.542857142857,
          27238.942857142858,
          31299.242857142857,
          31566.6,
          32269.6,
          34652.29368327402,
          65048.53584121856
         ],
         "y": [
          24738.514145516074,
          23931.804768392372,
          25165.836804123708,
          52960.231210961116,
          22456.51250419041,
          25723.673062470643,
          30889.74009734182,
          28678.16893758933,
          25089.75996684625,
          45960.288235294116,
          44988.07534571316,
          24768.100460374877,
          25353.10174391923,
          24915.482823129252,
          25786.188568486097,
          27434.352138579983,
          29095.50461868958,
          25070.944576271188,
          42704.456816130005,
          49786.485202750766,
          48282.05151227452,
          39046.2444622793,
          50148.63953554637,
          28402.03122332859,
          27927.204409317805,
          36681.563264521086,
          22998.013854079643,
          45566.16584988963,
          32569.403422002408,
          43103.52694251422,
          30284.671014492753,
          51208.181092057755,
          32520.384488257463,
          20370.048222821897,
          41734.835146579804,
          33773.76021931871,
          28463.94111842105,
          27937.497535290164,
          28112.3745691906,
          28799.41401651493,
          29726.01232128932,
          33047.34436775262,
          33168.80043939003,
          32849.33481228669,
          27026.003644067798,
          35451.02420736932,
          40756.62647987372,
          42470.22134570765,
          31081.719422918388,
          51421.6124822695,
          40234.11018884498,
          36106.38158581116,
          31800.421116443547,
          31657.65200209369,
          32486.65559146736,
          32686.032148626815,
          31883.586174890082,
          24742.435101715197,
          28361.41846601236,
          28104.146051735872,
          42671.53217955652,
          31688.58753953194,
          39198.264189073474,
          33316.99189663823,
          28237.076805482342,
          26999.48734852157,
          39345.260304761905,
          40666.076701821665,
          33633.33073025856,
          24500.69116869381,
          23815.282984196987,
          32033.642131979694,
          28920.967167317514,
          28459.35392229646,
          36566.90197545645,
          27037.97069425538,
          25014.48464364438,
          27279.058929301187,
          28136.18706231454,
          24886.286260487414,
          28876.538552234713,
          29180.723673370485,
          25791.045012870014,
          31683.972387899594,
          34917.22252174847,
          29755.535223307746,
          34922.786001255496,
          28614.916686893204,
          29032.64129268981,
          28315.73788741303,
          42491.25025239778,
          36188.782700534764,
          30803.95013143072,
          40948.510386857444,
          41545.3717948718,
          41734.5017783292,
          32420.065006331784,
          25252.204133099825,
          42183.7500853728,
          16364.066666666666,
          41664.82497371188,
          34497.06954166667,
          22645.629519950126,
          25647.230984902944,
          28382.643020084302,
          30479.842093971252,
          25587.41859106529,
          25709.473746213396,
          25976.522556657226,
          27268.202272727274,
          22980.012277336256,
          47428.65609859753,
          43588.57005703422,
          41476.58326388889,
          41886.80293797606,
          39661.64410364886,
          41688.32004058853,
          40277.98038305282,
          44695.49512067156,
          27388.628807150224,
          44103.873791141814,
          24626.059783710716,
          34217.48716981132,
          26428.77491979619,
          35723.3428125,
          46278.91138292561,
          55515.20075740188,
          53362.92992719056,
          21991.77788697789,
          24159.50902366864,
          38987.03630077787,
          47676.983276304534,
          24273.874937810946,
          28127.81244148805,
          28273.05430965682,
          31194.941829787233,
          39518.24487179487,
          31436.620425235273,
          42885.387037037035,
          28411.48068146296,
          41214.14131291029,
          43670.76898132984,
          42252.669464720195,
          39472.25884458078,
          41787.95516866159,
          42185.48685092127,
          42499.78023586824,
          39215.674152334155,
          43287.536059057355,
          40839.628875236296,
          19094.019999999997,
          41919.11792405064,
          39766.56478198371,
          27847.060189948552,
          39844.213785900785,
          41983.549479618385,
          34130.86566397652,
          44869.938045827934,
          19477.61145038168,
          28138.82691996766,
          20812.24817204301,
          25518.512296195655,
          15380.636574074075,
          32036.887252327524,
          31272.915680245962,
          30603.281633246148,
          29128.71542433043,
          29918.110511159106,
          25269.80739115761,
          27305.361457174637,
          28178.654225721784,
          29245.719789473686,
          34391.11426121749,
          29075.240491803277,
          44143.28754139073,
          25922.747800269903,
          24723.337239805234,
          23549.175303292894,
          24845.544949670253,
          24175.387354085604,
          30774.801884109493,
          26034.713047260073,
          22424.901551139115,
          30065.91938561787,
          24772.982635702294,
          21748.592029220777,
          16817.165021337125,
          14486.75462585034,
          26414.072555205046,
          11983.444486692015,
          12164.626016260163,
          27136.610369487487,
          22930.44455231931,
          34275.62104311903,
          23544.840289952797,
          28636.361396660162,
          28904.217537942663,
          29003.95125042823,
          30523.42222472416,
          24598.832573505122,
          28893.06196193265,
          23366.408197837405,
          23277.499449541283,
          23256.34658525554,
          33398.58477796515,
          23175.58100331981,
          24581.941711177053,
          33920.02897518878,
          35777.472110726645,
          22249.228042680894,
          28970.186111111114,
          30886.308095460925,
          24442.915086206896,
          22792.56271331058,
          25891.11931575196,
          25783.892497069166,
          28120.35488206949,
          28277.65691699605,
          26043.70776426567,
          17215.90568292683,
          28479.945745745747,
          25063.177727099963,
          25831.31518058691,
          26160.689043698545,
          27839.15512195122,
          44739.33423650087,
          27762.58723178808,
          17044.156170212766,
          15123.943014705883,
          23823.1652238806,
          28893.738445063183,
          26110.24666223846,
          25680.744076413008,
          26018.969619756957,
          27256.82879644588,
          26126.975900116144,
          28856.044218455747,
          28702.91693950178,
          43853.018353391686,
          26799.091323943663,
          23952.53817626527,
          26286.28077975376,
          24097.1337045529,
          26233.606317689533,
          26729.402707423582,
          31303.584209744506,
          36778.443039235215,
          43157.92130499258,
          40178.8056513026,
          44964.338575797294,
          34139.46906822811,
          48134.230042714764,
          50984.83934615384,
          31808.342634560908,
          27036.295266781413,
          32045.76100472519,
          30954.126936324494,
          29926.533210961734,
          27025.40455364034,
          41245.66716196137,
          27795.254982817867,
          24083.50250071449,
          31252.472902467685,
          50171.534079776065,
          34972.30904495397,
          26890.01935483871,
          42493.11362949532,
          50831.18610049153,
          24278.45708147677,
          27924.323601316406,
          27654.677167113496,
          28354.249526707234,
          29510.33466625654,
          28096.39167461074,
          35431.11511232131,
          24375.545534150613,
          39039.854978354975,
          28844.372827540108,
          32685.440580388484,
          9786.296026490067,
          41385.042547745616,
          31059.40179689627,
          40915.946101060516,
          32176.936184210528,
          29299.88978485516,
          34540.02027833002,
          26649.463022035678,
          27273.857775919732,
          27403.43842561708,
          27281.76786197564,
          31231.630766917293,
          28272.345335608647,
          31810.609502446983,
          28730.254957264955,
          29244.849408284026,
          21527.121827411167,
          26724.77111111111,
          27474.974830351635,
          25845.159557344065,
          27935.217158469946,
          37771.82126696833,
          25444.262108262108,
          28761.040745397397,
          27365.979140328698,
          19899.52380952381,
          19109.090829694323,
          26723.65585127202,
          27907.909570041607,
          28531.937758945383,
          31433.17581408294,
          18692.24839857651,
          29518.777722277722,
          19274.316847826085,
          30804.55210702341,
          18401.19875311721,
          35425.9910693302,
          29328.067850670534,
          28373.984484038607,
          36615.188955823294,
          32957.7067748765,
          49696.09549520767,
          29487.911645569624,
          28000.323735050595,
          30712.252579852582,
          29796.169051943336,
          29593.004651162788,
          27775.723468809072,
          28799.57090620032,
          18380.52800675676,
          19366.051515151517,
          11625.23185840708,
          10407.036637931034,
          31084.187981330222,
          28484.818676470586,
          27094.42757248437,
          24313.811067193677,
          27837.815095676826,
          27485.876419213975,
          27542.054604486424,
          27938.86243359655,
          29137.58167456556,
          30955.184961580682,
          25519.328849902533,
          23142.95707090275,
          28649.3123039807,
          30235.395862791305,
          32853.07791195949,
          27635.652305308016,
          28988.303882476393,
          28418.07459608113,
          31599.59860568879,
          28282.63236743839,
          27834.962018489987,
          29649.955267693913,
          30745.40051518438,
          31810.48494117647,
          31640.899731453508,
          30212.23513916501,
          28264.538302649304,
          26457.302687599786,
          35263.4612716763,
          46973.43706150007,
          47605.56990276277,
          31142.49176313446,
          32730.37005227782,
          28194.632921556517,
          27306.710538016898,
          35576.16015015015,
          29654.421138570167,
          31787.53683071931,
          24671.68717998448,
          33692.69319077096,
          53320.79408754355,
          29378.37092356688,
          35130.599757999466,
          30701.392111787245,
          29708.117678100265,
          27436.43879044684,
          18843.927118644067,
          13971.05,
          9899,
          9210.114285714286,
          8498.7,
          7060.875,
          6718.4,
          38497.99991103203,
          36495.05197322871
         ],
         "z": [
          44077.37732656515,
          45046.389645776566,
          37174.7852233677,
          48689.502317146886,
          59368.48809922896,
          41336.7543447628,
          31920.9752901535,
          38448.52310624107,
          41910.27766266059,
          47545.389507154214,
          48206.83524298696,
          45084.889838868796,
          42800.849013308856,
          56413.26530612245,
          44500.15447991761,
          49600,
          40556.10096670247,
          55926.016949152545,
          45850.40625940415,
          52145.0438700498,
          49339.97694289977,
          47603.94863563403,
          55146.71605641829,
          54566.09174964438,
          53294.28036605657,
          41604.019746121296,
          37255.47897521582,
          51024.41501103753,
          31697.87461569309,
          51658.243840808595,
          45941.897233201584,
          42932.11492178099,
          45313.01826616411,
          50160.27370855821,
          52983.029315960914,
          37334.122725151654,
          40018.80980861244,
          39352.57674210172,
          41258.51174934726,
          39226.709718399325,
          38870.62646217832,
          36970.33406957482,
          46590.61773067976,
          35452.77777777778,
          37954.661016949154,
          33878.98457583548,
          49146.19179163378,
          37387.16647331786,
          40961.42621599341,
          45974.239558707646,
          45051.53711023276,
          41930.81637976004,
          47170.5986360192,
          47078.39570792986,
          46257.88623141564,
          35471.76449470472,
          30891.499755740108,
          42059.85241324292,
          37134.57833515085,
          38831.58611300204,
          48471.471065440775,
          48310.57874762808,
          38215.01969515328,
          33435.08529854491,
          52907.61729045862,
          66988.43916626273,
          44992.89523809524,
          46644.487056567596,
          34086.312019566736,
          48762.21575885775,
          45361.88901139287,
          60978.980156898935,
          38624.421748272754,
          39597.166542934916,
          41705.82161029632,
          39087.653144568474,
          41633.743570903745,
          39460.666121781775,
          40251.21661721068,
          41774.27087495006,
          39256.11461475185,
          38452.27768354737,
          40674.19562419562,
          48628.48101265823,
          38252.15873697777,
          32716.721912072575,
          32043.596986817327,
          52705.198220064725,
          30152.624894157492,
          54550.96457938014,
          51719.62392730944,
          38360.26737967914,
          37343.77581674803,
          53190.408055113934,
          45787.52136752137,
          48386.186931348224,
          49033.6112283664,
          43517.79334500876,
          48031.84405236198,
          66749.32432432432,
          48458.070452155625,
          67516.10416666667,
          35715.28990024938,
          45353.27102803739,
          39205.5913711877,
          34379.446470714436,
          42254.63917525773,
          44161.208347357795,
          43922.50354107649,
          44183.00467914438,
          34291.12770622088,
          48376.816829579264,
          46403.06558935361,
          45151.180555555555,
          48179.67899891186,
          48618.693812797464,
          48119.22881785895,
          47761.52060359837,
          46338.850996852045,
          41233.91199724992,
          47755.343356359204,
          43826.61372085164,
          35591.40783744557,
          40761.6342706171,
          43495.921875,
          47515.75137294059,
          49181.98301583659,
          49810.381621893044,
          56063.554463554465,
          46443.01446416831,
          48847.752808988764,
          47786.077844311374,
          45862.96641791045,
          37241.0076373491,
          41920.35115722266,
          49984.744680851065,
          70598.21714743589,
          50901.04566050889,
          44147.38841405508,
          54356.76773991872,
          41774.201312910285,
          43941.33639043564,
          42535.908353609084,
          42294.68302658487,
          40243.30794341676,
          43158.752093802344,
          41320.63847092314,
          42009.31203931204,
          44595.71266325951,
          40640.02835538753,
          62452.1568627451,
          41683.36708860759,
          40339.051269765216,
          52723.98100514444,
          41240.75718015666,
          42142.367736339984,
          44339.43506969919,
          43914.59143968872,
          62750.50890585242,
          46943.73484236055,
          60725.05376344086,
          51240.55706521739,
          66474.76851851853,
          48477.77512532824,
          49856.0049961568,
          50030.39814007556,
          53195.15972894482,
          51982.9373650108,
          43556.74991562605,
          30954.92213570634,
          55395.433070866144,
          46997.72631578947,
          39834.452700771646,
          52440.92213114754,
          48853.41473509934,
          41074.912280701756,
          43091.12903225807,
          45166.63778162911,
          44596.754599097534,
          43532.879377431906,
          48975.13330963384,
          43075.55813279212,
          57254.92001938924,
          48283.66302071213,
          46998.349188584216,
          56373.53896103896,
          58027.5960170697,
          58649.14965986394,
          49872.18717139853,
          60152.28136882129,
          59997.154471544716,
          49564.30274135876,
          48982.82092772384,
          40249.6901626646,
          42254.87188132165,
          39679.006723053564,
          52373.37689713322,
          52462.761219595755,
          53862.06935374915,
          42236.95077634622,
          36309.92679355783,
          43888.3660392471,
          46008.21100917431,
          46582.9262777024,
          43138.31365935919,
          45051.97344153449,
          49367.853610286846,
          29807.45415318231,
          34822.69896193771,
          57703.10103367789,
          53467.53812636166,
          50729.46888160973,
          44751.262315270935,
          58263.6518771331,
          43087.27726300784,
          42884.251660805,
          39410.32208977936,
          49358.39920948617,
          48488.119738072965,
          50761.58536585366,
          37872.772772772776,
          44596.27518053972,
          42776.18510158014,
          47147.65674477517,
          68521.78048780488,
          51150.58060770273,
          40853.17880794702,
          62940.85106382979,
          64621.32352941176,
          57148.50746268657,
          39172.93853073463,
          43873.31451345068,
          43597.55288916956,
          43205.25284202274,
          43618.739903069465,
          43542.770034843204,
          51413.67231638418,
          38911.20996441281,
          46876.736870897155,
          49312.018779342725,
          47655.65008726004,
          48806.292749658,
          45258.205044218805,
          65782.31046931408,
          60267.29257641921,
          40467.48366013072,
          42747.77932682732,
          53116.8561542264,
          44230.64128256513,
          51006.18173875054,
          33697.75967413442,
          46514.28571428572,
          48290.570512820515,
          46674.091123701604,
          58294.750430292595,
          48095.31211141507,
          46548.88964423295,
          50434.565667011375,
          41705.801389246204,
          50281.965081723625,
          55155.26918671249,
          43494.81280365819,
          47088.15511163337,
          52091.4392348962,
          37891.21682614191,
          67109.00537634408,
          44640.43517679057,
          52650.477880939376,
          44479.08179503501,
          55685.14339445228,
          55395.263628239496,
          54994.23597025017,
          53395.324515533684,
          54578.78932316492,
          43522.36215112321,
          50111.15002918856,
          42689.82683982684,
          53214.13770053476,
          48495.15562836415,
          57643.046357615895,
          44040.64776530813,
          40319.50721481078,
          38690.14348097317,
          36323.106060606064,
          50340.84363882771,
          44906.99966865474,
          49848.31059811123,
          56428.80434782609,
          60217.778519012674,
          60606.393775372126,
          49279.8045112782,
          54794.05574516496,
          47237.72430668842,
          60892.52136752137,
          49312.35207100592,
          70132.48730964467,
          66239.82222222222,
          58922.48611967921,
          65958.85311871227,
          55909.071038251364,
          40219.74496092143,
          66726.56695156696,
          51223.70902559497,
          64544.56384323641,
          73525.85034013605,
          75589.95633187774,
          54909.29549902153,
          53354.114655570964,
          54145.056497175145,
          46302.017812413025,
          73520.99644128114,
          60229.42057942058,
          74212.22826086957,
          48008.406810580724,
          51355.112219451374,
          36201.086956521736,
          53607.9557810801,
          55107.9435783222,
          51510.79651941098,
          40816.56669019054,
          47062.68370607029,
          46338.841285296985,
          54053.26586936523,
          49448.18796068796,
          52133.43625136215,
          50143.286529179466,
          52447.16446124764,
          58541.81240063593,
          62112.83783783784,
          61712.37373737374,
          62532.30088495575,
          62720.68965517241,
          46554.18125243096,
          59291.39705882353,
          57712.76293348493,
          67063.63636363637,
          60951.133947554925,
          64988.16593886463,
          60003.778040141675,
          54854.235463029436,
          63546.84044233807,
          56371.07574094402,
          54718.849902534115,
          49248.9926385122,
          54256.80036188178,
          51235.205551191415,
          48415.38761199844,
          56554.84308407594,
          60756.03357817419,
          51997.112409762805,
          47969.506413831565,
          52189.581777445856,
          53304.661016949154,
          48461.190911465135,
          48654.43329718005,
          45123.58823529412,
          47362.4034911044,
          49028.47912524851,
          51230.22002694207,
          38618.98616285258,
          55618.92375447289,
          49868.0170262733,
          49738.70196017904,
          35353.829029385575,
          35272.20873786408,
          38686.951822112416,
          42039.37305469097,
          48452.53753753754,
          50468.402471315094,
          47295.79502433748,
          38075.99883630721,
          38502.560495216654,
          54026.01807491289,
          53547.515923566876,
          57321.29604732455,
          48923.32657200811,
          53517.39395169474,
          57811.354006163325,
          74706.77966101695,
          48912.5,
          66771.42857142857,
          66650,
          66775,
          64100,
          63300,
          46758.69661921708,
          39425.317332102466
         ]
        }
       ],
       "layout": {
        "template": {
         "data": {
          "bar": [
           {
            "error_x": {
             "color": "#2a3f5f"
            },
            "error_y": {
             "color": "#2a3f5f"
            },
            "marker": {
             "line": {
              "color": "#E5ECF6",
              "width": 0.5
             },
             "pattern": {
              "fillmode": "overlay",
              "size": 10,
              "solidity": 0.2
             }
            },
            "type": "bar"
           }
          ],
          "barpolar": [
           {
            "marker": {
             "line": {
              "color": "#E5ECF6",
              "width": 0.5
             },
             "pattern": {
              "fillmode": "overlay",
              "size": 10,
              "solidity": 0.2
             }
            },
            "type": "barpolar"
           }
          ],
          "carpet": [
           {
            "aaxis": {
             "endlinecolor": "#2a3f5f",
             "gridcolor": "white",
             "linecolor": "white",
             "minorgridcolor": "white",
             "startlinecolor": "#2a3f5f"
            },
            "baxis": {
             "endlinecolor": "#2a3f5f",
             "gridcolor": "white",
             "linecolor": "white",
             "minorgridcolor": "white",
             "startlinecolor": "#2a3f5f"
            },
            "type": "carpet"
           }
          ],
          "choropleth": [
           {
            "colorbar": {
             "outlinewidth": 0,
             "ticks": ""
            },
            "type": "choropleth"
           }
          ],
          "contour": [
           {
            "colorbar": {
             "outlinewidth": 0,
             "ticks": ""
            },
            "colorscale": [
             [
              0,
              "#0d0887"
             ],
             [
              0.1111111111111111,
              "#46039f"
             ],
             [
              0.2222222222222222,
              "#7201a8"
             ],
             [
              0.3333333333333333,
              "#9c179e"
             ],
             [
              0.4444444444444444,
              "#bd3786"
             ],
             [
              0.5555555555555556,
              "#d8576b"
             ],
             [
              0.6666666666666666,
              "#ed7953"
             ],
             [
              0.7777777777777778,
              "#fb9f3a"
             ],
             [
              0.8888888888888888,
              "#fdca26"
             ],
             [
              1,
              "#f0f921"
             ]
            ],
            "type": "contour"
           }
          ],
          "contourcarpet": [
           {
            "colorbar": {
             "outlinewidth": 0,
             "ticks": ""
            },
            "type": "contourcarpet"
           }
          ],
          "heatmap": [
           {
            "colorbar": {
             "outlinewidth": 0,
             "ticks": ""
            },
            "colorscale": [
             [
              0,
              "#0d0887"
             ],
             [
              0.1111111111111111,
              "#46039f"
             ],
             [
              0.2222222222222222,
              "#7201a8"
             ],
             [
              0.3333333333333333,
              "#9c179e"
             ],
             [
              0.4444444444444444,
              "#bd3786"
             ],
             [
              0.5555555555555556,
              "#d8576b"
             ],
             [
              0.6666666666666666,
              "#ed7953"
             ],
             [
              0.7777777777777778,
              "#fb9f3a"
             ],
             [
              0.8888888888888888,
              "#fdca26"
             ],
             [
              1,
              "#f0f921"
             ]
            ],
            "type": "heatmap"
           }
          ],
          "heatmapgl": [
           {
            "colorbar": {
             "outlinewidth": 0,
             "ticks": ""
            },
            "colorscale": [
             [
              0,
              "#0d0887"
             ],
             [
              0.1111111111111111,
              "#46039f"
             ],
             [
              0.2222222222222222,
              "#7201a8"
             ],
             [
              0.3333333333333333,
              "#9c179e"
             ],
             [
              0.4444444444444444,
              "#bd3786"
             ],
             [
              0.5555555555555556,
              "#d8576b"
             ],
             [
              0.6666666666666666,
              "#ed7953"
             ],
             [
              0.7777777777777778,
              "#fb9f3a"
             ],
             [
              0.8888888888888888,
              "#fdca26"
             ],
             [
              1,
              "#f0f921"
             ]
            ],
            "type": "heatmapgl"
           }
          ],
          "histogram": [
           {
            "marker": {
             "pattern": {
              "fillmode": "overlay",
              "size": 10,
              "solidity": 0.2
             }
            },
            "type": "histogram"
           }
          ],
          "histogram2d": [
           {
            "colorbar": {
             "outlinewidth": 0,
             "ticks": ""
            },
            "colorscale": [
             [
              0,
              "#0d0887"
             ],
             [
              0.1111111111111111,
              "#46039f"
             ],
             [
              0.2222222222222222,
              "#7201a8"
             ],
             [
              0.3333333333333333,
              "#9c179e"
             ],
             [
              0.4444444444444444,
              "#bd3786"
             ],
             [
              0.5555555555555556,
              "#d8576b"
             ],
             [
              0.6666666666666666,
              "#ed7953"
             ],
             [
              0.7777777777777778,
              "#fb9f3a"
             ],
             [
              0.8888888888888888,
              "#fdca26"
             ],
             [
              1,
              "#f0f921"
             ]
            ],
            "type": "histogram2d"
           }
          ],
          "histogram2dcontour": [
           {
            "colorbar": {
             "outlinewidth": 0,
             "ticks": ""
            },
            "colorscale": [
             [
              0,
              "#0d0887"
             ],
             [
              0.1111111111111111,
              "#46039f"
             ],
             [
              0.2222222222222222,
              "#7201a8"
             ],
             [
              0.3333333333333333,
              "#9c179e"
             ],
             [
              0.4444444444444444,
              "#bd3786"
             ],
             [
              0.5555555555555556,
              "#d8576b"
             ],
             [
              0.6666666666666666,
              "#ed7953"
             ],
             [
              0.7777777777777778,
              "#fb9f3a"
             ],
             [
              0.8888888888888888,
              "#fdca26"
             ],
             [
              1,
              "#f0f921"
             ]
            ],
            "type": "histogram2dcontour"
           }
          ],
          "mesh3d": [
           {
            "colorbar": {
             "outlinewidth": 0,
             "ticks": ""
            },
            "type": "mesh3d"
           }
          ],
          "parcoords": [
           {
            "line": {
             "colorbar": {
              "outlinewidth": 0,
              "ticks": ""
             }
            },
            "type": "parcoords"
           }
          ],
          "pie": [
           {
            "automargin": true,
            "type": "pie"
           }
          ],
          "scatter": [
           {
            "fillpattern": {
             "fillmode": "overlay",
             "size": 10,
             "solidity": 0.2
            },
            "type": "scatter"
           }
          ],
          "scatter3d": [
           {
            "line": {
             "colorbar": {
              "outlinewidth": 0,
              "ticks": ""
             }
            },
            "marker": {
             "colorbar": {
              "outlinewidth": 0,
              "ticks": ""
             }
            },
            "type": "scatter3d"
           }
          ],
          "scattercarpet": [
           {
            "marker": {
             "colorbar": {
              "outlinewidth": 0,
              "ticks": ""
             }
            },
            "type": "scattercarpet"
           }
          ],
          "scattergeo": [
           {
            "marker": {
             "colorbar": {
              "outlinewidth": 0,
              "ticks": ""
             }
            },
            "type": "scattergeo"
           }
          ],
          "scattergl": [
           {
            "marker": {
             "colorbar": {
              "outlinewidth": 0,
              "ticks": ""
             }
            },
            "type": "scattergl"
           }
          ],
          "scattermapbox": [
           {
            "marker": {
             "colorbar": {
              "outlinewidth": 0,
              "ticks": ""
             }
            },
            "type": "scattermapbox"
           }
          ],
          "scatterpolar": [
           {
            "marker": {
             "colorbar": {
              "outlinewidth": 0,
              "ticks": ""
             }
            },
            "type": "scatterpolar"
           }
          ],
          "scatterpolargl": [
           {
            "marker": {
             "colorbar": {
              "outlinewidth": 0,
              "ticks": ""
             }
            },
            "type": "scatterpolargl"
           }
          ],
          "scatterternary": [
           {
            "marker": {
             "colorbar": {
              "outlinewidth": 0,
              "ticks": ""
             }
            },
            "type": "scatterternary"
           }
          ],
          "surface": [
           {
            "colorbar": {
             "outlinewidth": 0,
             "ticks": ""
            },
            "colorscale": [
             [
              0,
              "#0d0887"
             ],
             [
              0.1111111111111111,
              "#46039f"
             ],
             [
              0.2222222222222222,
              "#7201a8"
             ],
             [
              0.3333333333333333,
              "#9c179e"
             ],
             [
              0.4444444444444444,
              "#bd3786"
             ],
             [
              0.5555555555555556,
              "#d8576b"
             ],
             [
              0.6666666666666666,
              "#ed7953"
             ],
             [
              0.7777777777777778,
              "#fb9f3a"
             ],
             [
              0.8888888888888888,
              "#fdca26"
             ],
             [
              1,
              "#f0f921"
             ]
            ],
            "type": "surface"
           }
          ],
          "table": [
           {
            "cells": {
             "fill": {
              "color": "#EBF0F8"
             },
             "line": {
              "color": "white"
             }
            },
            "header": {
             "fill": {
              "color": "#C8D4E3"
             },
             "line": {
              "color": "white"
             }
            },
            "type": "table"
           }
          ]
         },
         "layout": {
          "annotationdefaults": {
           "arrowcolor": "#2a3f5f",
           "arrowhead": 0,
           "arrowwidth": 1
          },
          "autotypenumbers": "strict",
          "coloraxis": {
           "colorbar": {
            "outlinewidth": 0,
            "ticks": ""
           }
          },
          "colorscale": {
           "diverging": [
            [
             0,
             "#8e0152"
            ],
            [
             0.1,
             "#c51b7d"
            ],
            [
             0.2,
             "#de77ae"
            ],
            [
             0.3,
             "#f1b6da"
            ],
            [
             0.4,
             "#fde0ef"
            ],
            [
             0.5,
             "#f7f7f7"
            ],
            [
             0.6,
             "#e6f5d0"
            ],
            [
             0.7,
             "#b8e186"
            ],
            [
             0.8,
             "#7fbc41"
            ],
            [
             0.9,
             "#4d9221"
            ],
            [
             1,
             "#276419"
            ]
           ],
           "sequential": [
            [
             0,
             "#0d0887"
            ],
            [
             0.1111111111111111,
             "#46039f"
            ],
            [
             0.2222222222222222,
             "#7201a8"
            ],
            [
             0.3333333333333333,
             "#9c179e"
            ],
            [
             0.4444444444444444,
             "#bd3786"
            ],
            [
             0.5555555555555556,
             "#d8576b"
            ],
            [
             0.6666666666666666,
             "#ed7953"
            ],
            [
             0.7777777777777778,
             "#fb9f3a"
            ],
            [
             0.8888888888888888,
             "#fdca26"
            ],
            [
             1,
             "#f0f921"
            ]
           ],
           "sequentialminus": [
            [
             0,
             "#0d0887"
            ],
            [
             0.1111111111111111,
             "#46039f"
            ],
            [
             0.2222222222222222,
             "#7201a8"
            ],
            [
             0.3333333333333333,
             "#9c179e"
            ],
            [
             0.4444444444444444,
             "#bd3786"
            ],
            [
             0.5555555555555556,
             "#d8576b"
            ],
            [
             0.6666666666666666,
             "#ed7953"
            ],
            [
             0.7777777777777778,
             "#fb9f3a"
            ],
            [
             0.8888888888888888,
             "#fdca26"
            ],
            [
             1,
             "#f0f921"
            ]
           ]
          },
          "colorway": [
           "#636efa",
           "#EF553B",
           "#00cc96",
           "#ab63fa",
           "#FFA15A",
           "#19d3f3",
           "#FF6692",
           "#B6E880",
           "#FF97FF",
           "#FECB52"
          ],
          "font": {
           "color": "#2a3f5f"
          },
          "geo": {
           "bgcolor": "white",
           "lakecolor": "white",
           "landcolor": "#E5ECF6",
           "showlakes": true,
           "showland": true,
           "subunitcolor": "white"
          },
          "hoverlabel": {
           "align": "left"
          },
          "hovermode": "closest",
          "mapbox": {
           "style": "light"
          },
          "paper_bgcolor": "white",
          "plot_bgcolor": "#E5ECF6",
          "polar": {
           "angularaxis": {
            "gridcolor": "white",
            "linecolor": "white",
            "ticks": ""
           },
           "bgcolor": "#E5ECF6",
           "radialaxis": {
            "gridcolor": "white",
            "linecolor": "white",
            "ticks": ""
           }
          },
          "scene": {
           "xaxis": {
            "backgroundcolor": "#E5ECF6",
            "gridcolor": "white",
            "gridwidth": 2,
            "linecolor": "white",
            "showbackground": true,
            "ticks": "",
            "zerolinecolor": "white"
           },
           "yaxis": {
            "backgroundcolor": "#E5ECF6",
            "gridcolor": "white",
            "gridwidth": 2,
            "linecolor": "white",
            "showbackground": true,
            "ticks": "",
            "zerolinecolor": "white"
           },
           "zaxis": {
            "backgroundcolor": "#E5ECF6",
            "gridcolor": "white",
            "gridwidth": 2,
            "linecolor": "white",
            "showbackground": true,
            "ticks": "",
            "zerolinecolor": "white"
           }
          },
          "shapedefaults": {
           "line": {
            "color": "#2a3f5f"
           }
          },
          "ternary": {
           "aaxis": {
            "gridcolor": "white",
            "linecolor": "white",
            "ticks": ""
           },
           "baxis": {
            "gridcolor": "white",
            "linecolor": "white",
            "ticks": ""
           },
           "bgcolor": "#E5ECF6",
           "caxis": {
            "gridcolor": "white",
            "linecolor": "white",
            "ticks": ""
           }
          },
          "title": {
           "x": 0.05
          },
          "xaxis": {
           "automargin": true,
           "gridcolor": "white",
           "linecolor": "white",
           "ticks": "",
           "title": {
            "standoff": 15
           },
           "zerolinecolor": "white",
           "zerolinewidth": 2
          },
          "yaxis": {
           "automargin": true,
           "gridcolor": "white",
           "linecolor": "white",
           "ticks": "",
           "title": {
            "standoff": 15
           },
           "zerolinecolor": "white",
           "zerolinewidth": 2
          }
         }
        }
       }
      },
      "text/html": [
       "<div>                            <div id=\"c3ce01e3-733a-43f9-bb86-069a0b0b05b0\" class=\"plotly-graph-div\" style=\"height:525px; width:100%;\"></div>            <script type=\"text/javascript\">                require([\"plotly\"], function(Plotly) {                    window.PLOTLYENV=window.PLOTLYENV || {};                                    if (document.getElementById(\"c3ce01e3-733a-43f9-bb86-069a0b0b05b0\")) {                    Plotly.newPlot(                        \"c3ce01e3-733a-43f9-bb86-069a0b0b05b0\",                        [{\"mode\":\"markers\",\"x\":[31438.829001692047,31859.5985013624,39767.37118556701,73652.08911948418,22915.47341602414,30632.631939877876,46000.29754773493,31292.21222010481,31728.937961044343,70680.37401771519,75744.6570525484,30852.94311081881,30723.41812758146,28030.7862244898,30861.775695159628,28567.01881950385,29895.73583243824,27885.87305084746,27916.660938910623,52588.88285511027,49679.3198969212,29138.24478330658,52051.800584128796,74939.40519203414,73527.21123128121,64833.39298628029,40900.757713728766,55563.2080794702,37644.88085817404,78391.2396715098,74432.5890974967,30111.779121540312,73692.30974195419,31026.20161912105,78150.86765472313,44544.72547830145,31335.968929425835,32743.757920681153,29263.661653611834,30954.519712047426,31047.67702105537,43814.498481501934,37655.42977513569,30014.829275692075,32404.325860297897,37066.57101542417,76539.42162588793,53850.311513921115,53071.43038746909,33394.53021276595,30602.08309178744,76227.22209181012,74261.961682243,75086.54190002618,74114.34440853265,62698.35087057979,44202.46995603322,31216.343438372558,31975.542711741185,31164.50925799864,76211.14672796107,75770.53339658443,39730.701798253125,30373.48034119418,28069.857617290458,82032.73746970431,28277.058933333334,30845.818024928092,44154.53190076869,29213.641723955578,30795.361852260197,76685.2158283341,31778.7667467708,30865.042786439,77128.35435498354,31562.377919956438,31075.275091844233,31064.784348181445,32664.511958456973,31091.98110267679,30921.26706882369,31925.843348679427,31623.015733590735,75690.74906672387,40088.56604016754,45217.15024424285,31472.11177024482,73496.41707119741,30310.374456675134,74778.54459203036,48487.129782937904,68160.30548128342,65547.93909125048,74564.48786433492,77248.03977207978,77264.23684863524,77079.44563106795,31303.700630472853,76886.3781445646,31357.08108108108,76234.35820189276,17894.7593625,29841.506203241897,30430.990150970523,32636.791668732953,52107.85340055782,32100.908109965632,30594.722921575227,30307.37790368272,29884.25006684492,29624.35189092902,75498.45461113472,77431.66183460076,74714.56097222221,75599.72459194777,76194.66853516657,77330.41872146119,73145.3845037725,74316.0073452256,28199.056995531108,76747.9687931735,31272.113991213246,28673.248156748912,64360.22438195886,78517.99128125,77226.27428856715,55645.83428964884,48609.74300778308,22518.20262080262,78621.63139381986,74163.01348314606,77894.93062446536,30907.838805970146,32683.10793298842,30391.351476456504,25674.37791489362,85431.46538461538,77412.84193098641,30474.533428300096,74290.03100969053,29210.2075273523,29415.576842450046,29860.893349553935,28483.47275051125,30407.786942328617,27805.752554438863,28189.336356242373,28232.54226044226,28008.393668370245,27267.983034026467,28412.109019607844,28540.467949367092,28561.107091518927,73134.8957261575,30038.824386422977,27549.48894189072,29069.17710931768,27899.579463899696,27067.32773536896,27852.61835084883,27973.68193548387,28122.753260869562,23900.31666666667,74721.04979708762,75565.92450038432,75170.70892182505,75331.37383026782,75859.75406767458,30956.18214647317,41671.89657953281,74115.86419947507,50371.70892631579,60512.823435267215,74443.66024590164,77729.37897350993,31889.08515519568,31975.268411442485,30606.503466204507,31830.231759805625,31746.453229571984,75219.96203341628,30813.43540156567,21561.043868153174,55578.2955550384,31074.321880246225,32539.110551948055,33568.54850640114,35548.3925170068,30103.985278654047,36552.633460076046,38159.04146341463,29542.239451728245,30450.46548004315,60967.25933384973,30543.614497639915,31618.42270657124,74988.5902613828,76249.7147310723,66239.22143661337,31460.050941526264,64415.10521229869,31121.000520624748,31105.61711009174,30930.526820443236,26075.974839797636,31271.13142751752,30012.31335311573,40655.52781014024,67705.5259515571,22735.958919639877,28322.625272331155,25561.939658399624,30527.802032019703,29639.279863481228,30302.35648610121,30853.782883939042,31118.702155718995,28039.474209486165,29577.071655753043,32783.16073170732,32841.15932599266,30156.619536297985,30052.181753197892,29178.30968967701,81379.05951219512,50590.97700793497,30553.345033112582,29497.055319148934,29224.472794117646,29248.58175787728,33832.39081173699,29627.083161740287,30988.585727818125,30661.151940415522,31221.57596930533,30929.552526132407,73851.74467043314,30726.2434400949,35069.988375273526,40018.60030046948,30537.00654450262,30104.56586867305,31378.222174909923,74045.4844765343,74733.27288209608,52728.94084967321,75859.11443935471,73343.20296589224,28188.333306613225,71784.8370904325,30309.074236252545,41546.68127669673,52326.70361538461,74867.36232294618,74751.65675559381,76158.45647848793,73366.84112848403,74529.3139607032,30333.806946231023,48533.418870728085,74398.04326078657,68264.6798656759,74607.17574618096,66143.40198273852,61880.641270987544,80954.85026881722,27027.639468117257,49054.15450573457,79077.60840229153,74710.754254819,74310.61528150133,74486.2932724814,74709.39424792372,73933.31067683508,77311.08250510551,29598.797840046704,28118.24463203463,74330.5407419786,74322.73082143693,72691.68476821193,66136.79832644221,78781.60797713042,52618.60935745477,64280.90436602871,74744.24934778926,63251.300795228635,38024.03131164743,73833.31204013378,74612.53148765845,75016.79445196211,74462.49539849623,73583.50546075085,74563.86419249592,72624.94393162393,74937.58722879685,65658.27969543147,74069.41822222222,73255.40919185687,68923.74044265594,72956.66836065573,73877.52793089264,73290.72150997151,73518.21082173327,74023.57850821746,73859.57687074831,73242.68689956333,73866.0643444227,74215.45871474803,75492.91186440678,74299.15104369607,72405.36298932384,75934.21738261738,72803.37934782609,73282.52854971116,32572.017456359103,31427.65691343517,75235.53628126133,74667.38203414995,80283.78151271753,41121.08015172901,78201.82047923323,48067.23737098345,75455.48344066237,74446.01164004914,74411.60345078097,73758.87770952172,73839.12060491493,74932.02877583467,73926.82567567567,71976.2797979798,73743.00796460177,74781.0172413793,73513.04558537534,74915.0280882353,72803.22853894258,68493.90968379447,76049.01162296244,74771.6256768559,75268.65554899645,75403.87896625987,78102.31358609795,74562.7572996707,40376.53541910331,30459.63940333204,73985.27310012063,74002.80091647028,73951.44507206856,74791.67520340953,75844.69485834207,75071.4089377793,75018.29804796432,73772.90974607917,75841.8440677966,73441.27983807783,75717.51946854664,73896.89988235294,75863.95381000335,74585.2175944334,73864.93821284239,31125.83307610431,79432.96751995596,50644.430838103624,52735.19168081494,56828.3713713268,46079.46282673637,31748.88848054355,67655.02087594486,67505.31165165166,74259.9614298323,74526.0354786371,38459.586132660974,68715.65445976364,53595.66733449478,74924.23694267515,79429.8200053778,52148.42093757043,66780.24554495637,61216.87925654854,71459.06949152541,32703.02,27892.542857142857,27238.942857142858,31299.242857142857,31566.6,32269.6,34652.29368327402,65048.53584121856],\"y\":[24738.514145516074,23931.804768392372,25165.836804123708,52960.231210961116,22456.51250419041,25723.673062470643,30889.74009734182,28678.16893758933,25089.75996684625,45960.288235294116,44988.07534571316,24768.100460374877,25353.10174391923,24915.482823129252,25786.188568486097,27434.352138579983,29095.50461868958,25070.944576271188,42704.456816130005,49786.485202750766,48282.05151227452,39046.2444622793,50148.63953554637,28402.03122332859,27927.204409317805,36681.563264521086,22998.013854079643,45566.16584988963,32569.403422002408,43103.52694251422,30284.671014492753,51208.181092057755,32520.384488257463,20370.048222821897,41734.835146579804,33773.76021931871,28463.94111842105,27937.497535290164,28112.3745691906,28799.41401651493,29726.01232128932,33047.34436775262,33168.80043939003,32849.33481228669,27026.003644067798,35451.02420736932,40756.62647987372,42470.22134570765,31081.719422918388,51421.6124822695,40234.11018884498,36106.38158581116,31800.421116443547,31657.65200209369,32486.65559146736,32686.032148626815,31883.586174890082,24742.435101715197,28361.41846601236,28104.146051735872,42671.53217955652,31688.58753953194,39198.264189073474,33316.99189663823,28237.076805482342,26999.48734852157,39345.260304761905,40666.076701821665,33633.33073025856,24500.69116869381,23815.282984196987,32033.642131979694,28920.967167317514,28459.35392229646,36566.90197545645,27037.97069425538,25014.48464364438,27279.058929301187,28136.18706231454,24886.286260487414,28876.538552234713,29180.723673370485,25791.045012870014,31683.972387899594,34917.22252174847,29755.535223307746,34922.786001255496,28614.916686893204,29032.64129268981,28315.73788741303,42491.25025239778,36188.782700534764,30803.95013143072,40948.510386857444,41545.3717948718,41734.5017783292,32420.065006331784,25252.204133099825,42183.7500853728,16364.066666666666,41664.82497371188,34497.06954166667,22645.629519950126,25647.230984902944,28382.643020084302,30479.842093971252,25587.41859106529,25709.473746213396,25976.522556657226,27268.202272727274,22980.012277336256,47428.65609859753,43588.57005703422,41476.58326388889,41886.80293797606,39661.64410364886,41688.32004058853,40277.98038305282,44695.49512067156,27388.628807150224,44103.873791141814,24626.059783710716,34217.48716981132,26428.77491979619,35723.3428125,46278.91138292561,55515.20075740188,53362.92992719056,21991.77788697789,24159.50902366864,38987.03630077787,47676.983276304534,24273.874937810946,28127.81244148805,28273.05430965682,31194.941829787233,39518.24487179487,31436.620425235273,42885.387037037035,28411.48068146296,41214.14131291029,43670.76898132984,42252.669464720195,39472.25884458078,41787.95516866159,42185.48685092127,42499.78023586824,39215.674152334155,43287.536059057355,40839.628875236296,19094.019999999997,41919.11792405064,39766.56478198371,27847.060189948552,39844.213785900785,41983.549479618385,34130.86566397652,44869.938045827934,19477.61145038168,28138.82691996766,20812.24817204301,25518.512296195655,15380.636574074075,32036.887252327524,31272.915680245962,30603.281633246148,29128.71542433043,29918.110511159106,25269.80739115761,27305.361457174637,28178.654225721784,29245.719789473686,34391.11426121749,29075.240491803277,44143.28754139073,25922.747800269903,24723.337239805234,23549.175303292894,24845.544949670253,24175.387354085604,30774.801884109493,26034.713047260073,22424.901551139115,30065.91938561787,24772.982635702294,21748.592029220777,16817.165021337125,14486.75462585034,26414.072555205046,11983.444486692015,12164.626016260163,27136.610369487487,22930.44455231931,34275.62104311903,23544.840289952797,28636.361396660162,28904.217537942663,29003.95125042823,30523.42222472416,24598.832573505122,28893.06196193265,23366.408197837405,23277.499449541283,23256.34658525554,33398.58477796515,23175.58100331981,24581.941711177053,33920.02897518878,35777.472110726645,22249.228042680894,28970.186111111114,30886.308095460925,24442.915086206896,22792.56271331058,25891.11931575196,25783.892497069166,28120.35488206949,28277.65691699605,26043.70776426567,17215.90568292683,28479.945745745747,25063.177727099963,25831.31518058691,26160.689043698545,27839.15512195122,44739.33423650087,27762.58723178808,17044.156170212766,15123.943014705883,23823.1652238806,28893.738445063183,26110.24666223846,25680.744076413008,26018.969619756957,27256.82879644588,26126.975900116144,28856.044218455747,28702.91693950178,43853.018353391686,26799.091323943663,23952.53817626527,26286.28077975376,24097.1337045529,26233.606317689533,26729.402707423582,31303.584209744506,36778.443039235215,43157.92130499258,40178.8056513026,44964.338575797294,34139.46906822811,48134.230042714764,50984.83934615384,31808.342634560908,27036.295266781413,32045.76100472519,30954.126936324494,29926.533210961734,27025.40455364034,41245.66716196137,27795.254982817867,24083.50250071449,31252.472902467685,50171.534079776065,34972.30904495397,26890.01935483871,42493.11362949532,50831.18610049153,24278.45708147677,27924.323601316406,27654.677167113496,28354.249526707234,29510.33466625654,28096.39167461074,35431.11511232131,24375.545534150613,39039.854978354975,28844.372827540108,32685.440580388484,9786.296026490067,41385.042547745616,31059.40179689627,40915.946101060516,32176.936184210528,29299.88978485516,34540.02027833002,26649.463022035678,27273.857775919732,27403.43842561708,27281.76786197564,31231.630766917293,28272.345335608647,31810.609502446983,28730.254957264955,29244.849408284026,21527.121827411167,26724.77111111111,27474.974830351635,25845.159557344065,27935.217158469946,37771.82126696833,25444.262108262108,28761.040745397397,27365.979140328698,19899.52380952381,19109.090829694323,26723.65585127202,27907.909570041607,28531.937758945383,31433.17581408294,18692.24839857651,29518.777722277722,19274.316847826085,30804.55210702341,18401.19875311721,35425.9910693302,29328.067850670534,28373.984484038607,36615.188955823294,32957.7067748765,49696.09549520767,29487.911645569624,28000.323735050595,30712.252579852582,29796.169051943336,29593.004651162788,27775.723468809072,28799.57090620032,18380.52800675676,19366.051515151517,11625.23185840708,10407.036637931034,31084.187981330222,28484.818676470586,27094.42757248437,24313.811067193677,27837.815095676826,27485.876419213975,27542.054604486424,27938.86243359655,29137.58167456556,30955.184961580682,25519.328849902533,23142.95707090275,28649.3123039807,30235.395862791305,32853.07791195949,27635.652305308016,28988.303882476393,28418.07459608113,31599.59860568879,28282.63236743839,27834.962018489987,29649.955267693913,30745.40051518438,31810.48494117647,31640.899731453508,30212.23513916501,28264.538302649304,26457.302687599786,35263.4612716763,46973.43706150007,47605.56990276277,31142.49176313446,32730.37005227782,28194.632921556517,27306.710538016898,35576.16015015015,29654.421138570167,31787.53683071931,24671.68717998448,33692.69319077096,53320.79408754355,29378.37092356688,35130.599757999466,30701.392111787245,29708.117678100265,27436.43879044684,18843.927118644067,13971.05,9899.0,9210.114285714286,8498.7,7060.875,6718.4,38497.99991103203,36495.05197322871],\"z\":[44077.37732656515,45046.389645776566,37174.7852233677,48689.502317146886,59368.48809922896,41336.7543447628,31920.9752901535,38448.52310624107,41910.27766266059,47545.389507154214,48206.83524298696,45084.889838868796,42800.849013308856,56413.26530612245,44500.15447991761,49600.0,40556.10096670247,55926.016949152545,45850.40625940415,52145.0438700498,49339.97694289977,47603.94863563403,55146.71605641829,54566.09174964438,53294.28036605657,41604.019746121296,37255.47897521582,51024.41501103753,31697.87461569309,51658.243840808595,45941.897233201584,42932.11492178099,45313.01826616411,50160.27370855821,52983.029315960914,37334.122725151654,40018.80980861244,39352.57674210172,41258.51174934726,39226.709718399325,38870.62646217832,36970.33406957482,46590.61773067976,35452.77777777778,37954.661016949154,33878.98457583548,49146.19179163378,37387.16647331786,40961.42621599341,45974.239558707646,45051.53711023276,41930.81637976004,47170.5986360192,47078.39570792986,46257.88623141564,35471.76449470472,30891.499755740108,42059.85241324292,37134.57833515085,38831.58611300204,48471.471065440775,48310.57874762808,38215.01969515328,33435.08529854491,52907.61729045862,66988.43916626273,44992.89523809524,46644.487056567596,34086.312019566736,48762.21575885775,45361.88901139287,60978.980156898935,38624.421748272754,39597.166542934916,41705.82161029632,39087.653144568474,41633.743570903745,39460.666121781775,40251.21661721068,41774.27087495006,39256.11461475185,38452.27768354737,40674.19562419562,48628.48101265823,38252.15873697777,32716.721912072575,32043.596986817327,52705.198220064725,30152.624894157492,54550.96457938014,51719.62392730944,38360.26737967914,37343.77581674803,53190.408055113934,45787.52136752137,48386.186931348224,49033.6112283664,43517.79334500876,48031.84405236198,66749.32432432432,48458.070452155625,67516.10416666667,35715.28990024938,45353.27102803739,39205.5913711877,34379.446470714436,42254.63917525773,44161.208347357795,43922.50354107649,44183.00467914438,34291.12770622088,48376.816829579264,46403.06558935361,45151.180555555555,48179.67899891186,48618.693812797464,48119.22881785895,47761.52060359837,46338.850996852045,41233.91199724992,47755.343356359204,43826.61372085164,35591.40783744557,40761.6342706171,43495.921875,47515.75137294059,49181.98301583659,49810.381621893044,56063.554463554465,46443.01446416831,48847.752808988764,47786.077844311374,45862.96641791045,37241.0076373491,41920.35115722266,49984.744680851065,70598.21714743589,50901.04566050889,44147.38841405508,54356.76773991872,41774.201312910285,43941.33639043564,42535.908353609084,42294.68302658487,40243.30794341676,43158.752093802344,41320.63847092314,42009.31203931204,44595.71266325951,40640.02835538753,62452.1568627451,41683.36708860759,40339.051269765216,52723.98100514444,41240.75718015666,42142.367736339984,44339.43506969919,43914.59143968872,62750.50890585242,46943.73484236055,60725.05376344086,51240.55706521739,66474.76851851853,48477.77512532824,49856.0049961568,50030.39814007556,53195.15972894482,51982.9373650108,43556.74991562605,30954.92213570634,55395.433070866144,46997.72631578947,39834.452700771646,52440.92213114754,48853.41473509934,41074.912280701756,43091.12903225807,45166.63778162911,44596.754599097534,43532.879377431906,48975.13330963384,43075.55813279212,57254.92001938924,48283.66302071213,46998.349188584216,56373.53896103896,58027.5960170697,58649.14965986394,49872.18717139853,60152.28136882129,59997.154471544716,49564.30274135876,48982.82092772384,40249.6901626646,42254.87188132165,39679.006723053564,52373.37689713322,52462.761219595755,53862.06935374915,42236.95077634622,36309.92679355783,43888.3660392471,46008.21100917431,46582.9262777024,43138.31365935919,45051.97344153449,49367.853610286846,29807.45415318231,34822.69896193771,57703.10103367789,53467.53812636166,50729.46888160973,44751.262315270935,58263.6518771331,43087.27726300784,42884.251660805,39410.32208977936,49358.39920948617,48488.119738072965,50761.58536585366,37872.772772772776,44596.27518053972,42776.18510158014,47147.65674477517,68521.78048780488,51150.58060770273,40853.17880794702,62940.85106382979,64621.32352941176,57148.50746268657,39172.93853073463,43873.31451345068,43597.55288916956,43205.25284202274,43618.739903069465,43542.770034843204,51413.67231638418,38911.20996441281,46876.736870897155,49312.018779342725,47655.65008726004,48806.292749658,45258.205044218805,65782.31046931408,60267.29257641921,40467.48366013072,42747.77932682732,53116.8561542264,44230.64128256513,51006.18173875054,33697.75967413442,46514.28571428572,48290.570512820515,46674.091123701604,58294.750430292595,48095.31211141507,46548.88964423295,50434.565667011375,41705.801389246204,50281.965081723625,55155.26918671249,43494.81280365819,47088.15511163337,52091.4392348962,37891.21682614191,67109.00537634408,44640.43517679057,52650.477880939376,44479.08179503501,55685.14339445228,55395.263628239496,54994.23597025017,53395.324515533684,54578.78932316492,43522.36215112321,50111.15002918856,42689.82683982684,53214.13770053476,48495.15562836415,57643.046357615895,44040.64776530813,40319.50721481078,38690.14348097317,36323.106060606064,50340.84363882771,44906.99966865474,49848.31059811123,56428.80434782609,60217.778519012674,60606.393775372126,49279.8045112782,54794.05574516496,47237.72430668842,60892.52136752137,49312.35207100592,70132.48730964467,66239.82222222222,58922.48611967921,65958.85311871227,55909.071038251364,40219.74496092143,66726.56695156696,51223.70902559497,64544.56384323641,73525.85034013605,75589.95633187774,54909.29549902153,53354.114655570964,54145.056497175145,46302.017812413025,73520.99644128114,60229.42057942058,74212.22826086957,48008.406810580724,51355.112219451374,36201.086956521736,53607.9557810801,55107.9435783222,51510.79651941098,40816.56669019054,47062.68370607029,46338.841285296985,54053.26586936523,49448.18796068796,52133.43625136215,50143.286529179466,52447.16446124764,58541.81240063593,62112.83783783784,61712.37373737374,62532.30088495575,62720.68965517241,46554.18125243096,59291.39705882353,57712.76293348493,67063.63636363637,60951.133947554925,64988.16593886463,60003.778040141675,54854.235463029436,63546.84044233807,56371.07574094402,54718.849902534115,49248.9926385122,54256.80036188178,51235.205551191415,48415.38761199844,56554.84308407594,60756.03357817419,51997.112409762805,47969.506413831565,52189.581777445856,53304.661016949154,48461.190911465135,48654.43329718005,45123.58823529412,47362.4034911044,49028.47912524851,51230.22002694207,38618.98616285258,55618.92375447289,49868.0170262733,49738.70196017904,35353.829029385575,35272.20873786408,38686.951822112416,42039.37305469097,48452.53753753754,50468.402471315094,47295.79502433748,38075.99883630721,38502.560495216654,54026.01807491289,53547.515923566876,57321.29604732455,48923.32657200811,53517.39395169474,57811.354006163325,74706.77966101695,48912.5,66771.42857142857,66650.0,66775.0,64100.0,63300.0,46758.69661921708,39425.317332102466],\"type\":\"scatter3d\"}],                        {\"template\":{\"data\":{\"histogram2dcontour\":[{\"type\":\"histogram2dcontour\",\"colorbar\":{\"outlinewidth\":0,\"ticks\":\"\"},\"colorscale\":[[0.0,\"#0d0887\"],[0.1111111111111111,\"#46039f\"],[0.2222222222222222,\"#7201a8\"],[0.3333333333333333,\"#9c179e\"],[0.4444444444444444,\"#bd3786\"],[0.5555555555555556,\"#d8576b\"],[0.6666666666666666,\"#ed7953\"],[0.7777777777777778,\"#fb9f3a\"],[0.8888888888888888,\"#fdca26\"],[1.0,\"#f0f921\"]]}],\"choropleth\":[{\"type\":\"choropleth\",\"colorbar\":{\"outlinewidth\":0,\"ticks\":\"\"}}],\"histogram2d\":[{\"type\":\"histogram2d\",\"colorbar\":{\"outlinewidth\":0,\"ticks\":\"\"},\"colorscale\":[[0.0,\"#0d0887\"],[0.1111111111111111,\"#46039f\"],[0.2222222222222222,\"#7201a8\"],[0.3333333333333333,\"#9c179e\"],[0.4444444444444444,\"#bd3786\"],[0.5555555555555556,\"#d8576b\"],[0.6666666666666666,\"#ed7953\"],[0.7777777777777778,\"#fb9f3a\"],[0.8888888888888888,\"#fdca26\"],[1.0,\"#f0f921\"]]}],\"heatmap\":[{\"type\":\"heatmap\",\"colorbar\":{\"outlinewidth\":0,\"ticks\":\"\"},\"colorscale\":[[0.0,\"#0d0887\"],[0.1111111111111111,\"#46039f\"],[0.2222222222222222,\"#7201a8\"],[0.3333333333333333,\"#9c179e\"],[0.4444444444444444,\"#bd3786\"],[0.5555555555555556,\"#d8576b\"],[0.6666666666666666,\"#ed7953\"],[0.7777777777777778,\"#fb9f3a\"],[0.8888888888888888,\"#fdca26\"],[1.0,\"#f0f921\"]]}],\"heatmapgl\":[{\"type\":\"heatmapgl\",\"colorbar\":{\"outlinewidth\":0,\"ticks\":\"\"},\"colorscale\":[[0.0,\"#0d0887\"],[0.1111111111111111,\"#46039f\"],[0.2222222222222222,\"#7201a8\"],[0.3333333333333333,\"#9c179e\"],[0.4444444444444444,\"#bd3786\"],[0.5555555555555556,\"#d8576b\"],[0.6666666666666666,\"#ed7953\"],[0.7777777777777778,\"#fb9f3a\"],[0.8888888888888888,\"#fdca26\"],[1.0,\"#f0f921\"]]}],\"contourcarpet\":[{\"type\":\"contourcarpet\",\"colorbar\":{\"outlinewidth\":0,\"ticks\":\"\"}}],\"contour\":[{\"type\":\"contour\",\"colorbar\":{\"outlinewidth\":0,\"ticks\":\"\"},\"colorscale\":[[0.0,\"#0d0887\"],[0.1111111111111111,\"#46039f\"],[0.2222222222222222,\"#7201a8\"],[0.3333333333333333,\"#9c179e\"],[0.4444444444444444,\"#bd3786\"],[0.5555555555555556,\"#d8576b\"],[0.6666666666666666,\"#ed7953\"],[0.7777777777777778,\"#fb9f3a\"],[0.8888888888888888,\"#fdca26\"],[1.0,\"#f0f921\"]]}],\"surface\":[{\"type\":\"surface\",\"colorbar\":{\"outlinewidth\":0,\"ticks\":\"\"},\"colorscale\":[[0.0,\"#0d0887\"],[0.1111111111111111,\"#46039f\"],[0.2222222222222222,\"#7201a8\"],[0.3333333333333333,\"#9c179e\"],[0.4444444444444444,\"#bd3786\"],[0.5555555555555556,\"#d8576b\"],[0.6666666666666666,\"#ed7953\"],[0.7777777777777778,\"#fb9f3a\"],[0.8888888888888888,\"#fdca26\"],[1.0,\"#f0f921\"]]}],\"mesh3d\":[{\"type\":\"mesh3d\",\"colorbar\":{\"outlinewidth\":0,\"ticks\":\"\"}}],\"scatter\":[{\"fillpattern\":{\"fillmode\":\"overlay\",\"size\":10,\"solidity\":0.2},\"type\":\"scatter\"}],\"parcoords\":[{\"type\":\"parcoords\",\"line\":{\"colorbar\":{\"outlinewidth\":0,\"ticks\":\"\"}}}],\"scatterpolargl\":[{\"type\":\"scatterpolargl\",\"marker\":{\"colorbar\":{\"outlinewidth\":0,\"ticks\":\"\"}}}],\"bar\":[{\"error_x\":{\"color\":\"#2a3f5f\"},\"error_y\":{\"color\":\"#2a3f5f\"},\"marker\":{\"line\":{\"color\":\"#E5ECF6\",\"width\":0.5},\"pattern\":{\"fillmode\":\"overlay\",\"size\":10,\"solidity\":0.2}},\"type\":\"bar\"}],\"scattergeo\":[{\"type\":\"scattergeo\",\"marker\":{\"colorbar\":{\"outlinewidth\":0,\"ticks\":\"\"}}}],\"scatterpolar\":[{\"type\":\"scatterpolar\",\"marker\":{\"colorbar\":{\"outlinewidth\":0,\"ticks\":\"\"}}}],\"histogram\":[{\"marker\":{\"pattern\":{\"fillmode\":\"overlay\",\"size\":10,\"solidity\":0.2}},\"type\":\"histogram\"}],\"scattergl\":[{\"type\":\"scattergl\",\"marker\":{\"colorbar\":{\"outlinewidth\":0,\"ticks\":\"\"}}}],\"scatter3d\":[{\"type\":\"scatter3d\",\"line\":{\"colorbar\":{\"outlinewidth\":0,\"ticks\":\"\"}},\"marker\":{\"colorbar\":{\"outlinewidth\":0,\"ticks\":\"\"}}}],\"scattermapbox\":[{\"type\":\"scattermapbox\",\"marker\":{\"colorbar\":{\"outlinewidth\":0,\"ticks\":\"\"}}}],\"scatterternary\":[{\"type\":\"scatterternary\",\"marker\":{\"colorbar\":{\"outlinewidth\":0,\"ticks\":\"\"}}}],\"scattercarpet\":[{\"type\":\"scattercarpet\",\"marker\":{\"colorbar\":{\"outlinewidth\":0,\"ticks\":\"\"}}}],\"carpet\":[{\"aaxis\":{\"endlinecolor\":\"#2a3f5f\",\"gridcolor\":\"white\",\"linecolor\":\"white\",\"minorgridcolor\":\"white\",\"startlinecolor\":\"#2a3f5f\"},\"baxis\":{\"endlinecolor\":\"#2a3f5f\",\"gridcolor\":\"white\",\"linecolor\":\"white\",\"minorgridcolor\":\"white\",\"startlinecolor\":\"#2a3f5f\"},\"type\":\"carpet\"}],\"table\":[{\"cells\":{\"fill\":{\"color\":\"#EBF0F8\"},\"line\":{\"color\":\"white\"}},\"header\":{\"fill\":{\"color\":\"#C8D4E3\"},\"line\":{\"color\":\"white\"}},\"type\":\"table\"}],\"barpolar\":[{\"marker\":{\"line\":{\"color\":\"#E5ECF6\",\"width\":0.5},\"pattern\":{\"fillmode\":\"overlay\",\"size\":10,\"solidity\":0.2}},\"type\":\"barpolar\"}],\"pie\":[{\"automargin\":true,\"type\":\"pie\"}]},\"layout\":{\"autotypenumbers\":\"strict\",\"colorway\":[\"#636efa\",\"#EF553B\",\"#00cc96\",\"#ab63fa\",\"#FFA15A\",\"#19d3f3\",\"#FF6692\",\"#B6E880\",\"#FF97FF\",\"#FECB52\"],\"font\":{\"color\":\"#2a3f5f\"},\"hovermode\":\"closest\",\"hoverlabel\":{\"align\":\"left\"},\"paper_bgcolor\":\"white\",\"plot_bgcolor\":\"#E5ECF6\",\"polar\":{\"bgcolor\":\"#E5ECF6\",\"angularaxis\":{\"gridcolor\":\"white\",\"linecolor\":\"white\",\"ticks\":\"\"},\"radialaxis\":{\"gridcolor\":\"white\",\"linecolor\":\"white\",\"ticks\":\"\"}},\"ternary\":{\"bgcolor\":\"#E5ECF6\",\"aaxis\":{\"gridcolor\":\"white\",\"linecolor\":\"white\",\"ticks\":\"\"},\"baxis\":{\"gridcolor\":\"white\",\"linecolor\":\"white\",\"ticks\":\"\"},\"caxis\":{\"gridcolor\":\"white\",\"linecolor\":\"white\",\"ticks\":\"\"}},\"coloraxis\":{\"colorbar\":{\"outlinewidth\":0,\"ticks\":\"\"}},\"colorscale\":{\"sequential\":[[0.0,\"#0d0887\"],[0.1111111111111111,\"#46039f\"],[0.2222222222222222,\"#7201a8\"],[0.3333333333333333,\"#9c179e\"],[0.4444444444444444,\"#bd3786\"],[0.5555555555555556,\"#d8576b\"],[0.6666666666666666,\"#ed7953\"],[0.7777777777777778,\"#fb9f3a\"],[0.8888888888888888,\"#fdca26\"],[1.0,\"#f0f921\"]],\"sequentialminus\":[[0.0,\"#0d0887\"],[0.1111111111111111,\"#46039f\"],[0.2222222222222222,\"#7201a8\"],[0.3333333333333333,\"#9c179e\"],[0.4444444444444444,\"#bd3786\"],[0.5555555555555556,\"#d8576b\"],[0.6666666666666666,\"#ed7953\"],[0.7777777777777778,\"#fb9f3a\"],[0.8888888888888888,\"#fdca26\"],[1.0,\"#f0f921\"]],\"diverging\":[[0,\"#8e0152\"],[0.1,\"#c51b7d\"],[0.2,\"#de77ae\"],[0.3,\"#f1b6da\"],[0.4,\"#fde0ef\"],[0.5,\"#f7f7f7\"],[0.6,\"#e6f5d0\"],[0.7,\"#b8e186\"],[0.8,\"#7fbc41\"],[0.9,\"#4d9221\"],[1,\"#276419\"]]},\"xaxis\":{\"gridcolor\":\"white\",\"linecolor\":\"white\",\"ticks\":\"\",\"title\":{\"standoff\":15},\"zerolinecolor\":\"white\",\"automargin\":true,\"zerolinewidth\":2},\"yaxis\":{\"gridcolor\":\"white\",\"linecolor\":\"white\",\"ticks\":\"\",\"title\":{\"standoff\":15},\"zerolinecolor\":\"white\",\"automargin\":true,\"zerolinewidth\":2},\"scene\":{\"xaxis\":{\"backgroundcolor\":\"#E5ECF6\",\"gridcolor\":\"white\",\"linecolor\":\"white\",\"showbackground\":true,\"ticks\":\"\",\"zerolinecolor\":\"white\",\"gridwidth\":2},\"yaxis\":{\"backgroundcolor\":\"#E5ECF6\",\"gridcolor\":\"white\",\"linecolor\":\"white\",\"showbackground\":true,\"ticks\":\"\",\"zerolinecolor\":\"white\",\"gridwidth\":2},\"zaxis\":{\"backgroundcolor\":\"#E5ECF6\",\"gridcolor\":\"white\",\"linecolor\":\"white\",\"showbackground\":true,\"ticks\":\"\",\"zerolinecolor\":\"white\",\"gridwidth\":2}},\"shapedefaults\":{\"line\":{\"color\":\"#2a3f5f\"}},\"annotationdefaults\":{\"arrowcolor\":\"#2a3f5f\",\"arrowhead\":0,\"arrowwidth\":1},\"geo\":{\"bgcolor\":\"white\",\"landcolor\":\"#E5ECF6\",\"subunitcolor\":\"white\",\"showland\":true,\"showlakes\":true,\"lakecolor\":\"white\"},\"title\":{\"x\":0.05},\"mapbox\":{\"style\":\"light\"}}}},                        {\"responsive\": true}                    ).then(function(){\n",
       "                            \n",
       "var gd = document.getElementById('c3ce01e3-733a-43f9-bb86-069a0b0b05b0');\n",
       "var x = new MutationObserver(function (mutations, observer) {{\n",
       "        var display = window.getComputedStyle(gd).display;\n",
       "        if (!display || display === 'none') {{\n",
       "            console.log([gd, 'removed!']);\n",
       "            Plotly.purge(gd);\n",
       "            observer.disconnect();\n",
       "        }}\n",
       "}});\n",
       "\n",
       "// Listen for the removal of the full notebook cells\n",
       "var notebookContainer = gd.closest('#notebook-container');\n",
       "if (notebookContainer) {{\n",
       "    x.observe(notebookContainer, {childList: true});\n",
       "}}\n",
       "\n",
       "// Listen for the clearing of the current output cell\n",
       "var outputEl = gd.closest('.output');\n",
       "if (outputEl) {{\n",
       "    x.observe(outputEl, {childList: true});\n",
       "}}\n",
       "\n",
       "                        })                };                });            </script>        </div>"
      ]
     },
     "metadata": {},
     "output_type": "display_data"
    }
   ],
   "source": [
    "import plotly.graph_objects as go\n",
    "# plot the mushroom body in 3D\n",
    "\n",
    "fig = go.Figure(data=[go.Scatter3d(x=larval_neuron_df['x'], y=larval_neuron_df['y'], z=larval_neuron_df['z'],\n",
    "                                   mode='markers')])\n",
    "\n",
    "fig.show()"
   ]
  },
  {
   "cell_type": "code",
   "execution_count": 5,
   "metadata": {
    "scrolled": true
   },
   "outputs": [
    {
     "data": {
      "text/plain": [
       "<matplotlib.collections.PathCollection at 0x7fe356df3c70>"
      ]
     },
     "execution_count": 5,
     "metadata": {},
     "output_type": "execute_result"
    },
    {
     "data": {
      "image/png": "[encoded data removed]",
      "text/plain": [
       "<Figure size 432x288 with 1 Axes>"
      ]
     },
     "metadata": {
      "needs_background": "light"
     },
     "output_type": "display_data"
    }
   ],
   "source": [
    "plt.scatter(larval_neuron_df['x'], larval_neuron_df['y'])"
   ]
  },
  {
   "cell_type": "code",
   "execution_count": 6,
   "metadata": {},
   "outputs": [
    {
     "data": {
      "text/plain": [
       "<matplotlib.collections.PathCollection at 0x7fe356fa0c10>"
      ]
     },
     "execution_count": 6,
     "metadata": {},
     "output_type": "execute_result"
    },
    {
     "data": {
      "image/png": "[encoded data removed]",
      "text/plain": [
       "<Figure size 432x288 with 1 Axes>"
      ]
     },
     "metadata": {
      "needs_background": "light"
     },
     "output_type": "display_data"
    }
   ],
   "source": [
    "plt.scatter(larval_neuron_df['y'], larval_neuron_df['z'])"
   ]
  },
  {
   "cell_type": "code",
   "execution_count": 7,
   "metadata": {},
   "outputs": [
    {
     "data": {
      "text/plain": [
       "<matplotlib.collections.PathCollection at 0x7fe35476eb80>"
      ]
     },
     "execution_count": 7,
     "metadata": {},
     "output_type": "execute_result"
    },
    {
     "data": {
      "image/png": "[encoded data removed]",
      "text/plain": [
       "<Figure size 432x288 with 1 Axes>"
      ]
     },
     "metadata": {
      "needs_background": "light"
     },
     "output_type": "display_data"
    }
   ],
   "source": [
    "plt.scatter(larval_neuron_df['x'], larval_neuron_df['z'])"
   ]
  },
  {
   "cell_type": "code",
   "execution_count": 8,
   "metadata": {
    "scrolled": false
   },
   "outputs": [],
   "source": [
    "table=pd.read_csv('larval_MB/connectivity matrix table 1.csv')"
   ]
  },
  {
   "cell_type": "code",
   "execution_count": 9,
   "metadata": {},
   "outputs": [],
   "source": [
    "del table['Unnamed: 0']"
   ]
  },
  {
   "cell_type": "code",
   "execution_count": 10,
   "metadata": {},
   "outputs": [],
   "source": [
    "A= table.values"
   ]
  },
  {
   "cell_type": "code",
   "execution_count": 11,
   "metadata": {},
   "outputs": [
    {
     "data": {
      "text/plain": [
       "array([[0, 0, 0, ..., 0, 0, 2],\n",
       "       [0, 0, 0, ..., 0, 0, 0],\n",
       "       [0, 0, 0, ..., 0, 0, 0],\n",
       "       ...,\n",
       "       [0, 0, 0, ..., 0, 3, 0],\n",
       "       [2, 0, 0, ..., 0, 0, 1],\n",
       "       [0, 2, 0, ..., 0, 1, 0]])"
      ]
     },
     "execution_count": 11,
     "metadata": {},
     "output_type": "execute_result"
    }
   ],
   "source": [
    "A"
   ]
  },
  {
   "cell_type": "code",
   "execution_count": 12,
   "metadata": {
    "scrolled": true
   },
   "outputs": [],
   "source": [
    "overall_connection=A+A.T"
   ]
  },
  {
   "cell_type": "code",
   "execution_count": 13,
   "metadata": {},
   "outputs": [],
   "source": [
    "e_val, e_vec= np.linalg.eigh(overall_connection)"
   ]
  },
  {
   "cell_type": "markdown",
   "metadata": {},
   "source": [
    "## Optimal dimension for Adjacency embeding"
   ]
  },
  {
   "cell_type": "code",
   "execution_count": 14,
   "metadata": {
    "scrolled": false
   },
   "outputs": [
    {
     "data": {
      "text/plain": [
       "[<matplotlib.lines.Line2D at 0x7fe3573f0ac0>]"
      ]
     },
     "execution_count": 14,
     "metadata": {},
     "output_type": "execute_result"
    },
    {
     "data": {
      "image/png": "[encoded data removed]",
      "text/plain": [
       "<Figure size 432x288 with 1 Axes>"
      ]
     },
     "metadata": {
      "needs_background": "light"
     },
     "output_type": "display_data"
    }
   ],
   "source": [
    "plt.plot(e_val)"
   ]
  },
  {
   "cell_type": "code",
   "execution_count": 15,
   "metadata": {
    "scrolled": false
   },
   "outputs": [
    {
     "data": {
      "text/plain": [
       "(array([384]),)"
      ]
     },
     "execution_count": 15,
     "metadata": {},
     "output_type": "execute_result"
    }
   ],
   "source": [
    "np.where(np.diff(e_val)==max(np.diff(e_val)))"
   ]
  },
  {
   "cell_type": "markdown",
   "metadata": {},
   "source": [
    "Optimal dimension is 3"
   ]
  },
  {
   "cell_type": "code",
   "execution_count": 16,
   "metadata": {
    "scrolled": true
   },
   "outputs": [
    {
     "data": {
      "text/plain": [
       "<matplotlib.collections.PathCollection at 0x7fe3573dadc0>"
      ]
     },
     "execution_count": 16,
     "metadata": {},
     "output_type": "execute_result"
    },
    {
     "data": {
      "image/png": "[encoded data removed]",
      "text/plain": [
       "<Figure size 432x288 with 1 Axes>"
      ]
     },
     "metadata": {
      "needs_background": "light"
     },
     "output_type": "display_data"
    }
   ],
   "source": [
    "plt.scatter(e_vec[:,385],e_vec[:,386])"
   ]
  },
  {
   "cell_type": "code",
   "execution_count": 17,
   "metadata": {},
   "outputs": [
    {
     "data": {
      "text/plain": [
       "<matplotlib.collections.PathCollection at 0x7fe356e1aaf0>"
      ]
     },
     "execution_count": 17,
     "metadata": {},
     "output_type": "execute_result"
    },
    {
     "data": {
      "image/png": "[encoded data removed]",
      "text/plain": [
       "<Figure size 432x288 with 1 Axes>"
      ]
     },
     "metadata": {
      "needs_background": "light"
     },
     "output_type": "display_data"
    }
   ],
   "source": [
    "plt.scatter(e_vec[:,385],e_vec[:,384])"
   ]
  },
  {
   "cell_type": "code",
   "execution_count": 18,
   "metadata": {},
   "outputs": [
    {
     "data": {
      "text/plain": [
       "<matplotlib.collections.PathCollection at 0x7fe3563f78e0>"
      ]
     },
     "execution_count": 18,
     "metadata": {},
     "output_type": "execute_result"
    },
    {
     "data": {
      "image/png": "[encoded data removed]",
      "text/plain": [
       "<Figure size 432x288 with 1 Axes>"
      ]
     },
     "metadata": {
      "needs_background": "light"
     },
     "output_type": "display_data"
    }
   ],
   "source": [
    "plt.scatter(e_vec[:,384],e_vec[:,386])"
   ]
  },
  {
   "cell_type": "code",
   "execution_count": 19,
   "metadata": {
    "scrolled": false
   },
   "outputs": [
    {
     "data": {
      "application/vnd.plotly.v1+json": {
       "config": {
        "plotlyServerURL": "https://plot.ly"
       },
       "data": [
        {
         "mode": "markers",
         "type": "scatter3d",
         "x": [
          -0.021015153534791626,
          -0.01758739306638349,
          -0.01104509878872828,
          -0.021982749131365636,
          -0.053555290725185445,
          -0.04580833467308344,
          -0.014956429741694699,
          -0.025273292038884676,
          -0.013427360325200699,
          -0.012523276688794271,
          -0.0061408435734118805,
          -0.005906302797222152,
          -0.01403882040552901,
          -0.011322586102473763,
          0.015877949839941865,
          0.006312919541385269,
          -0.022566551101295712,
          -0.04035242883563675,
          -0.0223408441947724,
          -0.01887903078848431,
          -0.021454655426209467,
          -0.012935426740310044,
          -0.023615234335543595,
          -0.021733971753240516,
          -0.014323233189490001,
          -0.01712735177708924,
          -0.027790200257439897,
          -0.029342049588111388,
          -0.02399986120621042,
          -0.030205990521323806,
          -0.011908095821301335,
          -0.044990153604296,
          -0.02794168922537247,
          -0.022054140324228973,
          -0.005437214999526316,
          -0.007731016855043817,
          -0.008479602260316587,
          -0.011398500521795805,
          -0.03174214659202071,
          -0.026302008509494743,
          -0.015337775236493552,
          -0.022729791852436867,
          -0.000409942869167715,
          -0.012816906546046669,
          0.0005808386549570352,
          -0.006775499682526266,
          -0.022771820041497463,
          0.017427557088068115,
          0.00012172880775899836,
          0.004448573488341436,
          0.001436678353395383,
          0.0018151003549666772,
          -0.001762480284616897,
          0.024079230844339418,
          0.051977615296917266,
          0.22033041057258498,
          0.05636260342219471,
          0.00400548344897243,
          0.027487469449893567,
          0.031078598661651868,
          0.04574227819375427,
          -0.011300619252710916,
          -0.010804481522412224,
          -0.0003693840509766019,
          -0.0038198018884295338,
          -0.02485647004199657,
          0.009404877899597099,
          0.0029329579320103603,
          0.004846870456978941,
          0.0019737738475260006,
          0.004907897238945633,
          -0.004524872129938711,
          0.027156276536311627,
          0.027761001216395284,
          0.1948879196025527,
          0.055136114807397135,
          -7.749381983662578e-05,
          0.008505510381736692,
          0.028539547977170534,
          0.055257208350923535,
          0.04212794388583441,
          0.010661586511620531,
          0.009960400910548041,
          -0.021866300155035344,
          0.004012267033674778,
          0.003236429377189727,
          -0.032210864924551275,
          0.013356348105012359,
          0.01780303348826303,
          0.01437742643774625,
          0.020821100948018537,
          0.006341145042454327,
          -0.03847601452720752,
          0.02242931719385504,
          -0.011030679286300409,
          -0.024286371257686377,
          0.1057489466165843,
          0.005334012272516266,
          -0.00832978732298721,
          -0.031052520658611863,
          -0.005205454547401689,
          0.025623375480619503,
          -0.004312152609623002,
          0.020185490700107,
          -0.001863905412981103,
          -0.010285529665714402,
          -0.001124029789921138,
          -0.008318399281300359,
          -0.00043519022034624143,
          -0.03775382150258692,
          -0.03983474977619486,
          -0.004339745694111896,
          -0.01727634260574953,
          -0.0010280092289999502,
          0.02097976968264978,
          0.1020773926361975,
          -0.006572049287343322,
          -0.007998839045227527,
          -0.02968503945525182,
          0.014991373751616228,
          -0.00047000135934461326,
          0.0016389992921279272,
          -0.014273233487728118,
          0.04273161083189325,
          -0.042404435328635234,
          0.0022697334974266276,
          -0.030467112113764915,
          -0.05257719949774645,
          -0.06189483619927625,
          -0.010127878854301733,
          0.27150829086225386,
          0.0006234531328309261,
          0.009260273532981624,
          -0.061065734993506496,
          0.0009488137593997711,
          -0.05632848990661747,
          -0.01462336140995742,
          -0.010179134875978506,
          0.3424876346042818,
          -0.036653792651778073,
          -0.0548061143858426,
          -0.057677807749967745,
          -0.05411661018073155,
          -0.05479394934706885,
          -0.029898896811142377,
          -0.04157209535191175,
          0.0033332988287591895,
          -0.03824058308166076,
          -0.035115349197247354,
          -0.022056370348545733,
          0.01904931829516678,
          -0.0613715094967555,
          0.07794301122997914,
          -0.056265761997506374,
          -0.05620864606622066,
          -0.05742682221596674,
          -0.0563463486096509,
          -0.06398694450981113,
          -0.04488879856587587,
          -0.04040900972245316,
          -0.04818767418310639,
          -0.06654629586513608,
          -0.06563270007514244,
          -0.05182836494947274,
          -0.04679558115692169,
          -0.05105320127026848,
          -0.05355405445724168,
          -0.031129138979207445,
          0.117713386810558,
          -0.056070513938739144,
          -0.048491652530049695,
          -0.057203586345339966,
          -0.05503691659650177,
          -0.055161049449206155,
          -0.054736447472071625,
          -0.03340057236768963,
          -0.07325669613055895,
          -0.05931816179336227,
          -0.041868784764452,
          -0.06667202525379778,
          -0.05557868439086521,
          -0.044296627585188486,
          -0.05422359095509218,
          -0.053771357768565016,
          -0.041158012222428694,
          -0.06645547571848971,
          0.21146634998842234,
          -0.07387730791394265,
          -0.03794090304350295,
          -0.06204889026367841,
          -0.014037282034909754,
          -0.049885952049452675,
          -0.049150578205162686,
          -0.06147523875061959,
          -0.04719689857534698,
          -0.053121670501090845,
          -0.043378882100505514,
          -0.0461468876860196,
          -0.06626981389307487,
          -0.0267451148144604,
          -0.051421827573559585,
          -0.055514157127848525,
          0.2857220000057922,
          0.01590634800776706,
          -0.02267444992681277,
          -0.05087518578907886,
          -0.0669573328365117,
          -0.040963275096836525,
          -0.047455882993340866,
          -0.04121405576923662,
          -0.06167942214664314,
          -0.0675339088047003,
          -0.04306870707065559,
          -0.03416810812755975,
          -0.073062266460706,
          -0.007433228173573396,
          -0.06535662190475904,
          -0.02709018054259483,
          -0.07384354123079881,
          -0.05670489278329917,
          -0.060248513080957904,
          -0.059385237734276515,
          -0.03639990120085932,
          -0.04646977197418998,
          -0.02992189391602786,
          -0.04278959892348719,
          -0.03642369894610171,
          -0.06027200902659755,
          -0.03743228461374832,
          0,
          0,
          0,
          0,
          -0.00023769771687300235,
          0,
          0,
          0,
          -1.2652597652539612e-05,
          -0.00016372384482322294,
          -0.00728492367632023,
          -0.0026517049149835494,
          -0.0012350647716456355,
          -2.844129762960093e-06,
          -0.0005802182453838774,
          -0.0009556717865652463,
          -0.004294561650311432,
          -0.002330081642058366,
          -0.0031525618964009113,
          -0.0002103836315529021,
          0,
          0,
          -1.0635647985654642e-06,
          -0.00021697311751121346,
          -0.007471812536215498,
          -0.0027191624131654556,
          0.003025634014933939,
          -0.002712410881575179,
          -0.0025812000932985742,
          -0.007809401195528923,
          -0.021989662786509538,
          -0.015440801613858522,
          -0.028405908173462644,
          -0.01735395019377772,
          -0.014404112368221604,
          -0.01025644540522051,
          -0.018356077806876762,
          0,
          0,
          0,
          0,
          0,
          0,
          9.405822386790905e-05,
          0,
          -2.3652716608696605e-08,
          -0.014825656831815552,
          -0.014035096320516026,
          -1.1594153720051945e-10,
          -0.003244243819688633,
          -4.825169426236706e-06,
          -0.007541962744434023,
          0,
          -0.014384462971815927,
          -7.378229335393498e-05,
          -0.0017465923329355517,
          0,
          -0.0020490405126345913,
          -0.00043115329817452157,
          0,
          0,
          -0.0015191624757959889,
          -0.01492139666808681,
          -0.02628639675396969,
          -0.03035960702614681,
          -0.0014445741745376082,
          -0.015247082421037388,
          -0.0004252700567384229,
          -0.0018166179698719481,
          -0.004804005548445383,
          -0.0015941824129709614,
          -0.00019718794721883162,
          -0.017363808915052015,
          0,
          0,
          -0.00016342085256000618,
          -0.00055318437278408,
          -0.007368648625200629,
          -0.015208420249162198,
          -0.01565706197246255,
          0.005311093274221965,
          0.020181290836361495,
          0.03178182390190477,
          0.046476520512835885,
          0.08686531505919245,
          0.08901288285352774,
          -0.0220888380316518,
          -0.015307610445930875,
          -0.002482099272149909,
          -0.032025166076553174,
          -0.044711252640456035,
          -0.05648716530028071,
          0.1107738805682661,
          0.09550118308532592,
          -0.07868750906657491,
          -0.07565927219469001,
          -0.027006044857585877,
          -0.01915839486373898,
          -0.017358850156962386,
          -0.02273157872749119,
          -0.05708298490203503,
          -0.05524092659008964,
          -0.08481350721462035,
          -0.019673036201720544,
          -0.016714145111067103,
          -0.03410901851346957,
          -0.01915533645452231,
          -0.001086672459022392,
          -0.045570088466457014,
          -0.06917720696790051,
          -0.0547359422812995,
          -0.06843390727702288,
          0.007958416744057145,
          -0.00831672496656657,
          -0.004119377765967676,
          -0.015809169032749454,
          -0.008262629681680102,
          0.046890741318278625,
          0.13496809475630586,
          0.14090910956891878,
          -0.02591681395556954,
          -0.028192009466546934,
          -0.02467942867161219,
          -0.0014857010939488193,
          -0.014697865688870377,
          0.023755569914049608,
          0.04538903708208268,
          0.029034918835159372,
          -0.011147200312776447,
          -0.008079803181242448,
          0.06294977373312075,
          -0.015473284581762501,
          -0.01280986139612639,
          -0.030587729767420028,
          -0.02768196400224503,
          -0.013679867653256406,
          0.036892716060852176,
          0.046146325897577986,
          0.061928624929780476,
          0.03915574599376648,
          -0.036148759699536036,
          -0.04590975749255617,
          0.006488386294844379,
          -0.06688858920287404,
          0.014168703046867038,
          0.008244621331919893,
          -0.058162711151401536,
          0.03899770824865753,
          -0.0008513375058072417,
          -0.0218811744989069,
          0.05030893967620957,
          0.07810404032296916,
          0.05935715322147568,
          0.005186805265359004,
          -0.06192835393448411,
          -0.025122051668986244,
          -0.1826927048095991,
          -0.18332256044384473
         ],
         "y": [
          0.008928979033591031,
          -0.004858070458970548,
          0.008582771001115819,
          -0.009871703308630589,
          0.019266216476270692,
          -0.011235230095135496,
          0.008485105305411078,
          -0.00997328962159827,
          0.00949256553851386,
          -0.011791907962807303,
          0.0003194918067974961,
          -0.0006792196223547298,
          0.0015401785713734717,
          0.0012026203206301038,
          0.0166454821855726,
          -0.012982408755898015,
          0.00968998446490476,
          -0.013402914027070818,
          0.014683851365383983,
          -0.007391643073280126,
          0.013930635511878339,
          -0.005144817798113309,
          0.008038609144200062,
          -0.007916998368271668,
          0.012737678296694407,
          -0.011558119623580217,
          0.011963515478809035,
          -0.007852210159165908,
          0.015171604316827122,
          -0.01289106521423206,
          0.007254440930006275,
          -0.015885913706844244,
          0.01785598669547229,
          -0.017926402066848087,
          0.0013177889823765578,
          -0.0006307213300639748,
          0.00636003355129084,
          -0.006280788109785065,
          0.018109368819234025,
          -0.012895331904380136,
          0.016057756408743788,
          -0.014066672447471442,
          0.0032804163126907357,
          -0.002415052091150021,
          0.0012159282811865949,
          0.0085135199775557,
          0.00036589171671294027,
          0.004795285229536481,
          0.0010750445259159428,
          0.00022065037225472482,
          0.0024830428015845374,
          0.0020374713428326263,
          0.0029395297162882303,
          0.002994893707271964,
          0.007961884813784285,
          0.001525531775881972,
          0.006614924583834008,
          0.0025093915265602677,
          0.00499491163424948,
          0.0024001445841797483,
          0.005153447440995638,
          -0.016155352724464216,
          0.00012238088836888638,
          -0.00041163219186605944,
          -0.003788079389328836,
          0.003320945472056832,
          0.0013773538168207024,
          -0.003965733794341978,
          -0.00699187537562042,
          -0.0019958526092240182,
          -0.002348321537750587,
          -0.004045219508419452,
          -0.004760663186681261,
          -0.004091917873479541,
          -0.0013417943437942239,
          -0.0054427019092082975,
          -0.0001479220761835431,
          -0.0010835265526721795,
          -0.0033756478511955254,
          -0.007548845540092999,
          -0.0060942072563244,
          -0.0022729069745444632,
          -0.0017407856635968516,
          -0.00668769622109915,
          0.12103930761897536,
          0.09113162117748065,
          0.07587404830988234,
          0.11663009113874559,
          0.12044080553272059,
          0.1118445190026358,
          0.09607485209951486,
          0.11806937065554551,
          0.07169961306121082,
          0.09870801784485549,
          0.10451915650717106,
          0.10042309484144984,
          0.1296727516014397,
          0.07055094631623816,
          0.08530807297009509,
          0.058949799432102594,
          0.09922206444861219,
          -0.08913880661226392,
          -0.11697561053066133,
          -0.09357173519160868,
          -0.08027911268300048,
          -0.07322300928029503,
          -0.08719179290961422,
          -0.08799942209544141,
          -0.08712812242440864,
          -0.07422490038768431,
          -0.05566882800776412,
          -0.09265347275083603,
          -0.08457671612016739,
          -0.10115240483963416,
          -0.08626325850985478,
          -0.10609403726985613,
          -0.05796258834938485,
          -0.08790044380177033,
          -0.06267100309876428,
          -0.08858615139814131,
          0.09014168990357821,
          0.09394954268765614,
          0.0798957441934158,
          0.1155206214348247,
          0.01215136184854926,
          0.10097000943307,
          0.07945183315725608,
          0.018768614022257536,
          0.052099981261831074,
          0.07875565763131387,
          0.14832211020355962,
          -0.09579915561592756,
          -0.1085150511573453,
          -0.022152750948268678,
          -0.09648908599705197,
          -0.07143595904680808,
          -0.08928943045702982,
          -0.09624927073898373,
          -0.14202276266774727,
          0.01019648165951207,
          0.012896874614107394,
          0.037878821275274505,
          0.02434868199667171,
          0.03548808590939243,
          0.06856836029313393,
          0.017589952784905712,
          0.08302096678405922,
          0.057176678913546615,
          0.052592219587024765,
          0.09162978298668582,
          0.09706154139445163,
          0.035731435095186705,
          0.11620345950535695,
          -0.031858067308344735,
          -0.03681750702454323,
          -0.018553607920673343,
          -0.043313084477629694,
          -0.031899843539242176,
          -0.06397842844930238,
          -0.007840084969214801,
          -0.013439422186888265,
          -0.028046856818399003,
          -0.04609934307865549,
          -0.009299824180755865,
          -0.032874262366389656,
          -0.04413270850038428,
          -0.03832657948212099,
          -0.007038889435127675,
          -0.10851272306940439,
          0.026805447572936722,
          0.008552507248871086,
          0.0368202752568002,
          0.03339679530401218,
          0.025550159087735936,
          0.021555183112898738,
          0.05104984039236783,
          0.05353095179939512,
          0.0360381044312464,
          0.03472122292652133,
          0.048823331471596385,
          0.03747359597653043,
          0.010780157658029619,
          0.026217520247210437,
          0.03400681117728779,
          0.056317941616635406,
          0.045405813744146276,
          0.1537260760210111,
          -0.026098273922192834,
          -0.005160983059300805,
          -0.02449546092967785,
          -0.0022477411341901106,
          -0.03538425208584945,
          -0.033185381560385536,
          -0.02290535312519009,
          -0.055604993251516056,
          -0.010158380374688851,
          -0.037055214119481795,
          -0.009648571531019416,
          -0.019669521925691366,
          -0.08577519380582828,
          -0.019092926068563165,
          -0.0520419642441748,
          -0.124611459263392,
          -0.06851135192854711,
          0.004915552507293908,
          0.014663577206567274,
          0.04370173141731944,
          0.042277684631477026,
          0.04151411688212457,
          0.019286687253155778,
          0.022111322801382612,
          0.035820671389806845,
          -0.012635249399309503,
          -0.004492549976536835,
          -0.03336856280818745,
          -0.0608204912215739,
          -0.049262730070698965,
          -0.009252446339462525,
          -0.03636908536868361,
          -0.016920923418585518,
          -0.028843440976060987,
          -0.02166566614429335,
          0.00715342629972209,
          0.007654780562908312,
          0.006978743964402278,
          0.014606809762766366,
          0.010155301497282946,
          -0.04079868462547936,
          -0.04349899409525668,
          0,
          0,
          0,
          0,
          1.855975408691211e-05,
          0,
          0,
          0,
          6.665834695188731e-07,
          0.00011078300857137374,
          0.0017663349265585864,
          0.0001421147400080628,
          0.0007228481554326815,
          1.460685895451667e-07,
          6.7309764184808e-05,
          0.00012777648005004653,
          0.0012351762308917841,
          0.00043883736736120425,
          0.0013177586187496017,
          9.773367698015945e-05,
          0,
          0,
          2.0543367683795297e-07,
          9.46657483763598e-05,
          0.0010122408445022693,
          0.0012776572094616396,
          0.002177950325693864,
          0.000585058419144963,
          0.0003071678605407004,
          0.0015722016261131406,
          0.005747810699927018,
          0.0024903095414966704,
          0.0051939202713980484,
          0.0028144498181135206,
          0.0026802568008308485,
          0.002599473895674726,
          0.003023739061476505,
          0,
          0,
          0,
          0,
          0,
          0,
          -0.00018781583377666262,
          0,
          -5.085162235868651e-10,
          -0.0029473183224591683,
          -0.001183545308436608,
          -1.1035285658612028e-12,
          -0.00041360371592410046,
          -2.34327900402478e-07,
          -0.00048592867793194675,
          0,
          -0.0024338548120405984,
          -6.5910359157656644e-06,
          -0.0006430694596379343,
          0,
          -0.00021152825463520325,
          -4.4260358034784545e-05,
          0,
          0,
          -0.00017140446940647482,
          -0.0017614370275114517,
          -0.005173947863388593,
          -0.004485151338049254,
          -0.000297429717665206,
          -0.0030173965875597932,
          -2.738805200418385e-05,
          -0.0001611226650860072,
          -0.0007835613580541383,
          -0.0002698200329753658,
          -1.4203943011314184e-05,
          -0.002162348748525368,
          0,
          0,
          -2.2424541917059594e-05,
          -6.371960869775399e-05,
          -0.0017710166264038193,
          0.00765574577065704,
          -0.010667484849000288,
          -0.01839556441197383,
          0.01918551520913479,
          -0.04137151118752652,
          0.04915400847393755,
          -0.00406623332103473,
          0.005256615473581822,
          0.018225792792415013,
          0.0028269934774981667,
          0.027605767418003285,
          -0.021493643617809706,
          0.07211019884277374,
          -0.07631370174641461,
          0.024458059097854812,
          -0.018513045459406283,
          0.01510136657343202,
          -0.002079352665762643,
          -0.06658952717252492,
          0.08202052534787993,
          -0.022893808151976173,
          0.008838955678610863,
          0.00844640748649486,
          0.0029003128354012486,
          0.045129358170787254,
          -0.050523521171179184,
          -0.004418036136343533,
          0.02727355080618901,
          -0.036785545981284445,
          0.04110930279391064,
          0.03750351973421145,
          -0.03287547971751459,
          0.0690691745721361,
          -0.03479129290663026,
          0.0757154865661548,
          -0.07245786464972033,
          0.0703545935619321,
          -0.06816386806116055,
          -0.04600395600767368,
          0.044239907425677565,
          0.24617908174753475,
          -0.24667369352926827,
          0.07552847635664224,
          -0.06585906628769467,
          -0.02597133530716657,
          0.02780440465443363,
          -0.010282769366116447,
          0.0450732496708995,
          0.12723155962147284,
          -0.10149688704470314,
          0.02665954065859404,
          -0.03009659639304054,
          -0.03949377683824613,
          0.018176776856540112,
          0.12267681164916365,
          -0.08658702009158506,
          0.10650227879701987,
          -0.0958031441600965,
          0.03477559883082479,
          -0.026030149461211148,
          0.05237122309152231,
          -0.031087147423015746,
          -0.013247057169613514,
          0.056692185466094454,
          -0.011626493544860901,
          0.06406094636796945,
          -0.0630639502569902,
          0.10938075051636788,
          -0.0010998743081474065,
          0.05361435858638773,
          0.007214123451188259,
          0.0215647432119609,
          -0.005229161877298454,
          0.055482749344356416,
          -0.03266595238177182,
          0.04701003265476473,
          -0.01223806495374332,
          0.02737973957976485,
          -0.07759332544046145,
          0.07018010617511784
         ],
         "z": [
          0.007040410053005245,
          0.005148982678950059,
          0.005839536996687711,
          0.008589638469760297,
          0.01562165584260966,
          0.012378304661298634,
          0.006644342909830889,
          0.010043703308709153,
          0.006581482651944776,
          0.011022394827171956,
          0.0015449733260087166,
          0.0013529518257323235,
          0.01012370975830312,
          0.009644026327649258,
          0.010979404935734087,
          0.010817675502747167,
          0.007312210236050087,
          0.012049618879323638,
          0.011231470496357197,
          0.00721683552395131,
          0.01161004078366243,
          0.00526752155327374,
          0.007011613096692829,
          0.00817342483342601,
          0.009104976236386949,
          0.010252382730890679,
          0.009543172341091291,
          0.008387663590117925,
          0.01130254997598861,
          0.013970147713557726,
          0.005217008396174249,
          0.016839910518360906,
          0.013366573156893975,
          0.01569198110046372,
          0.0012355640185926677,
          0.0012884804896568201,
          0.004998412154906556,
          0.005434618239521705,
          0.013398728764128644,
          0.013040118058473497,
          0.010921024864624162,
          0.012529365480783048,
          0.0023799538771482887,
          0.008007023408542143,
          0.002919240793847897,
          0.006079608015667187,
          0.01717228582487514,
          0.005029681412165423,
          0.0011731909136435538,
          0.01013587930095328,
          0.0014988274597386826,
          0.0013798614594731878,
          0.001957085243929335,
          0.0018905112686424406,
          0.0051698826634298594,
          0.023149532463436862,
          0.00495065111291923,
          0.0016148683616209192,
          0.003195661552085165,
          0.002175074775487237,
          0.0041161214335379,
          0.014059757664390913,
          0.005696048570471034,
          0.004806294996864223,
          0.0034730261650648326,
          0.01647676682396855,
          0.0036256069547602947,
          0.0049981002869826045,
          0.010448161983301153,
          0.0015653490984531252,
          0.00205276121689667,
          0.0033856750755866176,
          0.0036349978796951267,
          0.0031253250859149856,
          0.019039751626306684,
          0.004870893804467006,
          9.702277634897719e-05,
          0.0011875704157179262,
          0.0028209651658728436,
          0.006093888252485677,
          0.00469385794879412,
          0.0018027041507826108,
          0.0018041081205270482,
          0.005580591222630683,
          0.09718307440683999,
          0.06944675893131924,
          0.06768823838642787,
          0.09280838594915909,
          0.09872061923308773,
          0.09107198705397165,
          0.07796322889714657,
          0.09900130914368102,
          0.06307988838321643,
          0.07722876325151593,
          0.09190238346450073,
          0.08183200567492833,
          0.10203349602223763,
          0.06073126915400159,
          0.06909920697827703,
          0.04860714842269483,
          0.08278739593551111,
          0.10029654821581033,
          0.12020512418411632,
          0.0957183417128026,
          0.08870605232486238,
          0.08234053105019729,
          0.0968671917544608,
          0.09171304254488842,
          0.09390617549245904,
          0.08022235191038017,
          0.05778680053062553,
          0.09849565337978622,
          0.0888107611933352,
          0.10793933141370818,
          0.0979385552862205,
          0.11117808552592093,
          0.0648392184107296,
          0.08864448178398442,
          0.06764659551136219,
          0.10773550493861882,
          0.07308348224126407,
          0.07729346082201732,
          0.06491068446604792,
          0.08563499017410614,
          0.012403281728321502,
          0.08522897578699251,
          0.06755302413976567,
          0.02008612815745461,
          0.04888756962714549,
          0.0646818441354388,
          0.10916526234693456,
          0.09829412249782651,
          0.11430635122856155,
          0.027238266645948344,
          0.10327049266363622,
          0.07802397556239415,
          0.09761433792773934,
          0.1020258814210185,
          0.13475792153505559,
          0.009724452667311154,
          0.0152914219810253,
          0.03744916050599359,
          0.024238718716806947,
          0.035298444371844186,
          0.05673050134078585,
          0.01820481028795278,
          0.06907206111560081,
          0.046896733968109915,
          0.044143051895163564,
          0.0813292313485266,
          0.07738519571017899,
          0.03293653816072068,
          0.09650239226295876,
          0.037170832611350846,
          0.04507980168208441,
          0.02280708029930589,
          0.048590306245408194,
          0.039036857552187734,
          0.060358187043808846,
          0.011216426085660296,
          0.017473866057368316,
          0.03154851803044205,
          0.0526154128143416,
          0.014226202119498243,
          0.03906750189001397,
          0.04957651851526519,
          0.041529654193121955,
          0.008378591043354977,
          0.11314167461029584,
          0.027533385866959224,
          0.01057226947881552,
          0.034107001620170614,
          0.03151500764258842,
          0.027221447878008585,
          0.021451181045874682,
          0.0446989455490188,
          0.048955838059041634,
          0.035232203217211815,
          0.030951842283849975,
          0.04647751567982681,
          0.034720202955855275,
          0.012360191591291193,
          0.028687860141990137,
          0.0322788668008446,
          0.04952097167345604,
          0.04001749377531697,
          0.1088754303185223,
          0.035815167841710405,
          0.008674128257603698,
          0.029938449642222923,
          0.0040584391048304564,
          0.041049679893663565,
          0.03729777004671081,
          0.027530479373293743,
          0.061954268805190955,
          0.01590186169481389,
          0.040141076870379384,
          0.01430157069853031,
          0.026437165169913252,
          0.08807948759629758,
          0.023368844819327213,
          0.05619760105299572,
          0.11559418025318445,
          0.07319254532066967,
          0.004608634916161296,
          0.013819841637406847,
          0.03877743560543708,
          0.03977299768847377,
          0.03680147386941188,
          0.019954699527522282,
          0.021758925442059485,
          0.03424969467967195,
          0.01340790979228711,
          0.007854470306687102,
          0.04128726789900966,
          0.059386437239179315,
          0.05386413367230271,
          0.010616585099221955,
          0.04138701536692501,
          0.02128175448906594,
          0.03375017322480285,
          0.026709645245340637,
          0.010064369785973073,
          0.009874831772088482,
          0.008643926912116507,
          0.014412237229221813,
          0.009966784416611245,
          0.046792881302856935,
          0.048011239638608,
          0,
          0,
          0,
          0,
          1.8028991839186205e-05,
          0,
          0,
          0,
          4.2634515594562134e-07,
          7.622553758568462e-05,
          0.0013191749704021113,
          0.000444312090848083,
          0.0004941829487443793,
          9.904570386889967e-08,
          5.808077796927586e-05,
          0.00010515674900702748,
          0.0009258299872591881,
          0.00034704798677995155,
          0.0009443084969254162,
          7.139692019050343e-05,
          0,
          0,
          1.1843823537813053e-07,
          6.94526323036583e-05,
          0.0011342201690720535,
          0.0008960911920116773,
          0.0013030681523518019,
          0.00045895717230312583,
          0.00025001042320333577,
          0.0015182023978129136,
          0.004741291906156013,
          0.003312804218942381,
          0.006082488502484883,
          0.0031682843132540147,
          0.002754104237089971,
          0.0025234681824555408,
          0.003876376857283153,
          0,
          0,
          0,
          0,
          0,
          0,
          0.00016749563967194343,
          0,
          3.366942179326547e-10,
          0.004034011917214506,
          0.0030784830698476983,
          5.741678567464779e-13,
          0.00042098457024521835,
          1.9743819754516684e-07,
          0.0011401304745439305,
          0,
          0.0029483986621412946,
          4.942651476092441e-06,
          0.0005653408605149779,
          0,
          0.00022549881930916294,
          4.622685221703906e-05,
          0,
          0,
          0.00017061071587806803,
          0.0029978209352637016,
          0.006539975275364363,
          0.007482828957116656,
          0.0002813209724012125,
          0.004051797672882472,
          3.2874908880373277e-05,
          0.0001694639282271913,
          0.0008101032365472529,
          0.0002648376523918714,
          1.668808053801942e-05,
          0.003346350732417441,
          0,
          0,
          1.996577978768636e-05,
          6.955132208248445e-05,
          0.001667503714315834,
          0.016353408056946725,
          0.020700306173288024,
          0.01651930306311948,
          0.015706534251133993,
          0.03347063851262249,
          0.02997406253562216,
          0.06658078682743887,
          0.06596869146278303,
          0.07901416967885513,
          0.08527835493887717,
          0.04924859013831107,
          0.050532822519980744,
          0.049439938095293755,
          0.06764814221624842,
          0.06980387534104258,
          0.06762421098005618,
          0.06278023246143523,
          0.07661171183823737,
          0.055872468693349345,
          0.053753839067334344,
          0.018735994739745448,
          0.03288894174446042,
          0.0882837885104452,
          0.09661083624908946,
          0.09980107719241134,
          0.10384707758048746,
          0.09592924006751272,
          0.10772245909245909,
          0.03364159025956189,
          0.02725546086687182,
          0.03669272722748936,
          0.04741394163894277,
          0.06294906647344665,
          0.05484161134180451,
          0.048283069586984965,
          0.060069142979198575,
          0.04512820857964523,
          0.056894525567137824,
          0.043758755850438265,
          0.03248940258435668,
          0.1710216329694941,
          0.21839097192770796,
          0.07178150434793806,
          0.08937060700485319,
          0.02437864575270158,
          0.02205126206008801,
          0.03385683576443899,
          0.03825254981644518,
          0.09414420961238489,
          0.09452250156744528,
          0.0341156995292309,
          0.03633200039597847,
          0.03587941595093758,
          0.01927027647716371,
          0.08783748783151947,
          0.07962048207255758,
          0.07495819011289377,
          0.08952652894208674,
          0.06958294102048537,
          0.08681042053087311,
          0.08361921708846924,
          0.07957836512280583,
          0.10760499395823163,
          0.0895297182469422,
          0.02123177366021175,
          0.09666319923574489,
          0.09677875492918506,
          0.08398639199424862,
          0.0462548447291826,
          0.042734975378266316,
          0.006065134244819049,
          0.026709662518768038,
          0.03216299157926614,
          0.03668576012829216,
          0.03514317593552078,
          0.039489483362826684,
          0.08382565778597771,
          0.03224957347456313,
          0.1228971242094177,
          0.11051843252707429
         ]
        }
       ],
       "layout": {
        "template": {
         "data": {
          "bar": [
           {
            "error_x": {
             "color": "#2a3f5f"
            },
            "error_y": {
             "color": "#2a3f5f"
            },
            "marker": {
             "line": {
              "color": "#E5ECF6",
              "width": 0.5
             },
             "pattern": {
              "fillmode": "overlay",
              "size": 10,
              "solidity": 0.2
             }
            },
            "type": "bar"
           }
          ],
          "barpolar": [
           {
            "marker": {
             "line": {
              "color": "#E5ECF6",
              "width": 0.5
             },
             "pattern": {
              "fillmode": "overlay",
              "size": 10,
              "solidity": 0.2
             }
            },
            "type": "barpolar"
           }
          ],
          "carpet": [
           {
            "aaxis": {
             "endlinecolor": "#2a3f5f",
             "gridcolor": "white",
             "linecolor": "white",
             "minorgridcolor": "white",
             "startlinecolor": "#2a3f5f"
            },
            "baxis": {
             "endlinecolor": "#2a3f5f",
             "gridcolor": "white",
             "linecolor": "white",
             "minorgridcolor": "white",
             "startlinecolor": "#2a3f5f"
            },
            "type": "carpet"
           }
          ],
          "choropleth": [
           {
            "colorbar": {
             "outlinewidth": 0,
             "ticks": ""
            },
            "type": "choropleth"
           }
          ],
          "contour": [
           {
            "colorbar": {
             "outlinewidth": 0,
             "ticks": ""
            },
            "colorscale": [
             [
              0,
              "#0d0887"
             ],
             [
              0.1111111111111111,
              "#46039f"
             ],
             [
              0.2222222222222222,
              "#7201a8"
             ],
             [
              0.3333333333333333,
              "#9c179e"
             ],
             [
              0.4444444444444444,
              "#bd3786"
             ],
             [
              0.5555555555555556,
              "#d8576b"
             ],
             [
              0.6666666666666666,
              "#ed7953"
             ],
             [
              0.7777777777777778,
              "#fb9f3a"
             ],
             [
              0.8888888888888888,
              "#fdca26"
             ],
             [
              1,
              "#f0f921"
             ]
            ],
            "type": "contour"
           }
          ],
          "contourcarpet": [
           {
            "colorbar": {
             "outlinewidth": 0,
             "ticks": ""
            },
            "type": "contourcarpet"
           }
          ],
          "heatmap": [
           {
            "colorbar": {
             "outlinewidth": 0,
             "ticks": ""
            },
            "colorscale": [
             [
              0,
              "#0d0887"
             ],
             [
              0.1111111111111111,
              "#46039f"
             ],
             [
              0.2222222222222222,
              "#7201a8"
             ],
             [
              0.3333333333333333,
              "#9c179e"
             ],
             [
              0.4444444444444444,
              "#bd3786"
             ],
             [
              0.5555555555555556,
              "#d8576b"
             ],
             [
              0.6666666666666666,
              "#ed7953"
             ],
             [
              0.7777777777777778,
              "#fb9f3a"
             ],
             [
              0.8888888888888888,
              "#fdca26"
             ],
             [
              1,
              "#f0f921"
             ]
            ],
            "type": "heatmap"
           }
          ],
          "heatmapgl": [
           {
            "colorbar": {
             "outlinewidth": 0,
             "ticks": ""
            },
            "colorscale": [
             [
              0,
              "#0d0887"
             ],
             [
              0.1111111111111111,
              "#46039f"
             ],
             [
              0.2222222222222222,
              "#7201a8"
             ],
             [
              0.3333333333333333,
              "#9c179e"
             ],
             [
              0.4444444444444444,
              "#bd3786"
             ],
             [
              0.5555555555555556,
              "#d8576b"
             ],
             [
              0.6666666666666666,
              "#ed7953"
             ],
             [
              0.7777777777777778,
              "#fb9f3a"
             ],
             [
              0.8888888888888888,
              "#fdca26"
             ],
             [
              1,
              "#f0f921"
             ]
            ],
            "type": "heatmapgl"
           }
          ],
          "histogram": [
           {
            "marker": {
             "pattern": {
              "fillmode": "overlay",
              "size": 10,
              "solidity": 0.2
             }
            },
            "type": "histogram"
           }
          ],
          "histogram2d": [
           {
            "colorbar": {
             "outlinewidth": 0,
             "ticks": ""
            },
            "colorscale": [
             [
              0,
              "#0d0887"
             ],
             [
              0.1111111111111111,
              "#46039f"
             ],
             [
              0.2222222222222222,
              "#7201a8"
             ],
             [
              0.3333333333333333,
              "#9c179e"
             ],
             [
              0.4444444444444444,
              "#bd3786"
             ],
             [
              0.5555555555555556,
              "#d8576b"
             ],
             [
              0.6666666666666666,
              "#ed7953"
             ],
             [
              0.7777777777777778,
              "#fb9f3a"
             ],
             [
              0.8888888888888888,
              "#fdca26"
             ],
             [
              1,
              "#f0f921"
             ]
            ],
            "type": "histogram2d"
           }
          ],
          "histogram2dcontour": [
           {
            "colorbar": {
             "outlinewidth": 0,
             "ticks": ""
            },
            "colorscale": [
             [
              0,
              "#0d0887"
             ],
             [
              0.1111111111111111,
              "#46039f"
             ],
             [
              0.2222222222222222,
              "#7201a8"
             ],
             [
              0.3333333333333333,
              "#9c179e"
             ],
             [
              0.4444444444444444,
              "#bd3786"
             ],
             [
              0.5555555555555556,
              "#d8576b"
             ],
             [
              0.6666666666666666,
              "#ed7953"
             ],
             [
              0.7777777777777778,
              "#fb9f3a"
             ],
             [
              0.8888888888888888,
              "#fdca26"
             ],
             [
              1,
              "#f0f921"
             ]
            ],
            "type": "histogram2dcontour"
           }
          ],
          "mesh3d": [
           {
            "colorbar": {
             "outlinewidth": 0,
             "ticks": ""
            },
            "type": "mesh3d"
           }
          ],
          "parcoords": [
           {
            "line": {
             "colorbar": {
              "outlinewidth": 0,
              "ticks": ""
             }
            },
            "type": "parcoords"
           }
          ],
          "pie": [
           {
            "automargin": true,
            "type": "pie"
           }
          ],
          "scatter": [
           {
            "fillpattern": {
             "fillmode": "overlay",
             "size": 10,
             "solidity": 0.2
            },
            "type": "scatter"
           }
          ],
          "scatter3d": [
           {
            "line": {
             "colorbar": {
              "outlinewidth": 0,
              "ticks": ""
             }
            },
            "marker": {
             "colorbar": {
              "outlinewidth": 0,
              "ticks": ""
             }
            },
            "type": "scatter3d"
           }
          ],
          "scattercarpet": [
           {
            "marker": {
             "colorbar": {
              "outlinewidth": 0,
              "ticks": ""
             }
            },
            "type": "scattercarpet"
           }
          ],
          "scattergeo": [
           {
            "marker": {
             "colorbar": {
              "outlinewidth": 0,
              "ticks": ""
             }
            },
            "type": "scattergeo"
           }
          ],
          "scattergl": [
           {
            "marker": {
             "colorbar": {
              "outlinewidth": 0,
              "ticks": ""
             }
            },
            "type": "scattergl"
           }
          ],
          "scattermapbox": [
           {
            "marker": {
             "colorbar": {
              "outlinewidth": 0,
              "ticks": ""
             }
            },
            "type": "scattermapbox"
           }
          ],
          "scatterpolar": [
           {
            "marker": {
             "colorbar": {
              "outlinewidth": 0,
              "ticks": ""
             }
            },
            "type": "scatterpolar"
           }
          ],
          "scatterpolargl": [
           {
            "marker": {
             "colorbar": {
              "outlinewidth": 0,
              "ticks": ""
             }
            },
            "type": "scatterpolargl"
           }
          ],
          "scatterternary": [
           {
            "marker": {
             "colorbar": {
              "outlinewidth": 0,
              "ticks": ""
             }
            },
            "type": "scatterternary"
           }
          ],
          "surface": [
           {
            "colorbar": {
             "outlinewidth": 0,
             "ticks": ""
            },
            "colorscale": [
             [
              0,
              "#0d0887"
             ],
             [
              0.1111111111111111,
              "#46039f"
             ],
             [
              0.2222222222222222,
              "#7201a8"
             ],
             [
              0.3333333333333333,
              "#9c179e"
             ],
             [
              0.4444444444444444,
              "#bd3786"
             ],
             [
              0.5555555555555556,
              "#d8576b"
             ],
             [
              0.6666666666666666,
              "#ed7953"
             ],
             [
              0.7777777777777778,
              "#fb9f3a"
             ],
             [
              0.8888888888888888,
              "#fdca26"
             ],
             [
              1,
              "#f0f921"
             ]
            ],
            "type": "surface"
           }
          ],
          "table": [
           {
            "cells": {
             "fill": {
              "color": "#EBF0F8"
             },
             "line": {
              "color": "white"
             }
            },
            "header": {
             "fill": {
              "color": "#C8D4E3"
             },
             "line": {
              "color": "white"
             }
            },
            "type": "table"
           }
          ]
         },
         "layout": {
          "annotationdefaults": {
           "arrowcolor": "#2a3f5f",
           "arrowhead": 0,
           "arrowwidth": 1
          },
          "autotypenumbers": "strict",
          "coloraxis": {
           "colorbar": {
            "outlinewidth": 0,
            "ticks": ""
           }
          },
          "colorscale": {
           "diverging": [
            [
             0,
             "#8e0152"
            ],
            [
             0.1,
             "#c51b7d"
            ],
            [
             0.2,
             "#de77ae"
            ],
            [
             0.3,
             "#f1b6da"
            ],
            [
             0.4,
             "#fde0ef"
            ],
            [
             0.5,
             "#f7f7f7"
            ],
            [
             0.6,
             "#e6f5d0"
            ],
            [
             0.7,
             "#b8e186"
            ],
            [
             0.8,
             "#7fbc41"
            ],
            [
             0.9,
             "#4d9221"
            ],
            [
             1,
             "#276419"
            ]
           ],
           "sequential": [
            [
             0,
             "#0d0887"
            ],
            [
             0.1111111111111111,
             "#46039f"
            ],
            [
             0.2222222222222222,
             "#7201a8"
            ],
            [
             0.3333333333333333,
             "#9c179e"
            ],
            [
             0.4444444444444444,
             "#bd3786"
            ],
            [
             0.5555555555555556,
             "#d8576b"
            ],
            [
             0.6666666666666666,
             "#ed7953"
            ],
            [
             0.7777777777777778,
             "#fb9f3a"
            ],
            [
             0.8888888888888888,
             "#fdca26"
            ],
            [
             1,
             "#f0f921"
            ]
           ],
           "sequentialminus": [
            [
             0,
             "#0d0887"
            ],
            [
             0.1111111111111111,
             "#46039f"
            ],
            [
             0.2222222222222222,
             "#7201a8"
            ],
            [
             0.3333333333333333,
             "#9c179e"
            ],
            [
             0.4444444444444444,
             "#bd3786"
            ],
            [
             0.5555555555555556,
             "#d8576b"
            ],
            [
             0.6666666666666666,
             "#ed7953"
            ],
            [
             0.7777777777777778,
             "#fb9f3a"
            ],
            [
             0.8888888888888888,
             "#fdca26"
            ],
            [
             1,
             "#f0f921"
            ]
           ]
          },
          "colorway": [
           "#636efa",
           "#EF553B",
           "#00cc96",
           "#ab63fa",
           "#FFA15A",
           "#19d3f3",
           "#FF6692",
           "#B6E880",
           "#FF97FF",
           "#FECB52"
          ],
          "font": {
           "color": "#2a3f5f"
          },
          "geo": {
           "bgcolor": "white",
           "lakecolor": "white",
           "landcolor": "#E5ECF6",
           "showlakes": true,
           "showland": true,
           "subunitcolor": "white"
          },
          "hoverlabel": {
           "align": "left"
          },
          "hovermode": "closest",
          "mapbox": {
           "style": "light"
          },
          "paper_bgcolor": "white",
          "plot_bgcolor": "#E5ECF6",
          "polar": {
           "angularaxis": {
            "gridcolor": "white",
            "linecolor": "white",
            "ticks": ""
           },
           "bgcolor": "#E5ECF6",
           "radialaxis": {
            "gridcolor": "white",
            "linecolor": "white",
            "ticks": ""
           }
          },
          "scene": {
           "xaxis": {
            "backgroundcolor": "#E5ECF6",
            "gridcolor": "white",
            "gridwidth": 2,
            "linecolor": "white",
            "showbackground": true,
            "ticks": "",
            "zerolinecolor": "white"
           },
           "yaxis": {
            "backgroundcolor": "#E5ECF6",
            "gridcolor": "white",
            "gridwidth": 2,
            "linecolor": "white",
            "showbackground": true,
            "ticks": "",
            "zerolinecolor": "white"
           },
           "zaxis": {
            "backgroundcolor": "#E5ECF6",
            "gridcolor": "white",
            "gridwidth": 2,
            "linecolor": "white",
            "showbackground": true,
            "ticks": "",
            "zerolinecolor": "white"
           }
          },
          "shapedefaults": {
           "line": {
            "color": "#2a3f5f"
           }
          },
          "ternary": {
           "aaxis": {
            "gridcolor": "white",
            "linecolor": "white",
            "ticks": ""
           },
           "baxis": {
            "gridcolor": "white",
            "linecolor": "white",
            "ticks": ""
           },
           "bgcolor": "#E5ECF6",
           "caxis": {
            "gridcolor": "white",
            "linecolor": "white",
            "ticks": ""
           }
          },
          "title": {
           "x": 0.05
          },
          "xaxis": {
           "automargin": true,
           "gridcolor": "white",
           "linecolor": "white",
           "ticks": "",
           "title": {
            "standoff": 15
           },
           "zerolinecolor": "white",
           "zerolinewidth": 2
          },
          "yaxis": {
           "automargin": true,
           "gridcolor": "white",
           "linecolor": "white",
           "ticks": "",
           "title": {
            "standoff": 15
           },
           "zerolinecolor": "white",
           "zerolinewidth": 2
          }
         }
        }
       }
      },
      "text/html": [
       "<div>                            <div id=\"c577ea7c-dd44-47eb-b214-942f86d6db76\" class=\"plotly-graph-div\" style=\"height:525px; width:100%;\"></div>            <script type=\"text/javascript\">                require([\"plotly\"], function(Plotly) {                    window.PLOTLYENV=window.PLOTLYENV || {};                                    if (document.getElementById(\"c577ea7c-dd44-47eb-b214-942f86d6db76\")) {                    Plotly.newPlot(                        \"c577ea7c-dd44-47eb-b214-942f86d6db76\",                        [{\"mode\":\"markers\",\"x\":[-0.021015153534791626,-0.01758739306638349,-0.01104509878872828,-0.021982749131365636,-0.053555290725185445,-0.04580833467308344,-0.014956429741694699,-0.025273292038884676,-0.013427360325200699,-0.012523276688794271,-0.0061408435734118805,-0.005906302797222152,-0.01403882040552901,-0.011322586102473763,0.015877949839941865,0.006312919541385269,-0.022566551101295712,-0.04035242883563675,-0.0223408441947724,-0.01887903078848431,-0.021454655426209467,-0.012935426740310044,-0.023615234335543595,-0.021733971753240516,-0.014323233189490001,-0.01712735177708924,-0.027790200257439897,-0.029342049588111388,-0.02399986120621042,-0.030205990521323806,-0.011908095821301335,-0.044990153604296,-0.02794168922537247,-0.022054140324228973,-0.005437214999526316,-0.007731016855043817,-0.008479602260316587,-0.011398500521795805,-0.03174214659202071,-0.026302008509494743,-0.015337775236493552,-0.022729791852436867,-0.000409942869167715,-0.012816906546046669,0.0005808386549570352,-0.006775499682526266,-0.022771820041497463,0.017427557088068115,0.00012172880775899836,0.004448573488341436,0.001436678353395383,0.0018151003549666772,-0.001762480284616897,0.024079230844339418,0.051977615296917266,0.22033041057258498,0.05636260342219471,0.00400548344897243,0.027487469449893567,0.031078598661651868,0.04574227819375427,-0.011300619252710916,-0.010804481522412224,-0.0003693840509766019,-0.0038198018884295338,-0.02485647004199657,0.009404877899597099,0.0029329579320103603,0.004846870456978941,0.0019737738475260006,0.004907897238945633,-0.004524872129938711,0.027156276536311627,0.027761001216395284,0.1948879196025527,0.055136114807397135,-7.749381983662578e-05,0.008505510381736692,0.028539547977170534,0.055257208350923535,0.04212794388583441,0.010661586511620531,0.009960400910548041,-0.021866300155035344,0.004012267033674778,0.003236429377189727,-0.032210864924551275,0.013356348105012359,0.01780303348826303,0.01437742643774625,0.020821100948018537,0.006341145042454327,-0.03847601452720752,0.02242931719385504,-0.011030679286300409,-0.024286371257686377,0.1057489466165843,0.005334012272516266,-0.00832978732298721,-0.031052520658611863,-0.005205454547401689,0.025623375480619503,-0.004312152609623002,0.020185490700107,-0.001863905412981103,-0.010285529665714402,-0.001124029789921138,-0.008318399281300359,-0.00043519022034624143,-0.03775382150258692,-0.03983474977619486,-0.004339745694111896,-0.01727634260574953,-0.0010280092289999502,0.02097976968264978,0.1020773926361975,-0.006572049287343322,-0.007998839045227527,-0.02968503945525182,0.014991373751616228,-0.00047000135934461326,0.0016389992921279272,-0.014273233487728118,0.04273161083189325,-0.042404435328635234,0.0022697334974266276,-0.030467112113764915,-0.05257719949774645,-0.06189483619927625,-0.010127878854301733,0.27150829086225386,0.0006234531328309261,0.009260273532981624,-0.061065734993506496,0.0009488137593997711,-0.05632848990661747,-0.01462336140995742,-0.010179134875978506,0.3424876346042818,-0.036653792651778073,-0.0548061143858426,-0.057677807749967745,-0.05411661018073155,-0.05479394934706885,-0.029898896811142377,-0.04157209535191175,0.0033332988287591895,-0.03824058308166076,-0.035115349197247354,-0.022056370348545733,0.01904931829516678,-0.0613715094967555,0.07794301122997914,-0.056265761997506374,-0.05620864606622066,-0.05742682221596674,-0.0563463486096509,-0.06398694450981113,-0.04488879856587587,-0.04040900972245316,-0.04818767418310639,-0.06654629586513608,-0.06563270007514244,-0.05182836494947274,-0.04679558115692169,-0.05105320127026848,-0.05355405445724168,-0.031129138979207445,0.117713386810558,-0.056070513938739144,-0.048491652530049695,-0.057203586345339966,-0.05503691659650177,-0.055161049449206155,-0.054736447472071625,-0.03340057236768963,-0.07325669613055895,-0.05931816179336227,-0.041868784764452,-0.06667202525379778,-0.05557868439086521,-0.044296627585188486,-0.05422359095509218,-0.053771357768565016,-0.041158012222428694,-0.06645547571848971,0.21146634998842234,-0.07387730791394265,-0.03794090304350295,-0.06204889026367841,-0.014037282034909754,-0.049885952049452675,-0.049150578205162686,-0.06147523875061959,-0.04719689857534698,-0.053121670501090845,-0.043378882100505514,-0.0461468876860196,-0.06626981389307487,-0.0267451148144604,-0.051421827573559585,-0.055514157127848525,0.2857220000057922,0.01590634800776706,-0.02267444992681277,-0.05087518578907886,-0.0669573328365117,-0.040963275096836525,-0.047455882993340866,-0.04121405576923662,-0.06167942214664314,-0.0675339088047003,-0.04306870707065559,-0.03416810812755975,-0.073062266460706,-0.007433228173573396,-0.06535662190475904,-0.02709018054259483,-0.07384354123079881,-0.05670489278329917,-0.060248513080957904,-0.059385237734276515,-0.03639990120085932,-0.04646977197418998,-0.02992189391602786,-0.04278959892348719,-0.03642369894610171,-0.06027200902659755,-0.03743228461374832,0.0,0.0,0.0,0.0,-0.00023769771687300235,0.0,0.0,0.0,-1.2652597652539612e-05,-0.00016372384482322294,-0.00728492367632023,-0.0026517049149835494,-0.0012350647716456355,-2.844129762960093e-06,-0.0005802182453838774,-0.0009556717865652463,-0.004294561650311432,-0.002330081642058366,-0.0031525618964009113,-0.0002103836315529021,0.0,0.0,-1.0635647985654642e-06,-0.00021697311751121346,-0.007471812536215498,-0.0027191624131654556,0.003025634014933939,-0.002712410881575179,-0.0025812000932985742,-0.007809401195528923,-0.021989662786509538,-0.015440801613858522,-0.028405908173462644,-0.01735395019377772,-0.014404112368221604,-0.01025644540522051,-0.018356077806876762,0.0,0.0,0.0,0.0,0.0,0.0,9.405822386790905e-05,0.0,-2.3652716608696605e-08,-0.014825656831815552,-0.014035096320516026,-1.1594153720051945e-10,-0.003244243819688633,-4.825169426236706e-06,-0.007541962744434023,0.0,-0.014384462971815927,-7.378229335393498e-05,-0.0017465923329355517,0.0,-0.0020490405126345913,-0.00043115329817452157,0.0,0.0,-0.0015191624757959889,-0.01492139666808681,-0.02628639675396969,-0.03035960702614681,-0.0014445741745376082,-0.015247082421037388,-0.0004252700567384229,-0.0018166179698719481,-0.004804005548445383,-0.0015941824129709614,-0.00019718794721883162,-0.017363808915052015,0.0,0.0,-0.00016342085256000618,-0.00055318437278408,-0.007368648625200629,-0.015208420249162198,-0.01565706197246255,0.005311093274221965,0.020181290836361495,0.03178182390190477,0.046476520512835885,0.08686531505919245,0.08901288285352774,-0.0220888380316518,-0.015307610445930875,-0.002482099272149909,-0.032025166076553174,-0.044711252640456035,-0.05648716530028071,0.1107738805682661,0.09550118308532592,-0.07868750906657491,-0.07565927219469001,-0.027006044857585877,-0.01915839486373898,-0.017358850156962386,-0.02273157872749119,-0.05708298490203503,-0.05524092659008964,-0.08481350721462035,-0.019673036201720544,-0.016714145111067103,-0.03410901851346957,-0.01915533645452231,-0.001086672459022392,-0.045570088466457014,-0.06917720696790051,-0.0547359422812995,-0.06843390727702288,0.007958416744057145,-0.00831672496656657,-0.004119377765967676,-0.015809169032749454,-0.008262629681680102,0.046890741318278625,0.13496809475630586,0.14090910956891878,-0.02591681395556954,-0.028192009466546934,-0.02467942867161219,-0.0014857010939488193,-0.014697865688870377,0.023755569914049608,0.04538903708208268,0.029034918835159372,-0.011147200312776447,-0.008079803181242448,0.06294977373312075,-0.015473284581762501,-0.01280986139612639,-0.030587729767420028,-0.02768196400224503,-0.013679867653256406,0.036892716060852176,0.046146325897577986,0.061928624929780476,0.03915574599376648,-0.036148759699536036,-0.04590975749255617,0.006488386294844379,-0.06688858920287404,0.014168703046867038,0.008244621331919893,-0.058162711151401536,0.03899770824865753,-0.0008513375058072417,-0.0218811744989069,0.05030893967620957,0.07810404032296916,0.05935715322147568,0.005186805265359004,-0.06192835393448411,-0.025122051668986244,-0.1826927048095991,-0.18332256044384473],\"y\":[0.008928979033591031,-0.004858070458970548,0.008582771001115819,-0.009871703308630589,0.019266216476270692,-0.011235230095135496,0.008485105305411078,-0.00997328962159827,0.00949256553851386,-0.011791907962807303,0.0003194918067974961,-0.0006792196223547298,0.0015401785713734717,0.0012026203206301038,0.0166454821855726,-0.012982408755898015,0.00968998446490476,-0.013402914027070818,0.014683851365383983,-0.007391643073280126,0.013930635511878339,-0.005144817798113309,0.008038609144200062,-0.007916998368271668,0.012737678296694407,-0.011558119623580217,0.011963515478809035,-0.007852210159165908,0.015171604316827122,-0.01289106521423206,0.007254440930006275,-0.015885913706844244,0.01785598669547229,-0.017926402066848087,0.0013177889823765578,-0.0006307213300639748,0.00636003355129084,-0.006280788109785065,0.018109368819234025,-0.012895331904380136,0.016057756408743788,-0.014066672447471442,0.0032804163126907357,-0.002415052091150021,0.0012159282811865949,0.0085135199775557,0.00036589171671294027,0.004795285229536481,0.0010750445259159428,0.00022065037225472482,0.0024830428015845374,0.0020374713428326263,0.0029395297162882303,0.002994893707271964,0.007961884813784285,0.001525531775881972,0.006614924583834008,0.0025093915265602677,0.00499491163424948,0.0024001445841797483,0.005153447440995638,-0.016155352724464216,0.00012238088836888638,-0.00041163219186605944,-0.003788079389328836,0.003320945472056832,0.0013773538168207024,-0.003965733794341978,-0.00699187537562042,-0.0019958526092240182,-0.002348321537750587,-0.004045219508419452,-0.004760663186681261,-0.004091917873479541,-0.0013417943437942239,-0.0054427019092082975,-0.0001479220761835431,-0.0010835265526721795,-0.0033756478511955254,-0.007548845540092999,-0.0060942072563244,-0.0022729069745444632,-0.0017407856635968516,-0.00668769622109915,0.12103930761897536,0.09113162117748065,0.07587404830988234,0.11663009113874559,0.12044080553272059,0.1118445190026358,0.09607485209951486,0.11806937065554551,0.07169961306121082,0.09870801784485549,0.10451915650717106,0.10042309484144984,0.1296727516014397,0.07055094631623816,0.08530807297009509,0.058949799432102594,0.09922206444861219,-0.08913880661226392,-0.11697561053066133,-0.09357173519160868,-0.08027911268300048,-0.07322300928029503,-0.08719179290961422,-0.08799942209544141,-0.08712812242440864,-0.07422490038768431,-0.05566882800776412,-0.09265347275083603,-0.08457671612016739,-0.10115240483963416,-0.08626325850985478,-0.10609403726985613,-0.05796258834938485,-0.08790044380177033,-0.06267100309876428,-0.08858615139814131,0.09014168990357821,0.09394954268765614,0.0798957441934158,0.1155206214348247,0.01215136184854926,0.10097000943307,0.07945183315725608,0.018768614022257536,0.052099981261831074,0.07875565763131387,0.14832211020355962,-0.09579915561592756,-0.1085150511573453,-0.022152750948268678,-0.09648908599705197,-0.07143595904680808,-0.08928943045702982,-0.09624927073898373,-0.14202276266774727,0.01019648165951207,0.012896874614107394,0.037878821275274505,0.02434868199667171,0.03548808590939243,0.06856836029313393,0.017589952784905712,0.08302096678405922,0.057176678913546615,0.052592219587024765,0.09162978298668582,0.09706154139445163,0.035731435095186705,0.11620345950535695,-0.031858067308344735,-0.03681750702454323,-0.018553607920673343,-0.043313084477629694,-0.031899843539242176,-0.06397842844930238,-0.007840084969214801,-0.013439422186888265,-0.028046856818399003,-0.04609934307865549,-0.009299824180755865,-0.032874262366389656,-0.04413270850038428,-0.03832657948212099,-0.007038889435127675,-0.10851272306940439,0.026805447572936722,0.008552507248871086,0.0368202752568002,0.03339679530401218,0.025550159087735936,0.021555183112898738,0.05104984039236783,0.05353095179939512,0.0360381044312464,0.03472122292652133,0.048823331471596385,0.03747359597653043,0.010780157658029619,0.026217520247210437,0.03400681117728779,0.056317941616635406,0.045405813744146276,0.1537260760210111,-0.026098273922192834,-0.005160983059300805,-0.02449546092967785,-0.0022477411341901106,-0.03538425208584945,-0.033185381560385536,-0.02290535312519009,-0.055604993251516056,-0.010158380374688851,-0.037055214119481795,-0.009648571531019416,-0.019669521925691366,-0.08577519380582828,-0.019092926068563165,-0.0520419642441748,-0.124611459263392,-0.06851135192854711,0.004915552507293908,0.014663577206567274,0.04370173141731944,0.042277684631477026,0.04151411688212457,0.019286687253155778,0.022111322801382612,0.035820671389806845,-0.012635249399309503,-0.004492549976536835,-0.03336856280818745,-0.0608204912215739,-0.049262730070698965,-0.009252446339462525,-0.03636908536868361,-0.016920923418585518,-0.028843440976060987,-0.02166566614429335,0.00715342629972209,0.007654780562908312,0.006978743964402278,0.014606809762766366,0.010155301497282946,-0.04079868462547936,-0.04349899409525668,0.0,0.0,0.0,0.0,1.855975408691211e-05,0.0,0.0,0.0,6.665834695188731e-07,0.00011078300857137374,0.0017663349265585864,0.0001421147400080628,0.0007228481554326815,1.460685895451667e-07,6.7309764184808e-05,0.00012777648005004653,0.0012351762308917841,0.00043883736736120425,0.0013177586187496017,9.773367698015945e-05,0.0,0.0,2.0543367683795297e-07,9.46657483763598e-05,0.0010122408445022693,0.0012776572094616396,0.002177950325693864,0.000585058419144963,0.0003071678605407004,0.0015722016261131406,0.005747810699927018,0.0024903095414966704,0.0051939202713980484,0.0028144498181135206,0.0026802568008308485,0.002599473895674726,0.003023739061476505,0.0,0.0,0.0,0.0,0.0,0.0,-0.00018781583377666262,0.0,-5.085162235868651e-10,-0.0029473183224591683,-0.001183545308436608,-1.1035285658612028e-12,-0.00041360371592410046,-2.34327900402478e-07,-0.00048592867793194675,0.0,-0.0024338548120405984,-6.5910359157656644e-06,-0.0006430694596379343,0.0,-0.00021152825463520325,-4.4260358034784545e-05,0.0,0.0,-0.00017140446940647482,-0.0017614370275114517,-0.005173947863388593,-0.004485151338049254,-0.000297429717665206,-0.0030173965875597932,-2.738805200418385e-05,-0.0001611226650860072,-0.0007835613580541383,-0.0002698200329753658,-1.4203943011314184e-05,-0.002162348748525368,0.0,0.0,-2.2424541917059594e-05,-6.371960869775399e-05,-0.0017710166264038193,0.00765574577065704,-0.010667484849000288,-0.01839556441197383,0.01918551520913479,-0.04137151118752652,0.04915400847393755,-0.00406623332103473,0.005256615473581822,0.018225792792415013,0.0028269934774981667,0.027605767418003285,-0.021493643617809706,0.07211019884277374,-0.07631370174641461,0.024458059097854812,-0.018513045459406283,0.01510136657343202,-0.002079352665762643,-0.06658952717252492,0.08202052534787993,-0.022893808151976173,0.008838955678610863,0.00844640748649486,0.0029003128354012486,0.045129358170787254,-0.050523521171179184,-0.004418036136343533,0.02727355080618901,-0.036785545981284445,0.04110930279391064,0.03750351973421145,-0.03287547971751459,0.0690691745721361,-0.03479129290663026,0.0757154865661548,-0.07245786464972033,0.0703545935619321,-0.06816386806116055,-0.04600395600767368,0.044239907425677565,0.24617908174753475,-0.24667369352926827,0.07552847635664224,-0.06585906628769467,-0.02597133530716657,0.02780440465443363,-0.010282769366116447,0.0450732496708995,0.12723155962147284,-0.10149688704470314,0.02665954065859404,-0.03009659639304054,-0.03949377683824613,0.018176776856540112,0.12267681164916365,-0.08658702009158506,0.10650227879701987,-0.0958031441600965,0.03477559883082479,-0.026030149461211148,0.05237122309152231,-0.031087147423015746,-0.013247057169613514,0.056692185466094454,-0.011626493544860901,0.06406094636796945,-0.0630639502569902,0.10938075051636788,-0.0010998743081474065,0.05361435858638773,0.007214123451188259,0.0215647432119609,-0.005229161877298454,0.055482749344356416,-0.03266595238177182,0.04701003265476473,-0.01223806495374332,0.02737973957976485,-0.07759332544046145,0.07018010617511784],\"z\":[0.007040410053005245,0.005148982678950059,0.005839536996687711,0.008589638469760297,0.01562165584260966,0.012378304661298634,0.006644342909830889,0.010043703308709153,0.006581482651944776,0.011022394827171956,0.0015449733260087166,0.0013529518257323235,0.01012370975830312,0.009644026327649258,0.010979404935734087,0.010817675502747167,0.007312210236050087,0.012049618879323638,0.011231470496357197,0.00721683552395131,0.01161004078366243,0.00526752155327374,0.007011613096692829,0.00817342483342601,0.009104976236386949,0.010252382730890679,0.009543172341091291,0.008387663590117925,0.01130254997598861,0.013970147713557726,0.005217008396174249,0.016839910518360906,0.013366573156893975,0.01569198110046372,0.0012355640185926677,0.0012884804896568201,0.004998412154906556,0.005434618239521705,0.013398728764128644,0.013040118058473497,0.010921024864624162,0.012529365480783048,0.0023799538771482887,0.008007023408542143,0.002919240793847897,0.006079608015667187,0.01717228582487514,0.005029681412165423,0.0011731909136435538,0.01013587930095328,0.0014988274597386826,0.0013798614594731878,0.001957085243929335,0.0018905112686424406,0.0051698826634298594,0.023149532463436862,0.00495065111291923,0.0016148683616209192,0.003195661552085165,0.002175074775487237,0.0041161214335379,0.014059757664390913,0.005696048570471034,0.004806294996864223,0.0034730261650648326,0.01647676682396855,0.0036256069547602947,0.0049981002869826045,0.010448161983301153,0.0015653490984531252,0.00205276121689667,0.0033856750755866176,0.0036349978796951267,0.0031253250859149856,0.019039751626306684,0.004870893804467006,9.702277634897719e-05,0.0011875704157179262,0.0028209651658728436,0.006093888252485677,0.00469385794879412,0.0018027041507826108,0.0018041081205270482,0.005580591222630683,0.09718307440683999,0.06944675893131924,0.06768823838642787,0.09280838594915909,0.09872061923308773,0.09107198705397165,0.07796322889714657,0.09900130914368102,0.06307988838321643,0.07722876325151593,0.09190238346450073,0.08183200567492833,0.10203349602223763,0.06073126915400159,0.06909920697827703,0.04860714842269483,0.08278739593551111,0.10029654821581033,0.12020512418411632,0.0957183417128026,0.08870605232486238,0.08234053105019729,0.0968671917544608,0.09171304254488842,0.09390617549245904,0.08022235191038017,0.05778680053062553,0.09849565337978622,0.0888107611933352,0.10793933141370818,0.0979385552862205,0.11117808552592093,0.0648392184107296,0.08864448178398442,0.06764659551136219,0.10773550493861882,0.07308348224126407,0.07729346082201732,0.06491068446604792,0.08563499017410614,0.012403281728321502,0.08522897578699251,0.06755302413976567,0.02008612815745461,0.04888756962714549,0.0646818441354388,0.10916526234693456,0.09829412249782651,0.11430635122856155,0.027238266645948344,0.10327049266363622,0.07802397556239415,0.09761433792773934,0.1020258814210185,0.13475792153505559,0.009724452667311154,0.0152914219810253,0.03744916050599359,0.024238718716806947,0.035298444371844186,0.05673050134078585,0.01820481028795278,0.06907206111560081,0.046896733968109915,0.044143051895163564,0.0813292313485266,0.07738519571017899,0.03293653816072068,0.09650239226295876,0.037170832611350846,0.04507980168208441,0.02280708029930589,0.048590306245408194,0.039036857552187734,0.060358187043808846,0.011216426085660296,0.017473866057368316,0.03154851803044205,0.0526154128143416,0.014226202119498243,0.03906750189001397,0.04957651851526519,0.041529654193121955,0.008378591043354977,0.11314167461029584,0.027533385866959224,0.01057226947881552,0.034107001620170614,0.03151500764258842,0.027221447878008585,0.021451181045874682,0.0446989455490188,0.048955838059041634,0.035232203217211815,0.030951842283849975,0.04647751567982681,0.034720202955855275,0.012360191591291193,0.028687860141990137,0.0322788668008446,0.04952097167345604,0.04001749377531697,0.1088754303185223,0.035815167841710405,0.008674128257603698,0.029938449642222923,0.0040584391048304564,0.041049679893663565,0.03729777004671081,0.027530479373293743,0.061954268805190955,0.01590186169481389,0.040141076870379384,0.01430157069853031,0.026437165169913252,0.08807948759629758,0.023368844819327213,0.05619760105299572,0.11559418025318445,0.07319254532066967,0.004608634916161296,0.013819841637406847,0.03877743560543708,0.03977299768847377,0.03680147386941188,0.019954699527522282,0.021758925442059485,0.03424969467967195,0.01340790979228711,0.007854470306687102,0.04128726789900966,0.059386437239179315,0.05386413367230271,0.010616585099221955,0.04138701536692501,0.02128175448906594,0.03375017322480285,0.026709645245340637,0.010064369785973073,0.009874831772088482,0.008643926912116507,0.014412237229221813,0.009966784416611245,0.046792881302856935,0.048011239638608,0.0,0.0,0.0,0.0,1.8028991839186205e-05,0.0,0.0,0.0,4.2634515594562134e-07,7.622553758568462e-05,0.0013191749704021113,0.000444312090848083,0.0004941829487443793,9.904570386889967e-08,5.808077796927586e-05,0.00010515674900702748,0.0009258299872591881,0.00034704798677995155,0.0009443084969254162,7.139692019050343e-05,0.0,0.0,1.1843823537813053e-07,6.94526323036583e-05,0.0011342201690720535,0.0008960911920116773,0.0013030681523518019,0.00045895717230312583,0.00025001042320333577,0.0015182023978129136,0.004741291906156013,0.003312804218942381,0.006082488502484883,0.0031682843132540147,0.002754104237089971,0.0025234681824555408,0.003876376857283153,0.0,0.0,0.0,0.0,0.0,0.0,0.00016749563967194343,0.0,3.366942179326547e-10,0.004034011917214506,0.0030784830698476983,5.741678567464779e-13,0.00042098457024521835,1.9743819754516684e-07,0.0011401304745439305,0.0,0.0029483986621412946,4.942651476092441e-06,0.0005653408605149779,0.0,0.00022549881930916294,4.622685221703906e-05,0.0,0.0,0.00017061071587806803,0.0029978209352637016,0.006539975275364363,0.007482828957116656,0.0002813209724012125,0.004051797672882472,3.2874908880373277e-05,0.0001694639282271913,0.0008101032365472529,0.0002648376523918714,1.668808053801942e-05,0.003346350732417441,0.0,0.0,1.996577978768636e-05,6.955132208248445e-05,0.001667503714315834,0.016353408056946725,0.020700306173288024,0.01651930306311948,0.015706534251133993,0.03347063851262249,0.02997406253562216,0.06658078682743887,0.06596869146278303,0.07901416967885513,0.08527835493887717,0.04924859013831107,0.050532822519980744,0.049439938095293755,0.06764814221624842,0.06980387534104258,0.06762421098005618,0.06278023246143523,0.07661171183823737,0.055872468693349345,0.053753839067334344,0.018735994739745448,0.03288894174446042,0.0882837885104452,0.09661083624908946,0.09980107719241134,0.10384707758048746,0.09592924006751272,0.10772245909245909,0.03364159025956189,0.02725546086687182,0.03669272722748936,0.04741394163894277,0.06294906647344665,0.05484161134180451,0.048283069586984965,0.060069142979198575,0.04512820857964523,0.056894525567137824,0.043758755850438265,0.03248940258435668,0.1710216329694941,0.21839097192770796,0.07178150434793806,0.08937060700485319,0.02437864575270158,0.02205126206008801,0.03385683576443899,0.03825254981644518,0.09414420961238489,0.09452250156744528,0.0341156995292309,0.03633200039597847,0.03587941595093758,0.01927027647716371,0.08783748783151947,0.07962048207255758,0.07495819011289377,0.08952652894208674,0.06958294102048537,0.08681042053087311,0.08361921708846924,0.07957836512280583,0.10760499395823163,0.0895297182469422,0.02123177366021175,0.09666319923574489,0.09677875492918506,0.08398639199424862,0.0462548447291826,0.042734975378266316,0.006065134244819049,0.026709662518768038,0.03216299157926614,0.03668576012829216,0.03514317593552078,0.039489483362826684,0.08382565778597771,0.03224957347456313,0.1228971242094177,0.11051843252707429],\"type\":\"scatter3d\"}],                        {\"template\":{\"data\":{\"histogram2dcontour\":[{\"type\":\"histogram2dcontour\",\"colorbar\":{\"outlinewidth\":0,\"ticks\":\"\"},\"colorscale\":[[0.0,\"#0d0887\"],[0.1111111111111111,\"#46039f\"],[0.2222222222222222,\"#7201a8\"],[0.3333333333333333,\"#9c179e\"],[0.4444444444444444,\"#bd3786\"],[0.5555555555555556,\"#d8576b\"],[0.6666666666666666,\"#ed7953\"],[0.7777777777777778,\"#fb9f3a\"],[0.8888888888888888,\"#fdca26\"],[1.0,\"#f0f921\"]]}],\"choropleth\":[{\"type\":\"choropleth\",\"colorbar\":{\"outlinewidth\":0,\"ticks\":\"\"}}],\"histogram2d\":[{\"type\":\"histogram2d\",\"colorbar\":{\"outlinewidth\":0,\"ticks\":\"\"},\"colorscale\":[[0.0,\"#0d0887\"],[0.1111111111111111,\"#46039f\"],[0.2222222222222222,\"#7201a8\"],[0.3333333333333333,\"#9c179e\"],[0.4444444444444444,\"#bd3786\"],[0.5555555555555556,\"#d8576b\"],[0.6666666666666666,\"#ed7953\"],[0.7777777777777778,\"#fb9f3a\"],[0.8888888888888888,\"#fdca26\"],[1.0,\"#f0f921\"]]}],\"heatmap\":[{\"type\":\"heatmap\",\"colorbar\":{\"outlinewidth\":0,\"ticks\":\"\"},\"colorscale\":[[0.0,\"#0d0887\"],[0.1111111111111111,\"#46039f\"],[0.2222222222222222,\"#7201a8\"],[0.3333333333333333,\"#9c179e\"],[0.4444444444444444,\"#bd3786\"],[0.5555555555555556,\"#d8576b\"],[0.6666666666666666,\"#ed7953\"],[0.7777777777777778,\"#fb9f3a\"],[0.8888888888888888,\"#fdca26\"],[1.0,\"#f0f921\"]]}],\"heatmapgl\":[{\"type\":\"heatmapgl\",\"colorbar\":{\"outlinewidth\":0,\"ticks\":\"\"},\"colorscale\":[[0.0,\"#0d0887\"],[0.1111111111111111,\"#46039f\"],[0.2222222222222222,\"#7201a8\"],[0.3333333333333333,\"#9c179e\"],[0.4444444444444444,\"#bd3786\"],[0.5555555555555556,\"#d8576b\"],[0.6666666666666666,\"#ed7953\"],[0.7777777777777778,\"#fb9f3a\"],[0.8888888888888888,\"#fdca26\"],[1.0,\"#f0f921\"]]}],\"contourcarpet\":[{\"type\":\"contourcarpet\",\"colorbar\":{\"outlinewidth\":0,\"ticks\":\"\"}}],\"contour\":[{\"type\":\"contour\",\"colorbar\":{\"outlinewidth\":0,\"ticks\":\"\"},\"colorscale\":[[0.0,\"#0d0887\"],[0.1111111111111111,\"#46039f\"],[0.2222222222222222,\"#7201a8\"],[0.3333333333333333,\"#9c179e\"],[0.4444444444444444,\"#bd3786\"],[0.5555555555555556,\"#d8576b\"],[0.6666666666666666,\"#ed7953\"],[0.7777777777777778,\"#fb9f3a\"],[0.8888888888888888,\"#fdca26\"],[1.0,\"#f0f921\"]]}],\"surface\":[{\"type\":\"surface\",\"colorbar\":{\"outlinewidth\":0,\"ticks\":\"\"},\"colorscale\":[[0.0,\"#0d0887\"],[0.1111111111111111,\"#46039f\"],[0.2222222222222222,\"#7201a8\"],[0.3333333333333333,\"#9c179e\"],[0.4444444444444444,\"#bd3786\"],[0.5555555555555556,\"#d8576b\"],[0.6666666666666666,\"#ed7953\"],[0.7777777777777778,\"#fb9f3a\"],[0.8888888888888888,\"#fdca26\"],[1.0,\"#f0f921\"]]}],\"mesh3d\":[{\"type\":\"mesh3d\",\"colorbar\":{\"outlinewidth\":0,\"ticks\":\"\"}}],\"scatter\":[{\"fillpattern\":{\"fillmode\":\"overlay\",\"size\":10,\"solidity\":0.2},\"type\":\"scatter\"}],\"parcoords\":[{\"type\":\"parcoords\",\"line\":{\"colorbar\":{\"outlinewidth\":0,\"ticks\":\"\"}}}],\"scatterpolargl\":[{\"type\":\"scatterpolargl\",\"marker\":{\"colorbar\":{\"outlinewidth\":0,\"ticks\":\"\"}}}],\"bar\":[{\"error_x\":{\"color\":\"#2a3f5f\"},\"error_y\":{\"color\":\"#2a3f5f\"},\"marker\":{\"line\":{\"color\":\"#E5ECF6\",\"width\":0.5},\"pattern\":{\"fillmode\":\"overlay\",\"size\":10,\"solidity\":0.2}},\"type\":\"bar\"}],\"scattergeo\":[{\"type\":\"scattergeo\",\"marker\":{\"colorbar\":{\"outlinewidth\":0,\"ticks\":\"\"}}}],\"scatterpolar\":[{\"type\":\"scatterpolar\",\"marker\":{\"colorbar\":{\"outlinewidth\":0,\"ticks\":\"\"}}}],\"histogram\":[{\"marker\":{\"pattern\":{\"fillmode\":\"overlay\",\"size\":10,\"solidity\":0.2}},\"type\":\"histogram\"}],\"scattergl\":[{\"type\":\"scattergl\",\"marker\":{\"colorbar\":{\"outlinewidth\":0,\"ticks\":\"\"}}}],\"scatter3d\":[{\"type\":\"scatter3d\",\"line\":{\"colorbar\":{\"outlinewidth\":0,\"ticks\":\"\"}},\"marker\":{\"colorbar\":{\"outlinewidth\":0,\"ticks\":\"\"}}}],\"scattermapbox\":[{\"type\":\"scattermapbox\",\"marker\":{\"colorbar\":{\"outlinewidth\":0,\"ticks\":\"\"}}}],\"scatterternary\":[{\"type\":\"scatterternary\",\"marker\":{\"colorbar\":{\"outlinewidth\":0,\"ticks\":\"\"}}}],\"scattercarpet\":[{\"type\":\"scattercarpet\",\"marker\":{\"colorbar\":{\"outlinewidth\":0,\"ticks\":\"\"}}}],\"carpet\":[{\"aaxis\":{\"endlinecolor\":\"#2a3f5f\",\"gridcolor\":\"white\",\"linecolor\":\"white\",\"minorgridcolor\":\"white\",\"startlinecolor\":\"#2a3f5f\"},\"baxis\":{\"endlinecolor\":\"#2a3f5f\",\"gridcolor\":\"white\",\"linecolor\":\"white\",\"minorgridcolor\":\"white\",\"startlinecolor\":\"#2a3f5f\"},\"type\":\"carpet\"}],\"table\":[{\"cells\":{\"fill\":{\"color\":\"#EBF0F8\"},\"line\":{\"color\":\"white\"}},\"header\":{\"fill\":{\"color\":\"#C8D4E3\"},\"line\":{\"color\":\"white\"}},\"type\":\"table\"}],\"barpolar\":[{\"marker\":{\"line\":{\"color\":\"#E5ECF6\",\"width\":0.5},\"pattern\":{\"fillmode\":\"overlay\",\"size\":10,\"solidity\":0.2}},\"type\":\"barpolar\"}],\"pie\":[{\"automargin\":true,\"type\":\"pie\"}]},\"layout\":{\"autotypenumbers\":\"strict\",\"colorway\":[\"#636efa\",\"#EF553B\",\"#00cc96\",\"#ab63fa\",\"#FFA15A\",\"#19d3f3\",\"#FF6692\",\"#B6E880\",\"#FF97FF\",\"#FECB52\"],\"font\":{\"color\":\"#2a3f5f\"},\"hovermode\":\"closest\",\"hoverlabel\":{\"align\":\"left\"},\"paper_bgcolor\":\"white\",\"plot_bgcolor\":\"#E5ECF6\",\"polar\":{\"bgcolor\":\"#E5ECF6\",\"angularaxis\":{\"gridcolor\":\"white\",\"linecolor\":\"white\",\"ticks\":\"\"},\"radialaxis\":{\"gridcolor\":\"white\",\"linecolor\":\"white\",\"ticks\":\"\"}},\"ternary\":{\"bgcolor\":\"#E5ECF6\",\"aaxis\":{\"gridcolor\":\"white\",\"linecolor\":\"white\",\"ticks\":\"\"},\"baxis\":{\"gridcolor\":\"white\",\"linecolor\":\"white\",\"ticks\":\"\"},\"caxis\":{\"gridcolor\":\"white\",\"linecolor\":\"white\",\"ticks\":\"\"}},\"coloraxis\":{\"colorbar\":{\"outlinewidth\":0,\"ticks\":\"\"}},\"colorscale\":{\"sequential\":[[0.0,\"#0d0887\"],[0.1111111111111111,\"#46039f\"],[0.2222222222222222,\"#7201a8\"],[0.3333333333333333,\"#9c179e\"],[0.4444444444444444,\"#bd3786\"],[0.5555555555555556,\"#d8576b\"],[0.6666666666666666,\"#ed7953\"],[0.7777777777777778,\"#fb9f3a\"],[0.8888888888888888,\"#fdca26\"],[1.0,\"#f0f921\"]],\"sequentialminus\":[[0.0,\"#0d0887\"],[0.1111111111111111,\"#46039f\"],[0.2222222222222222,\"#7201a8\"],[0.3333333333333333,\"#9c179e\"],[0.4444444444444444,\"#bd3786\"],[0.5555555555555556,\"#d8576b\"],[0.6666666666666666,\"#ed7953\"],[0.7777777777777778,\"#fb9f3a\"],[0.8888888888888888,\"#fdca26\"],[1.0,\"#f0f921\"]],\"diverging\":[[0,\"#8e0152\"],[0.1,\"#c51b7d\"],[0.2,\"#de77ae\"],[0.3,\"#f1b6da\"],[0.4,\"#fde0ef\"],[0.5,\"#f7f7f7\"],[0.6,\"#e6f5d0\"],[0.7,\"#b8e186\"],[0.8,\"#7fbc41\"],[0.9,\"#4d9221\"],[1,\"#276419\"]]},\"xaxis\":{\"gridcolor\":\"white\",\"linecolor\":\"white\",\"ticks\":\"\",\"title\":{\"standoff\":15},\"zerolinecolor\":\"white\",\"automargin\":true,\"zerolinewidth\":2},\"yaxis\":{\"gridcolor\":\"white\",\"linecolor\":\"white\",\"ticks\":\"\",\"title\":{\"standoff\":15},\"zerolinecolor\":\"white\",\"automargin\":true,\"zerolinewidth\":2},\"scene\":{\"xaxis\":{\"backgroundcolor\":\"#E5ECF6\",\"gridcolor\":\"white\",\"linecolor\":\"white\",\"showbackground\":true,\"ticks\":\"\",\"zerolinecolor\":\"white\",\"gridwidth\":2},\"yaxis\":{\"backgroundcolor\":\"#E5ECF6\",\"gridcolor\":\"white\",\"linecolor\":\"white\",\"showbackground\":true,\"ticks\":\"\",\"zerolinecolor\":\"white\",\"gridwidth\":2},\"zaxis\":{\"backgroundcolor\":\"#E5ECF6\",\"gridcolor\":\"white\",\"linecolor\":\"white\",\"showbackground\":true,\"ticks\":\"\",\"zerolinecolor\":\"white\",\"gridwidth\":2}},\"shapedefaults\":{\"line\":{\"color\":\"#2a3f5f\"}},\"annotationdefaults\":{\"arrowcolor\":\"#2a3f5f\",\"arrowhead\":0,\"arrowwidth\":1},\"geo\":{\"bgcolor\":\"white\",\"landcolor\":\"#E5ECF6\",\"subunitcolor\":\"white\",\"showland\":true,\"showlakes\":true,\"lakecolor\":\"white\"},\"title\":{\"x\":0.05},\"mapbox\":{\"style\":\"light\"}}}},                        {\"responsive\": true}                    ).then(function(){\n",
       "                            \n",
       "var gd = document.getElementById('c577ea7c-dd44-47eb-b214-942f86d6db76');\n",
       "var x = new MutationObserver(function (mutations, observer) {{\n",
       "        var display = window.getComputedStyle(gd).display;\n",
       "        if (!display || display === 'none') {{\n",
       "            console.log([gd, 'removed!']);\n",
       "            Plotly.purge(gd);\n",
       "            observer.disconnect();\n",
       "        }}\n",
       "}});\n",
       "\n",
       "// Listen for the removal of the full notebook cells\n",
       "var notebookContainer = gd.closest('#notebook-container');\n",
       "if (notebookContainer) {{\n",
       "    x.observe(notebookContainer, {childList: true});\n",
       "}}\n",
       "\n",
       "// Listen for the clearing of the current output cell\n",
       "var outputEl = gd.closest('.output');\n",
       "if (outputEl) {{\n",
       "    x.observe(outputEl, {childList: true});\n",
       "}}\n",
       "\n",
       "                        })                };                });            </script>        </div>"
      ]
     },
     "metadata": {},
     "output_type": "display_data"
    }
   ],
   "source": [
    "fig = go.Figure(data=[go.Scatter3d(x=e_vec[:,384], y=e_vec[:,385], z=e_vec[:,386],\n",
    "                                   mode='markers')])\n",
    "fig.show()"
   ]
  },
  {
   "cell_type": "markdown",
   "metadata": {},
   "source": [
    "#### Adjacency spectrual embedding"
   ]
  },
  {
   "cell_type": "code",
   "execution_count": 48,
   "metadata": {},
   "outputs": [
    {
     "data": {
      "text/plain": [
       "<matplotlib.collections.PathCollection at 0x7fe35e9bb1f0>"
      ]
     },
     "execution_count": 48,
     "metadata": {},
     "output_type": "execute_result"
    },
    {
     "data": {
      "image/png": "[encoded data removed]",
      "text/plain": [
       "<Figure size 1080x360 with 3 Axes>"
      ]
     },
     "metadata": {
      "needs_background": "light"
     },
     "output_type": "display_data"
    }
   ],
   "source": [
    "from sklearn.mixture import GaussianMixture\n",
    "model= GaussianMixture(n_components=2, init_params=\"random\", n_init=100)\n",
    "label= model.fit(e_vec[:,384:386]).predict(e_vec[:,384:386])\n",
    "plt.figure(figsize=(15,5), tight_layout=\"tight\")\n",
    "plt.subplot(1,3,1)\n",
    "plt.scatter(e_vec[:,385],e_vec[:,386], c=label)\n",
    "\n",
    "plt.subplot(1,3,2)\n",
    "plt.scatter(e_vec[:,384],e_vec[:,386], c= label)\n",
    "\n",
    "plt.subplot(1,3,3)\n",
    "plt.scatter(e_vec[:,384],e_vec[:,385], c=label)"
   ]
  },
  {
   "cell_type": "markdown",
   "metadata": {},
   "source": [
    "### Quality Score"
   ]
  },
  {
   "cell_type": "code",
   "execution_count": null,
   "metadata": {},
   "outputs": [],
   "source": []
  },
  {
   "cell_type": "markdown",
   "metadata": {},
   "source": [
    "## Laplacian spectrual embeding"
   ]
  },
  {
   "cell_type": "code",
   "execution_count": 74,
   "metadata": {},
   "outputs": [],
   "source": [
    "D=np.zeros([len(A),len(A)])"
   ]
  },
  {
   "cell_type": "code",
   "execution_count": 86,
   "metadata": {},
   "outputs": [],
   "source": [
    "for i in range(len(overall_connection)):\n",
    "    D[i][i]= overall_connection[i].sum()"
   ]
  },
  {
   "cell_type": "code",
   "execution_count": 88,
   "metadata": {},
   "outputs": [],
   "source": [
    "L= D-overall_connection"
   ]
  },
  {
   "cell_type": "code",
   "execution_count": 92,
   "metadata": {
    "scrolled": false
   },
   "outputs": [],
   "source": [
    "eig_val_L, eig_vec_L = np.linalg.eigh(L)"
   ]
  },
  {
   "cell_type": "code",
   "execution_count": 95,
   "metadata": {},
   "outputs": [
    {
     "data": {
      "text/plain": [
       "Text(0, 0.5, 'eigen value')"
      ]
     },
     "execution_count": 95,
     "metadata": {},
     "output_type": "execute_result"
    },
    {
     "data": {
      "image/png": "[encoded data removed]",
      "text/plain": [
       "<Figure size 432x288 with 1 Axes>"
      ]
     },
     "metadata": {
      "needs_background": "light"
     },
     "output_type": "display_data"
    }
   ],
   "source": [
    "plt.plot(eig_val_L)\n",
    "plt.xlabel(\" step\")\n",
    "plt.ylabel(\"eigen value\")"
   ]
  },
  {
   "cell_type": "code",
   "execution_count": 99,
   "metadata": {},
   "outputs": [
    {
     "name": "stdout",
     "output_type": "stream",
     "text": [
      "derivative max is 1567.6575138339992 when the step is (array([386]),)\n"
     ]
    },
    {
     "data": {
      "image/png": "[encoded data removed]",
      "text/plain": [
       "<Figure size 432x288 with 1 Axes>"
      ]
     },
     "metadata": {
      "needs_background": "light"
     },
     "output_type": "display_data"
    }
   ],
   "source": [
    "plt.plot(np.diff(eig_val_L))\n",
    "plt.xlabel(\" step\")\n",
    "plt.ylabel(\"derivatice of eigen value\")\n",
    "print(f\"derivative max is {max(eig_val_L)} when the step is {np.where(eig_val_L==max(eig_val_L))}\")"
   ]
  },
  {
   "cell_type": "code",
   "execution_count": 100,
   "metadata": {},
   "outputs": [
    {
     "data": {
      "text/plain": [
       "1567.6575138339992"
      ]
     },
     "execution_count": 100,
     "metadata": {},
     "output_type": "execute_result"
    }
   ],
   "source": [
    "max(eig_val_L)"
   ]
  },
  {
   "cell_type": "code",
   "execution_count": null,
   "metadata": {},
   "outputs": [],
   "source": []
  },
  {
   "cell_type": "code",
   "execution_count": null,
   "metadata": {},
   "outputs": [],
   "source": []
  },
  {
   "cell_type": "code",
   "execution_count": null,
   "metadata": {},
   "outputs": [],
   "source": []
  },
  {
   "cell_type": "code",
   "execution_count": null,
   "metadata": {},
   "outputs": [],
   "source": []
  },
  {
   "cell_type": "code",
   "execution_count": null,
   "metadata": {},
   "outputs": [],
   "source": []
  }
 ],
 "metadata": {
  "@webio": {
   "lastCommId": null,
   "lastKernelId": null
  },
  "kernelspec": {
   "display_name": "Python 3 (ipykernel)",
   "language": "python",
   "name": "python3"
  },
  "language_info": {
   "codemirror_mode": {
    "name": "ipython",
    "version": 3
   },
   "file_extension": ".py",
   "mimetype": "text/x-python",
   "name": "python",
   "nbconvert_exporter": "python",
   "pygments_lexer": "ipython3",
   "version": "3.9.7"
  }
 },
 "nbformat": 4,
 "nbformat_minor": 4
}
